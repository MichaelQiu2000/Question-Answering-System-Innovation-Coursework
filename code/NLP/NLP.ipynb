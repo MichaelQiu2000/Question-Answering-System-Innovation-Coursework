{
 "cells": [
  {
   "cell_type": "markdown",
   "id": "9e4de301",
   "metadata": {},
   "source": [
    "LTP  \n",
    "http://ltp.ai/docs/quickstart.html#id3   \n",
    "https://github.com/HIT-SCIR/ltp  \n",
    "synonyms    \n",
    "https://www.52nlp.cn/synonyms-%E4%B8%AD%E6%96%87%E8%BF%91%E4%B9%89%E8%AF%8D%E5%B7%A5%E5%85%B7%E5%8C%85  \n",
    "pkuseg   \n",
    "https://gitee.com/mirrors/pkuseg/    \n",
    "https://blog.csdn.net/ljz2016/article/details/103599548  \n",
    "pypinyin  \n",
    "https://pypinyin.readthedocs.io/zh_CN/master/index.html  \n",
    "HanLP  \n",
    "https://github.com/hankcs/HanLP  \n",
    "https://hanlp.hankcs.com/docs/annotations/constituency/ctb.html"
   ]
  },
  {
   "cell_type": "code",
   "execution_count": 1,
   "id": "08cf47ef",
   "metadata": {},
   "outputs": [
    {
     "name": "stdout",
     "output_type": "stream",
     "text": [
      "smart_open library not found; falling back to local-filesystem-only\n",
      "[jieba] default dict file path ..\\data\\vocab.txt\n",
      "[jieba] default dict file path ..\\data\\vocab.txt\n",
      "[jieba] load default dict ..\\data\\vocab.txt ...\n",
      "[jieba] load default dict ..\\data\\vocab.txt ...\n",
      ">> Synonyms load wordseg dict [C:\\Users\\USER\\anaconda3\\envs\\nlp\\lib\\site-packages\\synonyms\\data\\vocab.txt] ... \n",
      ">> Synonyms on loading stopwords [C:\\Users\\USER\\anaconda3\\envs\\nlp\\lib\\site-packages\\synonyms\\data\\stopwords.txt] ...\n",
      "[Synonyms] on loading vectors [C:\\Users\\USER\\anaconda3\\envs\\nlp\\lib\\site-packages\\synonyms\\data\\words.vector.gz] ...\n"
     ]
    },
    {
     "name": "stderr",
     "output_type": "stream",
     "text": [
      "                                   \r"
     ]
    }
   ],
   "source": [
    "from ltp import LTP\n",
    "# 加载基础模型\n",
    "ltp = LTP(path='base.tgz') \n",
    "import synonyms\n",
    "import pkuseg\n",
    "import hanlp\n",
    "from hanlp.components.mtl.multi_task_learning import MultiTaskLearning\n",
    "from hanlp.components.mtl.tasks.tok.tag_tok import TaggingTokenization\n",
    "import os\n",
    "# 默认使用CPU\n",
    "os.environ[\"CUDA_VISIBLE_DEVICES\"]=\"\"\n",
    "HanLP: MultiTaskLearning = hanlp.load(hanlp.pretrained.mtl.CLOSE_TOK_POS_NER_SRL_DEP_SDP_CON_ELECTRA_BASE_ZH) # 世界最大中文语料库\n",
    "tok: TaggingTokenization = HanLP['tok/fine']"
   ]
  },
  {
   "cell_type": "code",
   "execution_count": 2,
   "id": "e373b362",
   "metadata": {},
   "outputs": [],
   "source": [
    "from IPython.core.interactiveshell import InteractiveShell \n",
    "InteractiveShell.ast_node_interactivity = 'all' #默认为'last'"
   ]
  },
  {
   "cell_type": "code",
   "execution_count": 3,
   "id": "3dd811a1",
   "metadata": {},
   "outputs": [],
   "source": [
    "import pandas as pd\n",
    "import numpy as np\n",
    "import re\n",
    "from collections import ChainMap\n",
    "from pypinyin import lazy_pinyin\n",
    "from difflib import SequenceMatcher"
   ]
  },
  {
   "cell_type": "code",
   "execution_count": 4,
   "id": "a158e186",
   "metadata": {},
   "outputs": [],
   "source": [
    "data=pd.read_excel('理财产品属性.xlsx', index_col=0)"
   ]
  },
  {
   "cell_type": "code",
   "execution_count": 5,
   "id": "00f71755",
   "metadata": {},
   "outputs": [
    {
     "data": {
      "text/html": [
       "<div>\n",
       "<style scoped>\n",
       "    .dataframe tbody tr th:only-of-type {\n",
       "        vertical-align: middle;\n",
       "    }\n",
       "\n",
       "    .dataframe tbody tr th {\n",
       "        vertical-align: top;\n",
       "    }\n",
       "\n",
       "    .dataframe thead th {\n",
       "        text-align: right;\n",
       "    }\n",
       "</style>\n",
       "<table border=\"1\" class=\"dataframe\">\n",
       "  <thead>\n",
       "    <tr style=\"text-align: right;\">\n",
       "      <th></th>\n",
       "      <th>产品名称</th>\n",
       "      <th>产品代码</th>\n",
       "      <th>产品登记编码</th>\n",
       "      <th>本金及理财收益</th>\n",
       "      <th>巨额赎回</th>\n",
       "      <th>认购/申购上限</th>\n",
       "      <th>理财计划到期日</th>\n",
       "      <th>认购、申购及赎回方式</th>\n",
       "      <th>理财币种</th>\n",
       "      <th>产品类型</th>\n",
       "      <th>...</th>\n",
       "      <th>发行规模</th>\n",
       "      <th>认购起点</th>\n",
       "      <th>认购期</th>\n",
       "      <th>认购登记日</th>\n",
       "      <th>理财计划成立日</th>\n",
       "      <th>估值日</th>\n",
       "      <th>理财计划申购和赎回</th>\n",
       "      <th>费用</th>\n",
       "      <th>税款</th>\n",
       "      <th>投资策略</th>\n",
       "    </tr>\n",
       "  </thead>\n",
       "  <tbody>\n",
       "    <tr>\n",
       "      <th>0</th>\n",
       "      <td>招商银行年年享5号理财计划</td>\n",
       "      <td>107205</td>\n",
       "      <td>C1030819000925</td>\n",
       "      <td>本理财计划不保证本金且不保证理财收益，收益随投资收益浮动。</td>\n",
       "      <td>投资者可于赎回日内向招商银行提出赎回申请，若理财计划每日净赎回额超过本理财计划上一工作日份额...</td>\n",
       "      <td>5000万元</td>\n",
       "      <td>2049年7月12日</td>\n",
       "      <td>个人投资者可通过招商银行各营业网点、招商银行财富账户、个人银行专业版、大众版或者招商银行认可...</td>\n",
       "      <td>人民币</td>\n",
       "      <td>固定收益类</td>\n",
       "      <td>...</td>\n",
       "      <td>1亿份-20亿份</td>\n",
       "      <td>1万份</td>\n",
       "      <td>2019年7月4日10:00-2019年7月11日17：00</td>\n",
       "      <td>2019年7月12日</td>\n",
       "      <td>2019年7月12日</td>\n",
       "      <td>本理财计划存续期内，每周三及开放日（或理财计划实际到期日）为估值日，如周三为非工作日，则估值...</td>\n",
       "      <td>本理财计划每12个月为一个投资周期，投资者可在每个投资周期结束日前7个工作日（含）至该投资周...</td>\n",
       "      <td>1.认/申购费：本理财计划不收取认/申购费。2.固定投资管理费：招商银行收取理财计划固定投资...</td>\n",
       "      <td>本理财计划运作过程中涉及的各纳税主体，其纳税义务按国家税收法律、法规执行。除法律法规特别要求...</td>\n",
       "      <td>&lt;table border=\"1\" cellspacing=\"0\" class=\"dataf...</td>\n",
       "    </tr>\n",
       "    <tr>\n",
       "      <th>1</th>\n",
       "      <td>招商银行年年享6号理财计划</td>\n",
       "      <td>107206</td>\n",
       "      <td>C1030819001083</td>\n",
       "      <td>本理财计划不保证本金且不保证理财收益，收益随投资收益浮动。</td>\n",
       "      <td>投资者可于赎回日内向招商银行提出赎回申请，若理财计划每日净赎回额超过本理财计划上一工作日份额...</td>\n",
       "      <td>5000万元</td>\n",
       "      <td>2049年8月13日</td>\n",
       "      <td>个人投资者可通过招商银行各营业网点、招商银行财富账户、个人银行专业版、大众版或者招商银行认可...</td>\n",
       "      <td>人民币</td>\n",
       "      <td>固定收益类</td>\n",
       "      <td>...</td>\n",
       "      <td>1亿份-30亿份</td>\n",
       "      <td>1万份</td>\n",
       "      <td>2019年8月5日10:00-2019年8月12日17：00</td>\n",
       "      <td>2019年8月13日</td>\n",
       "      <td>2019年8月13日</td>\n",
       "      <td>本理财计划存续期内，每周三及开放日（或理财计划实际到期日）为估值日，如周三为非工作日，则估值...</td>\n",
       "      <td>本理财计划每12个月为一个投资周期，投资者可在每个投资周期结束日前7个工作日（含）至该投资周...</td>\n",
       "      <td>1.认/申购费：本理财计划不收取认/申购费。2.固定投资管理费：招商银行收取理财计划固定投资...</td>\n",
       "      <td>本理财计划运作过程中涉及的各纳税主体，其纳税义务按国家税收法律、法规执行。除法律法规特别要求...</td>\n",
       "      <td>&lt;table border=\"1\" cellspacing=\"0\" class=\"dataf...</td>\n",
       "    </tr>\n",
       "    <tr>\n",
       "      <th>2</th>\n",
       "      <td>招商银行美元金葵一年定开1号理财计划</td>\n",
       "      <td>2101</td>\n",
       "      <td>C1030819001500</td>\n",
       "      <td>本理财计划不保障本金且不保证理财收益，收益随投资收益浮动。</td>\n",
       "      <td>投资者可于赎回日内向招商银行提出赎回申请，在理财计划存续期内的每个赎回日，若理财计划净赎回份...</td>\n",
       "      <td>1000万美元</td>\n",
       "      <td>2029年11月7日</td>\n",
       "      <td>个人投资者可通过招商银行各营业网点、招商银行财富账户、个人银行专业版、大众版或者招商银行认可...</td>\n",
       "      <td>美元</td>\n",
       "      <td>固定收益类</td>\n",
       "      <td>...</td>\n",
       "      <td>2000万份-3亿份</td>\n",
       "      <td>2000份</td>\n",
       "      <td>2019年10月30日10:00-2019年11月6日17:00</td>\n",
       "      <td>2019年11月7日</td>\n",
       "      <td>2019年11月7日</td>\n",
       "      <td>本理财计划存续期内，每周一及开放日（或理财计划实际到期日）为估值日，如周一为非交易日，则估值...</td>\n",
       "      <td>本理财计划每12个月为一个投资周期，投资者可在申购、赎回期提交本理财计划的申购、赎回申请。一...</td>\n",
       "      <td>1.认/申购费：本理财计划不收取认/申购费。2.固定投资管理费：招商银行收取理财计划固定投资...</td>\n",
       "      <td>本理财计划运作过程中涉及的各纳税主体，其纳税义务按国家税收法律、法规执行。除法律法规特别要求...</td>\n",
       "      <td>&lt;table border=\"1\" cellspacing=\"0\" class=\"dataf...</td>\n",
       "    </tr>\n",
       "  </tbody>\n",
       "</table>\n",
       "<p>3 rows × 25 columns</p>\n",
       "</div>"
      ],
      "text/plain": [
       "                 产品名称    产品代码          产品登记编码                        本金及理财收益  \\\n",
       "0       招商银行年年享5号理财计划  107205  C1030819000925  本理财计划不保证本金且不保证理财收益，收益随投资收益浮动。   \n",
       "1       招商银行年年享6号理财计划  107206  C1030819001083  本理财计划不保证本金且不保证理财收益，收益随投资收益浮动。   \n",
       "2  招商银行美元金葵一年定开1号理财计划    2101  C1030819001500  本理财计划不保障本金且不保证理财收益，收益随投资收益浮动。   \n",
       "\n",
       "                                                巨额赎回  认购/申购上限     理财计划到期日  \\\n",
       "0  投资者可于赎回日内向招商银行提出赎回申请，若理财计划每日净赎回额超过本理财计划上一工作日份额...   5000万元  2049年7月12日   \n",
       "1  投资者可于赎回日内向招商银行提出赎回申请，若理财计划每日净赎回额超过本理财计划上一工作日份额...   5000万元  2049年8月13日   \n",
       "2  投资者可于赎回日内向招商银行提出赎回申请，在理财计划存续期内的每个赎回日，若理财计划净赎回份...  1000万美元  2029年11月7日   \n",
       "\n",
       "                                          认购、申购及赎回方式 理财币种   产品类型  ...  \\\n",
       "0  个人投资者可通过招商银行各营业网点、招商银行财富账户、个人银行专业版、大众版或者招商银行认可...  人民币  固定收益类  ...   \n",
       "1  个人投资者可通过招商银行各营业网点、招商银行财富账户、个人银行专业版、大众版或者招商银行认可...  人民币  固定收益类  ...   \n",
       "2  个人投资者可通过招商银行各营业网点、招商银行财富账户、个人银行专业版、大众版或者招商银行认可...   美元  固定收益类  ...   \n",
       "\n",
       "         发行规模   认购起点                               认购期       认购登记日  \\\n",
       "0    1亿份-20亿份    1万份    2019年7月4日10:00-2019年7月11日17：00  2019年7月12日   \n",
       "1    1亿份-30亿份    1万份    2019年8月5日10:00-2019年8月12日17：00  2019年8月13日   \n",
       "2  2000万份-3亿份  2000份  2019年10月30日10:00-2019年11月6日17:00  2019年11月7日   \n",
       "\n",
       "      理财计划成立日                                                估值日  \\\n",
       "0  2019年7月12日  本理财计划存续期内，每周三及开放日（或理财计划实际到期日）为估值日，如周三为非工作日，则估值...   \n",
       "1  2019年8月13日  本理财计划存续期内，每周三及开放日（或理财计划实际到期日）为估值日，如周三为非工作日，则估值...   \n",
       "2  2019年11月7日  本理财计划存续期内，每周一及开放日（或理财计划实际到期日）为估值日，如周一为非交易日，则估值...   \n",
       "\n",
       "                                           理财计划申购和赎回  \\\n",
       "0  本理财计划每12个月为一个投资周期，投资者可在每个投资周期结束日前7个工作日（含）至该投资周...   \n",
       "1  本理财计划每12个月为一个投资周期，投资者可在每个投资周期结束日前7个工作日（含）至该投资周...   \n",
       "2  本理财计划每12个月为一个投资周期，投资者可在申购、赎回期提交本理财计划的申购、赎回申请。一...   \n",
       "\n",
       "                                                  费用  \\\n",
       "0  1.认/申购费：本理财计划不收取认/申购费。2.固定投资管理费：招商银行收取理财计划固定投资...   \n",
       "1  1.认/申购费：本理财计划不收取认/申购费。2.固定投资管理费：招商银行收取理财计划固定投资...   \n",
       "2  1.认/申购费：本理财计划不收取认/申购费。2.固定投资管理费：招商银行收取理财计划固定投资...   \n",
       "\n",
       "                                                  税款  \\\n",
       "0  本理财计划运作过程中涉及的各纳税主体，其纳税义务按国家税收法律、法规执行。除法律法规特别要求...   \n",
       "1  本理财计划运作过程中涉及的各纳税主体，其纳税义务按国家税收法律、法规执行。除法律法规特别要求...   \n",
       "2  本理财计划运作过程中涉及的各纳税主体，其纳税义务按国家税收法律、法规执行。除法律法规特别要求...   \n",
       "\n",
       "                                                投资策略  \n",
       "0  <table border=\"1\" cellspacing=\"0\" class=\"dataf...  \n",
       "1  <table border=\"1\" cellspacing=\"0\" class=\"dataf...  \n",
       "2  <table border=\"1\" cellspacing=\"0\" class=\"dataf...  \n",
       "\n",
       "[3 rows x 25 columns]"
      ]
     },
     "execution_count": 5,
     "metadata": {},
     "output_type": "execute_result"
    }
   ],
   "source": [
    "data.head(3)"
   ]
  },
  {
   "cell_type": "markdown",
   "id": "421dca41",
   "metadata": {},
   "source": [
    "## 生成用户自定义词典"
   ]
  },
  {
   "cell_type": "code",
   "execution_count": 6,
   "id": "f675423e",
   "metadata": {},
   "outputs": [],
   "source": [
    "# 记录列属性进入专有名词库\n",
    "columns = list(data.columns)\n",
    "proper_noun = columns\n",
    "# 将所有理财产品的特定名称和代码加入数据库\n",
    "name = []\n",
    "for col in ['产品名称', '产品代码', '产品登记编码']:\n",
    "    name.append(list(data[col].map(lambda x: str(x)).values))\n",
    "proper_noun = proper_noun + sum(name,[])\n",
    "# 添加金融专有名词\n",
    "with open(\"glossary.txt\", \"r\", encoding='utf-8') as f:\n",
    "    finance_noun = [i[:-1] for i in f.readlines()]\n",
    "proper_noun = proper_noun + finance_noun\n",
    "# 添加每个理财产品系列的专有名词\n",
    "series_noun = ['零售青葵','青葵','美元金葵','金葵','季季开','年年享']\n",
    "proper_noun = proper_noun + series_noun\n",
    "# 重建属性字典\n",
    "# 属性字典\n",
    "attributes = {'本金及理财收益': ['本金', '保本'],\n",
    "              '理财币种': ['货币类型', '理财货币', '投资币种'],\n",
    "              '业绩比较基准': ['收益', '收益上限', '收益下限', '业绩比较基准的下限', '业绩比较基准的上限',\n",
    "                         '理财收益', ],\n",
    "              '发行规模': ['发行规模上限', '发行规模下限'],\n",
    "              '产品类型': ['类型'],\n",
    "              '认购起点': ['认购下限'],\n",
    "              '理财计划申购和赎回': ['投资周期', '理财计划申购和赎回周期'],\n",
    "              '理财计划到期日': ['到期日'],\n",
    "              '募集方式': ['募集方法'],\n",
    "              '投资策略': ['投资比例'],\n",
    "              '认购期': ['认购期上限', '认购期下限', '认购期开始时间', '认购期结束时间'],\n",
    "              '产品名称': ['理财产品']}\n",
    "# 属性字典重构\n",
    "attributes = dict([(i,k) for k in attributes.keys() for i in attributes[k]])\n",
    "proper_noun = proper_noun + list(attributes.keys())\n",
    "# 添加一些属性取值的专有名词\n",
    "attribute_values = {}\n",
    "for col in ['理财币种', '产品类型', '募集方式', '运作方式']:\n",
    "    attribute_values[col] = np.unique(data[col].values).tolist()\n",
    "proper_noun = proper_noun + list(attribute_values.values())\n",
    "# 添加其他专有名词\n",
    "proper_noun = proper_noun + ['理财产品']\n",
    "# 计算最大前向分词窗口\n",
    "max_windows = max([len(i) for i in proper_noun])"
   ]
  },
  {
   "cell_type": "code",
   "execution_count": 7,
   "id": "e1060ae9",
   "metadata": {},
   "outputs": [],
   "source": [
    "# 添加用户自定义词典\n",
    "ltp.add_words(words=proper_noun, max_window=max_windows)"
   ]
  },
  {
   "cell_type": "code",
   "execution_count": 8,
   "id": "37b009f4",
   "metadata": {},
   "outputs": [],
   "source": [
    "# 生成用户词典proper_noun.csv\n",
    "pd.DataFrame(zip(proper_noun,['nz']*len(proper_noun))).to_csv('proper_noun.csv' ,header=0, index=0, sep=u'\\t', encoding='utf_8_sig')"
   ]
  },
  {
   "cell_type": "code",
   "execution_count": 9,
   "id": "27842f4d",
   "metadata": {},
   "outputs": [],
   "source": [
    "# 加载用户词典\n",
    "seg = pkuseg.pkuseg(model_name = \"default\", user_dict = \"./proper_noun.csv\", postag = True)"
   ]
  },
  {
   "cell_type": "code",
   "execution_count": 10,
   "id": "9ab42abe",
   "metadata": {},
   "outputs": [],
   "source": [
    "# 添加用户自定义词典\n",
    "tok.dict_combine = proper_noun"
   ]
  },
  {
   "cell_type": "code",
   "execution_count": null,
   "id": "bb218a7f",
   "metadata": {},
   "outputs": [],
   "source": [
    "# 加载停用词表\n",
    "with open(\"scu_stopwords.txt\", \"r\", encoding='utf-8') as f:\n",
    "    stop_words = f.readlines()\n",
    "stop_words = [sw[:-1] for sw in stop_words]\n",
    "stop_words"
   ]
  },
  {
   "cell_type": "markdown",
   "id": "e24cf3b4",
   "metadata": {},
   "source": [
    "## 构建相对应的词典"
   ]
  },
  {
   "cell_type": "code",
   "execution_count": 12,
   "id": "0d876130",
   "metadata": {},
   "outputs": [],
   "source": [
    "# 系列词典\n",
    "series_dict = series_noun\n",
    "# 名称词典\n",
    "name_dict = [{columns[i]: name[i]} for i in range(3)]\n",
    "# 属性词典\n",
    "attri_dict = columns[3:] + list(attributes.keys()) + ['理财产品']"
   ]
  },
  {
   "cell_type": "code",
   "execution_count": 13,
   "id": "c56f9c12",
   "metadata": {},
   "outputs": [],
   "source": [
    "all_dict = {'系列':series_dict, '名称': name_dict, '属性': attri_dict}"
   ]
  },
  {
   "cell_type": "code",
   "execution_count": 14,
   "id": "6440c3ab",
   "metadata": {},
   "outputs": [],
   "source": [
    "# 加入系列名称的拼音以进行模糊匹配\n",
    "all_dict['系列'] = [all_dict['系列'], [''.join(lazy_pinyin(n)) for n in all_dict['系列']]]"
   ]
  },
  {
   "cell_type": "code",
   "execution_count": 15,
   "id": "bbd8efbc",
   "metadata": {},
   "outputs": [
    {
     "data": {
      "text/plain": [
       "[['零售青葵', '青葵', '美元金葵', '金葵', '季季开', '年年享'],\n",
       " ['lingshouqingkui',\n",
       "  'qingkui',\n",
       "  'meiyuanjinkui',\n",
       "  'jinkui',\n",
       "  'jijikai',\n",
       "  'niannianxiang']]"
      ]
     },
     "execution_count": 15,
     "metadata": {},
     "output_type": "execute_result"
    }
   ],
   "source": [
    "all_dict['系列']"
   ]
  },
  {
   "cell_type": "code",
   "execution_count": 16,
   "id": "3f879b07",
   "metadata": {},
   "outputs": [
    {
     "data": {
      "text/plain": [
       "[{'产品名称': ['招商银行年年享5号理财计划',\n",
       "   '招商银行年年享6号理财计划',\n",
       "   '招商银行美元金葵一年定开1号理财计划',\n",
       "   '招商银行美元金葵一年定开2号理财计划',\n",
       "   '招商银行美元金葵一年定开3号理财计划',\n",
       "   '招商银行美元金葵一年定开4号理财计划',\n",
       "   '招商银行美元金葵一年定开6号理财计划',\n",
       "   '招商银行美元金葵一年定开7号理财计划',\n",
       "   '招商银行美元金葵季季开1号理财计划',\n",
       "   '招商银行美元金葵季季开2号理财计划',\n",
       "   '招商银行美元金葵季季开3号理财计划',\n",
       "   '招商银行美元金葵季季开4号理财计划',\n",
       "   '招商银行美元金葵季季开5号理财计划',\n",
       "   '招商银行美元金葵季季开6号理财计划',\n",
       "   '招商银行零售青葵系列一年半定开1号理财计划',\n",
       "   '招商银行零售青葵系列一年半定开4号理财计划',\n",
       "   '招商银行零售青葵系列一年半定开5号理财计划',\n",
       "   '招商银行零售青葵系列一年定开1号理财计划',\n",
       "   '招商银行零售青葵系列一年定开8号理财计划',\n",
       "   '招商银行零售青葵系列一年定开9号理财计划',\n",
       "   '招商银行零售青葵系列半年定开2号理财计划',\n",
       "   '招商银行零售青葵系列半年定开3号理财计划',\n",
       "   '招商银行零售青葵系列半年定开4号理财计划',\n",
       "   '招商银行青葵系列一年半定开005号理财计划',\n",
       "   '招商银行青葵系列一年半定开006号理财计划',\n",
       "   '招商银行青葵系列一年半定开007号理财计划',\n",
       "   '招商银行青葵系列一年半定开008号理财计划',\n",
       "   '招商银行青葵系列一年半定开009号理财计划',\n",
       "   '招商银行青葵系列一年半定开010号理财计划',\n",
       "   '招商银行青葵系列一年半定开011号理财计划',\n",
       "   '招商银行青葵系列一年半定开012号理财计划',\n",
       "   '招商银行青葵系列一年定开004号理财计划',\n",
       "   '招商银行青葵系列两年定开001号理财计划',\n",
       "   '招商银行青葵系列两年定开002号理财计划',\n",
       "   '招商银行青葵系列两年定开003号理财计划',\n",
       "   '招商银行青葵系列两年定开004号理财计划',\n",
       "   '招商银行青葵系列两年定开005号理财计划',\n",
       "   '招商银行青葵系列两年定开006号理财计划',\n",
       "   '招商银行青葵系列两年定开007号理财计划',\n",
       "   '招商银行青葵系列两年定开008号理财计划',\n",
       "   '招商银行青葵系列两年定开009号理财计划',\n",
       "   '招商银行青葵系列两年定开010号理财计划',\n",
       "   '招商银行青葵系列两年定开011号理财计划',\n",
       "   '招商银行青葵系列两年定开012号理财计划']},\n",
       " {'产品代码': ['107205',\n",
       "   '107206',\n",
       "   '2101',\n",
       "   '2103',\n",
       "   '2105',\n",
       "   '2107',\n",
       "   '2111',\n",
       "   '2113',\n",
       "   '2102',\n",
       "   '2104',\n",
       "   '2106',\n",
       "   '2108',\n",
       "   '2110',\n",
       "   '2112',\n",
       "   '301037',\n",
       "   '301040',\n",
       "   '301041',\n",
       "   '301025',\n",
       "   '301032',\n",
       "   '301033',\n",
       "   '301002',\n",
       "   '301003',\n",
       "   '301004',\n",
       "   '301047',\n",
       "   '301048',\n",
       "   '301049',\n",
       "   '301050',\n",
       "   '301051',\n",
       "   '301052',\n",
       "   '301053',\n",
       "   '301054',\n",
       "   '301082',\n",
       "   '301056',\n",
       "   '301057',\n",
       "   '301058',\n",
       "   '301059',\n",
       "   '301060',\n",
       "   '301061',\n",
       "   '301062',\n",
       "   '301063',\n",
       "   '301064',\n",
       "   '301065',\n",
       "   '301066',\n",
       "   '301067']},\n",
       " {'产品登记编码': ['C1030819000925',\n",
       "   'C1030819001083',\n",
       "   'C1030819001500',\n",
       "   'C1030819001689',\n",
       "   'C1030820000012',\n",
       "   'C1030820000164',\n",
       "   'C1030820000599',\n",
       "   'C1030820000624',\n",
       "   'C1030819001531',\n",
       "   'C1030819001715',\n",
       "   'C1030820000056',\n",
       "   'C1030820000195',\n",
       "   'C1030820000314',\n",
       "   'C1030820000437',\n",
       "   'C1030819000278',\n",
       "   'C1030819000799',\n",
       "   'C1030819000993',\n",
       "   'C1030819000030',\n",
       "   'C1030819000923',\n",
       "   'C1030819000949',\n",
       "   'C1030819000064',\n",
       "   'C1030819000111',\n",
       "   'C1030819000177',\n",
       "   'C1030820000013',\n",
       "   'C1030820000132',\n",
       "   'C1030820000240',\n",
       "   'C1030820000372',\n",
       "   'C1030820000476',\n",
       "   'C1030820000592',\n",
       "   'C1030820000622',\n",
       "   'C1030820000636',\n",
       "   'C1030819001710',\n",
       "   'C1030819001328',\n",
       "   'C1030819001462',\n",
       "   'C1030819001594',\n",
       "   'C1030819001739',\n",
       "   'C1030820000104',\n",
       "   'C1030820000159',\n",
       "   'C1030820000290',\n",
       "   'C1030820000445',\n",
       "   'C1030820000511',\n",
       "   'C1030820000620',\n",
       "   'C1030820000625',\n",
       "   'C1030820000662']}]"
      ]
     },
     "execution_count": 16,
     "metadata": {},
     "output_type": "execute_result"
    }
   ],
   "source": [
    "all_dict['名称']"
   ]
  },
  {
   "cell_type": "code",
   "execution_count": 17,
   "id": "4428522e",
   "metadata": {},
   "outputs": [
    {
     "data": {
      "text/plain": [
       "['本金及理财收益',\n",
       " '巨额赎回',\n",
       " '认购/申购上限',\n",
       " '理财计划到期日',\n",
       " '认购、申购及赎回方式',\n",
       " '理财币种',\n",
       " '产品类型',\n",
       " '募集方式',\n",
       " '运作方式',\n",
       " '业绩比较基准',\n",
       " '理财计划份额',\n",
       " '理财计划份额面值',\n",
       " '发行规模',\n",
       " '认购起点',\n",
       " '认购期',\n",
       " '认购登记日',\n",
       " '理财计划成立日',\n",
       " '估值日',\n",
       " '理财计划申购和赎回',\n",
       " '费用',\n",
       " '税款',\n",
       " '投资策略',\n",
       " '本金',\n",
       " '保本',\n",
       " '货币类型',\n",
       " '理财货币',\n",
       " '投资币种',\n",
       " '收益',\n",
       " '收益上限',\n",
       " '收益下限',\n",
       " '业绩比较基准的下限',\n",
       " '业绩比较基准的上限',\n",
       " '理财收益',\n",
       " '发行规模上限',\n",
       " '发行规模下限',\n",
       " '类型',\n",
       " '认购下限',\n",
       " '投资周期',\n",
       " '理财计划申购和赎回周期',\n",
       " '到期日',\n",
       " '募集方法',\n",
       " '投资比例',\n",
       " '认购期上限',\n",
       " '认购期下限',\n",
       " '认购期开始时间',\n",
       " '认购期结束时间',\n",
       " '理财产品',\n",
       " '理财产品']"
      ]
     },
     "execution_count": 17,
     "metadata": {},
     "output_type": "execute_result"
    }
   ],
   "source": [
    "all_dict['属性']"
   ]
  },
  {
   "cell_type": "markdown",
   "id": "7a13f3fb",
   "metadata": {},
   "source": [
    "## 问题解析"
   ]
  },
  {
   "cell_type": "code",
   "execution_count": 174,
   "id": "86e9e356",
   "metadata": {},
   "outputs": [],
   "source": [
    "# 系列实体查找\n",
    "def find_series(cut, pos, all_dict=all_dict):\n",
    "    # 传入分词结果和对应的词性标注\n",
    "    \n",
    "    # 记录结果\n",
    "    result = {}\n",
    "    # 记录精确匹配结果\n",
    "    series = {}\n",
    "    # 记录模糊匹配结果\n",
    "    series_dim = {}\n",
    "    \n",
    "    if '系列' in cut and ('理财计划' not in ''.join(cut) or '银行' not in ''.join(cut)):\n",
    "        for idx, p in enumerate(pos):\n",
    "            if cut[idx] == '系列':\n",
    "                # 例如用户问：系列有哪些？\n",
    "                if idx != 0:\n",
    "                    if pos[idx-1] == 'nz':\n",
    "                        # 进行分词适配\n",
    "                        if len(cut[idx-1]) < 2 and idx >= 2:\n",
    "                            cut[idx-1] = cut[idx-2] + cut[idx-1]\n",
    "\n",
    "                        # 精确匹配\n",
    "                        if cut[idx-1] in all_dict['系列'][0]:\n",
    "                            series[cut[idx-1]] = cut[idx-1]\n",
    "\n",
    "                        # 基于拼音的模糊匹配\n",
    "                        elif ''.join(lazy_pinyin(cut[idx-1])) in all_dict['系列'][1]:\n",
    "                            i = all_dict['系列'][1].index(''.join(lazy_pinyin(cut[idx-1])))\n",
    "                            series_dim[cut[idx-1]] = all_dict['系列'][0][i]\n",
    "\n",
    "        # 询问系列产品有哪些\n",
    "        sent_return_all = ['系列产品','系列名称','系列列表', '所有系列']\n",
    "        # 如果seires和series_dim都是空，则进行判断是否客户想查询的是所有系列名称\n",
    "        if series == {} and series_dim == {}:\n",
    "            points = [synonyms.compare(sent, ''.join(cut)) for sent in sent_return_all]\n",
    "            if np.mean(points) >= 0.6:\n",
    "                series_dim = {'所有系列':'所有系列'}\n",
    "\n",
    "    result['series'] = series\n",
    "    result['series_dim'] = series_dim\n",
    "    return result\n",
    "    \n",
    "\n",
    "# 衡量两个实体的相似性\n",
    "def similarity(a, b):\n",
    "    # 引用ratio方法，返回序列相似性的度量\n",
    "    points = SequenceMatcher(None, a, b).ratio()\n",
    "    return points\n",
    "\n",
    "\n",
    "# 名称实体查找\n",
    "def find_obj(cut, pos, all_dict=all_dict):\n",
    "    # 传入分词结果和对应的词性标注\n",
    "    \n",
    "    # 记录result\n",
    "    result = {}\n",
    "    # 记录error\n",
    "    error = []\n",
    "    # 记录精确匹配结果\n",
    "    obj = {'产品名称':[], '产品代码':[], '产品登记编码':[]}\n",
    "    # 记录模糊匹配结果\n",
    "    obj_dim = {'产品名称':{}, '产品代码':{}, '产品登记编码':{}}\n",
    "    \n",
    "    # 精确匹配\n",
    "    for idx, p in enumerate(pos):\n",
    "        word = cut[idx]\n",
    "        if p == 'nz' or p =='v':\n",
    "            # 理财计划\n",
    "            if '理财计划' in word:\n",
    "                # 精确匹配\n",
    "                if word in all_dict['名称'][0]['产品名称']:\n",
    "                    obj['产品名称'].append(word)\n",
    "            elif '代码' == word:\n",
    "                # 精确匹配\n",
    "                if cut[idx+1] in all_dict['名称'][1]['产品代码']:\n",
    "                    obj['产品代码'].append(cut[idx+1])\n",
    "            elif 'C' in word:\n",
    "                # 精确匹配\n",
    "                if word in all_dict['名称'][2]['产品登记编码']:\n",
    "                     obj['产品登记编码'].append(word)\n",
    "                \n",
    "    \n",
    "    # 对理财产品名称进行合并处理\n",
    "    # 如果理财计划被单独分开了，则认为客户可能使用的是模糊匹配，故对理财产品名称进行合并\n",
    "    if '理财计划' in cut:\n",
    "        # 记录开头\n",
    "        start = []\n",
    "        # 记录结尾\n",
    "        end = []   \n",
    "        for idx, word in enumerate(cut):\n",
    "            if '银行' in word and '理财计划' not in word:\n",
    "                start.append(idx)\n",
    "            elif '理财计划' in word and '银行' not in word:\n",
    "                end.append(idx)\n",
    "        if len(start) != len(end):\n",
    "            error.append('传入理财产品名称格式错误：请以\"xx银行\"为开头，\"理财计划\"为结尾')\n",
    "        else:\n",
    "            names = [''.join(n) for n in [cut[s:e+1] for s,e in zip(start, end)]]\n",
    "            recommend = [(name, n, similarity(n,name)) for n in all_dict['名称'][0]['产品名称'] for name in names]\n",
    "            rec_dict = {}\n",
    "            for rec in recommend:\n",
    "                 rec_dict.setdefault(rec[0], []).append(rec[1:])\n",
    "            for key in rec_dict.keys():\n",
    "                recommend = sorted(rec_dict[key], key = lambda x:x[1], reverse=True)\n",
    "                obj_dim['产品名称'][key] = [rec[0] for rec in recommend[:5]]\n",
    "                # 直接以相似度最高的返回\n",
    "                obj['产品名称'].append(recommend[0][0])\n",
    "    \n",
    "    # 对产品代码进行模糊匹配\n",
    "    if '代码' in cut:\n",
    "        # 记录代码位置\n",
    "        code = []\n",
    "        for idx, word in enumerate(cut):\n",
    "            if '代码' == word and cut[idx+1] not in obj['产品代码'] and 'C' not in cut[idx+1]:\n",
    "                code.append(idx+1)\n",
    "        \n",
    "        codes = [cut[c] for c in code]\n",
    "        recommend = [(code, c, similarity(code,c)) for c in all_dict['名称'][1]['产品代码'] for code in codes]\n",
    "        rec_dict = {}\n",
    "        for rec in recommend:\n",
    "             rec_dict.setdefault(rec[0], []).append(rec[1:])\n",
    "        for key in rec_dict.keys():\n",
    "            recommend = sorted(rec_dict[key], key = lambda x:x[1], reverse=True)\n",
    "            obj_dim['产品代码'][key] = [rec[0] for rec in recommend[:5]]\n",
    "            # 直接以相似度最高的返回\n",
    "            obj['产品代码'].append(recommend[0][0])\n",
    "                \n",
    "    # 对产品登记编码进行模糊匹配\n",
    "    num = np.sum(['C' in c for c in cut])\n",
    "    if num != 0 and num > len(obj['产品登记编码']):\n",
    "        # 记录需要模糊匹配的编码\n",
    "        codes = []\n",
    "        for idx, word in enumerate(cut):\n",
    "            if 'C' in word and word not in obj['产品登记编码']:\n",
    "                codes.append(word)\n",
    "                \n",
    "        recommend = [(code, c, similarity(code,c)) for c in all_dict['名称'][2]['产品登记编码'] for code in codes]\n",
    "        rec_dict = {}\n",
    "        for rec in recommend:\n",
    "             rec_dict.setdefault(rec[0], []).append(rec[1:])\n",
    "        for key in rec_dict.keys():\n",
    "            recommend = sorted(rec_dict[key], key = lambda x:x[1], reverse=True)\n",
    "            obj_dim['产品登记编码'][key] = [rec[0] for rec in recommend[:5]]\n",
    "            # 直接以相似度最高的返回\n",
    "            obj['产品登记编码'].append(recommend[0][0])\n",
    "    \n",
    "    result['obj'] = obj\n",
    "    result['obj_dim'] = obj_dim\n",
    "    result['Error'] = error\n",
    "    return result\n",
    "\n",
    "\n",
    "# 属性识别和归属\n",
    "def find_attribute(string, all_dict=all_dict, seg=seg, HanLP=HanLP, stop_words=stop_words):\n",
    "    \n",
    "    # 记录结果\n",
    "    result = {}\n",
    "    # 记录错误\n",
    "    error = []\n",
    "    # 记录精确匹配实体的属性(属性，动词，值)\n",
    "    attri_list = []\n",
    "    # 记录模糊匹配实体的属性(属性，评分最高的前5个)\n",
    "    attri_dim_dict = {}\n",
    "    # 记录属性的开始和结束(属性，开始，结束)\n",
    "    start_end = []\n",
    "    # 记录实体属性间的关系(属性1，属性2，关系)\n",
    "    attri_rel = []\n",
    "    # 记录精确匹配的需要返回的属性\n",
    "    attri_return = []\n",
    "    # 记录模糊匹配的需要返回的属性\n",
    "    attri_return_dim = {}\n",
    "    # 要返回的属性的语义标注常见词汇\n",
    "    return_value_ = ['多少','哪些','什么','那些']\n",
    "    # 连接词\n",
    "    conjunction = ['并且','并','和','或','而且',',','，']\n",
    "    # ltp分词\n",
    "    segment, hidden = ltp.seg([string])\n",
    "    # ltp语义角色标注\n",
    "    srl = ltp.srl(hidden)\n",
    "    # 整合\n",
    "    segment = pd.DataFrame(segment[0], columns=['word'])\n",
    "    srl = srl[0]\n",
    "\n",
    "    # 寻找语义角色标注中长度为1或大于2的标注（即对应着值或属性：值）\n",
    "    for idx, s in enumerate(srl):\n",
    "        attri_ = ''\n",
    "        value_ = ''\n",
    "        if len(s) == 1:\n",
    "            # 如果为受事者，则向前寻找它的属性\n",
    "            if s[0][0][:2] == 'A1':\n",
    "                attri = s[0]\n",
    "                value_ = segment.iloc[attri[1]: attri[2]+1].T\n",
    "                attri_ = segment.iloc[idx-1, :].T\n",
    "                attri_ = ''.join(attri_.values[0])\n",
    "                value_ = ''.join(value_.values[0])\n",
    "                \n",
    "                 # 如果前一个是连词，也就是没有指明具体的属性，则认为是前一个属性\n",
    "                if attri_ in conjunction:\n",
    "                    # 则为前一个属性\n",
    "                    attri_ = attri_list[-1][0]\n",
    "                \n",
    "                # 这里值即为属性，原本的值是产品或相对应的名称\n",
    "                value = attri\n",
    "                \n",
    "        elif len(s) >= 2:\n",
    "            attri = s[0]\n",
    "            value = s[1]\n",
    "            if len(s) >= 3:\n",
    "                # 如果出现副词\n",
    "                if 'ARGM-ADV' in [i[0] for i in s]:\n",
    "                    i = [i[0] for i in s].index('ARGM-ADV')\n",
    "                    if s[i-1][0][:2] == 'A0':\n",
    "                        attri = s[i-1]\n",
    "                        value = s[i]\n",
    "                else:\n",
    "                    # 取前后紧挨着的两个\n",
    "                    for i in s:\n",
    "                        if i[2] == idx - 1:\n",
    "                            attri = i\n",
    "                        elif i[1] == idx + 1:\n",
    "                            value = i\n",
    "            \n",
    "            # 判断受事者和施事者顺序\n",
    "            # 1、施事者在前，受事者在后\n",
    "            if attri[0][:2] == 'A0' and value[0][:2] == 'A1':\n",
    "                # 获取属性和值（中文）\n",
    "                attri_ = segment.iloc[attri[1]: attri[2]+1].T\n",
    "                if value[2] == list(segment.index)[-1]:\n",
    "                    value_ = segment.iloc[value[1]:,].T\n",
    "                else:\n",
    "                    value_ = segment.iloc[value[1]: value[2]+1].T\n",
    "                attri_ = ''.join(attri_.values[0])\n",
    "                value_ = ''.join(value_.values[0])\n",
    "                    \n",
    "            # 2、施事者在后，受事者在前，则真正的施事者在受事者前\n",
    "            elif attri[0][:2] == 'A1' and value[0][:2] == 'A0':\n",
    "                value_ = segment.iloc[attri[1]: attri[2]+1].T\n",
    "                attri_ = segment.iloc[idx-1, :].T\n",
    "                attri_ = ''.join(attri_.values[0])\n",
    "                value_ = ''.join(value_.values[0])\n",
    "                \n",
    "                # 如果前一个是连词，也就是没有指明具体的属性，则认为是前一个属性\n",
    "                if attri_ in conjunction:\n",
    "                    # 则为前一个属性\n",
    "                    attri_ = attri_list[-1][0]\n",
    "                \n",
    "                # 这里值即为属性，原本的值是产品或相对应的名称\n",
    "                value = attri\n",
    "            \n",
    "            # 3、类似语句：金葵系列中到期日比2030年4月3日早的所有产品的募集方式\n",
    "            elif attri[0][:2] == 'A0' and value[0] == 'ARGM-ADV':\n",
    "                attri_ = segment.iloc[attri[1]: attri[2]+1].T\n",
    "                value_ = segment.iloc[value[1]: value[2]+1].T\n",
    "                attri_ = ''.join(attri_.values[0])\n",
    "                value_ = ''.join(value_.values[0])\n",
    "                \n",
    "            # 去除要返回的属性\n",
    "            if value_ != '':\n",
    "                if value_ in return_value_:\n",
    "                    continue\n",
    "                    \n",
    "        if attri_ != '':\n",
    "            # 精确匹配\n",
    "            if attri_ in all_dict['属性']:\n",
    "                attri_list.append([attri_, segment.iloc[idx,0], value_])\n",
    "                if value[0] != 'ARGM-ADV':\n",
    "                    start_end.append([attri_, attri[1], value[2]+1])\n",
    "                else:\n",
    "                    start_end.append([attri_, attri[1], idx+1])\n",
    "            # 基于同义词的模糊匹配\n",
    "            else:\n",
    "                points = [(col, synonyms.compare(attri_, col)) for col in all_dict['属性']]\n",
    "                recommend = sorted(points, key = lambda x:x[1], reverse=True)\n",
    "                recommend = [list(rec) for rec in recommend]\n",
    "                # 如果出现评分一样的行为，则再使用字符串匹配\n",
    "                max_point = recommend[0][1]\n",
    "                max_similarity = similarity(recommend[0][0], attri_)\n",
    "                for rec in recommend[1:]:\n",
    "                    if rec[1] == max_point and similarity(rec[0], attri_) > max_similarity:\n",
    "                        max_similarity = similarity(rec[0], attri_)\n",
    "                        recommend[0][0] = rec[0]\n",
    "                        \n",
    "                attri_list.append([recommend[0][0], segment.iloc[idx,0], value_])\n",
    "                if value[0] != 'ARGM-ADV':\n",
    "                    start_end.append([recommend[0][0], attri[1], value[2]+1])\n",
    "                else:\n",
    "                    start_end.append([recommend[0][0], attri[1], idx+1])\n",
    "                attri_dim_dict[attri_] = [rec[0] for rec in recommend[:5]]  \n",
    "\n",
    "    # 获取两个邻近属性之间的关系\n",
    "    for idx, attri in enumerate(attri_list):\n",
    "        # 如果不是最后一个\n",
    "        if idx <= len(attri_list) - 2:\n",
    "            key1 = attri[0]\n",
    "            key2 = attri_list[idx+1][0]\n",
    "            start = start_end[idx][2]\n",
    "            end = start_end[idx+1][1]\n",
    "            \n",
    "            if start_end[idx][1] == start_end[idx+1][1] and start_end[idx][2] < start_end[idx+1][2]:\n",
    "                # 需要对位置进行修正\n",
    "                value1 = ''.join(list(segment.loc[start_end[idx+1][1]:start_end[idx+1][2],'word'].values))\n",
    "                # 找到第一个连词并将其分离\n",
    "                cut, pos = list(zip(*seg.cut(value1)))\n",
    "                for i, p in enumerate(pos):\n",
    "                    if p == 'c':\n",
    "                        value1 = ''.join(cut[:i])\n",
    "                        rel = cut[i]\n",
    "                        break\n",
    "                attri_rel.append([key1, key2, rel])\n",
    "            elif start > end:\n",
    "                # 需要对value1进行修正\n",
    "                value1 = attri[2]\n",
    "                # 找到第一个连词并将其分离\n",
    "                cut, pos = list(zip(*seg.cut(value1)))\n",
    "                for i, p in enumerate(pos):\n",
    "                    if p == 'c':\n",
    "                        value1 = ''.join(cut[:i])\n",
    "                        rel = cut[i]\n",
    "                        break\n",
    "                attri_list[idx][2] = value1\n",
    "                attri_rel.append([key1, key2, rel])             \n",
    "            else:\n",
    "                conjunct = segment.iloc[start:end, 0].T.values[0]\n",
    "                for c in conjunct:\n",
    "                    if c in conjunction:\n",
    "                        attri_rel.append([key1, key2, conjunct])\n",
    "    \n",
    "    # 句子中逗号和顿号的转换\n",
    "    new_string = string.replace(',','和').replace('，','和').replace('、','和')\n",
    "    \n",
    "    # 去除停用词(保留关系词)\n",
    "    segment = HanLP(new_string)['tok/fine']\n",
    "    new_string = ''\n",
    "    for s in segment:\n",
    "        if s in conjunction:\n",
    "            new_string = new_string + s\n",
    "        elif s not in stop_words:\n",
    "            new_string = new_string + s\n",
    "    \n",
    "    # 识别需要返回的属性\n",
    "    tree = HanLP(new_string)['con']\n",
    "    words = None\n",
    "    location = tree[-1][-1]\n",
    "    while True:\n",
    "        # 尝试识别最后的NP\n",
    "        if not isinstance(location, str):\n",
    "            if location.label() == 'NP' :\n",
    "                if isinstance(location[-1], str):\n",
    "                    words = location.pos()\n",
    "                    break\n",
    "                elif location[-1].label() != 'NP':\n",
    "                    words = location.pos()\n",
    "                    break\n",
    "                else:\n",
    "                    location = location[-1]\n",
    "            else:\n",
    "                location = location[-1]\n",
    "        else:\n",
    "            break\n",
    "\n",
    "    if words is None:\n",
    "        location = tree[0]\n",
    "        while True:\n",
    "            # 尝试识别最前面的的DNP\n",
    "            if not isinstance(location, str):\n",
    "                if location.label() == 'DNP' :\n",
    "                    words = location.leaves()\n",
    "                    new_string = new_string.replace(''.join(words),'')\n",
    "                    words = HanLP(new_string)['con'].pos()\n",
    "                    break\n",
    "                else:\n",
    "                    location = location[-1]\n",
    "            else:\n",
    "                error.append('可能没有要返回的属性！')\n",
    "                break\n",
    "    \n",
    "    if words is not None:\n",
    "        # 记录需要删除的idx\n",
    "        del_idx = []\n",
    "        # 对words进行清理(去除系列或名称)\n",
    "        for i, w in enumerate(words):\n",
    "            if w[0] in all_dict['系列'][0]:\n",
    "                del_idx.append([i,i+1])\n",
    "            elif w[0] in (all_dict['名称'][0]['产品名称'] + all_dict['名称'][2]['产品登记编码']):\n",
    "                del_idx.append([i])\n",
    "            elif w[0] in all_dict['名称'][1]['产品代码']:\n",
    "                del_idx.append([i-1,i])\n",
    "\n",
    "        words =  [words[i] for i in range(len(words)) if i not in sum(del_idx,[])]\n",
    "\n",
    "        # 识别words中的连词作为合并属性的依据\n",
    "        word = ''\n",
    "        return_attri = []\n",
    "        for w in words:\n",
    "            if w == words[-1]:\n",
    "                word = word + w[0]\n",
    "                return_attri.append(word)    \n",
    "            elif w[1] == 'CC':\n",
    "                return_attri.append(word)\n",
    "                word = ''\n",
    "            elif w[0] not in ['产品','理财产品','的']:\n",
    "                word = word + w[0]\n",
    "        \n",
    "        new_attri = all_dict['属性'] + [list(i.keys())[0] for i in all_dict['名称']]\n",
    "        for attri_ in return_attri:\n",
    "            \n",
    "            if attri_ != '':\n",
    "                \n",
    "                # 精准匹配\n",
    "                if attri_ in  new_attri:\n",
    "                    attri_return.append(attri_)\n",
    "\n",
    "                # 基于同义词的模糊匹配\n",
    "                else:\n",
    "                    points = [(col, synonyms.compare(attri_, col)) for col in  new_attri]\n",
    "                    recommend = sorted(points, key = lambda x:x[1], reverse=True)\n",
    "                    recommend = [list(rec) for rec in recommend]\n",
    "                    # 如果出现评分一样的行为，则再使用字符串匹配\n",
    "                    max_point = recommend[0][1]\n",
    "                    max_similarity = similarity(recommend[0][0], attri_)\n",
    "                    for rec in recommend[1:]:\n",
    "                        if rec[1] == max_point and similarity(rec[0], attri_) > max_similarity:\n",
    "                            max_similarity = similarity(rec[0], attri_)\n",
    "                            recommend[0][0] = rec[0]\n",
    "                    attri_return.append(recommend[0][0])\n",
    "                    attri_return_dim[attri_] = [rec[0] for rec in recommend[:5]]\n",
    "        \n",
    "    print(attri_return)\n",
    "    result['attri'] = attri_list\n",
    "    result['attri_dim'] = attri_dim_dict \n",
    "    result['start_end'] = start_end\n",
    "    result['attri_rel'] = attri_rel\n",
    "    result['attri_return'] = attri_return\n",
    "    result['attri_return_dim'] = attri_return_dim\n",
    "    result['error'] = error\n",
    "    return result\n",
    "    \n",
    "\n",
    "# 问题解析主函数\n",
    "def main_handle(string, seg=seg, HanLP=HanLP, all_dict=all_dict, stop_words=stop_words):\n",
    "    # 记录错误\n",
    "    Error = []\n",
    "    # 需要返回给用户确认的\n",
    "    re_confirm = {}\n",
    "    # 删除最后的标点\n",
    "    if string[-1] in ['.','。',',','，','？','?']:\n",
    "        string = string[:-1]\n",
    "    # 分词+词性标注\n",
    "    cut, pos = list(zip(*seg.cut(string)))\n",
    "    cut = list(cut)\n",
    "    \n",
    "    # 进行系列匹配\n",
    "    # 提问标准1：用户必须为需要查找的所有系列后面都加上“系列”\n",
    "    # * 正确：请告诉我青葵系列和金葵系列所有产品的名称\n",
    "    # * 错误：请告诉我青葵和金葵系列所有产品的名称\n",
    "    # 提问标准2：不能同时对系列和单一的理财产品进行查询\n",
    "\n",
    "    serieses = find_series(cut, pos)\n",
    "    series = serieses['series']\n",
    "    series_dim = serieses['series_dim']\n",
    "   \n",
    "    # 合并二者成为需要查询的系列表\n",
    "    if '所有系列' in series_dim:\n",
    "        # 返回给查询\n",
    "        return {'neo4j': [[{'名称':'所有系列'}],[]]}\n",
    "    elif series != {} or series_dim != {}:\n",
    "        series_all = list(series.values()) + list(series_dim.values())\n",
    "        if cut.count('系列') != len(series_all):\n",
    "            Error.append(['只识别出了{}共{}个系列，请确认未识别的系列的名称是否写对！'.format(series, len(series))])\n",
    "    else:\n",
    "        if '系列' in cut and '理财计划' not in ''.join(cut):\n",
    "            Error = '抱歉，数据库中没有相关系列产品，数据库中目前只有以下系列产品:'\n",
    "            return {'neo4j': [[{'名称':'所有系列'}],[]], 'Error': Error}\n",
    "    \n",
    "    # 规范系列名称\n",
    "    if series_dim != {}:\n",
    "        for dim in list(series_dim.keys()):\n",
    "            string = string.replace(dim, series_dim[dim])\n",
    "    \n",
    "    # 进行实体匹配（名称、产品代码和产品登记编码）\n",
    "    # 提问标准3：用户在对名称进行提问时必须要以“xx银行”开头“理财计划”结尾\n",
    "    # 提问标准4：用户在对产品代码进行提问时必须要以“代码”开头，并且之后直接接代码\n",
    "    # 提问标准5：用户在对产品登记编码进行提问时必须要以“C”开头\n",
    "    objs = find_obj(cut, pos)\n",
    "    obj = objs['obj']\n",
    "    obj_dim = objs['obj_dim']\n",
    "    re_confirm['理财产品实体确认'] = objs['obj_dim']\n",
    "    Error.append(objs['Error'])\n",
    "    \n",
    "    # 规范实体名称\n",
    "    for key in obj_dim.keys():\n",
    "        if obj_dim[key] != {}:\n",
    "            for k in list(obj_dim[key].keys()):\n",
    "                string = string.replace(k, obj_dim[key][k][0])\n",
    "    \n",
    "    # 进行实体的属性匹配\n",
    "    attris = find_attribute(string) \n",
    "\n",
    "    \n",
    "    return serieses, objs, attris, Error"
   ]
  },
  {
   "cell_type": "code",
   "execution_count": 175,
   "id": "e083220c",
   "metadata": {},
   "outputs": [
    {
     "name": "stdout",
     "output_type": "stream",
     "text": [
      "['产品名称', '产品登记编码', '到期日']\n"
     ]
    }
   ],
   "source": [
    "result = main_handle(\"到期日早于2015年的产品名称、产品登记编码和到期日\")"
   ]
  },
  {
   "cell_type": "code",
   "execution_count": 176,
   "id": "5d1750ff",
   "metadata": {},
   "outputs": [
    {
     "data": {
      "text/plain": [
       "({'series': {}, 'series_dim': {}},\n",
       " {'obj': {'产品名称': [], '产品代码': [], '产品登记编码': []},\n",
       "  'obj_dim': {'产品名称': {}, '产品代码': {}, '产品登记编码': {}},\n",
       "  'Error': []},\n",
       " {'attri': [['到期日', '早', '于2015年']],\n",
       "  'attri_dim': {},\n",
       "  'start_end': [['到期日', 0, 4]],\n",
       "  'attri_rel': [],\n",
       "  'attri_return': ['产品名称', '产品登记编码', '到期日'],\n",
       "  'attri_return_dim': {},\n",
       "  'error': []},\n",
       " [[]])"
      ]
     },
     "execution_count": 176,
     "metadata": {},
     "output_type": "execute_result"
    }
   ],
   "source": [
    "result"
   ]
  },
  {
   "cell_type": "code",
   "execution_count": 177,
   "id": "b6dc923d",
   "metadata": {},
   "outputs": [],
   "source": [
    "x = result[0]\n",
    "for r in result:\n",
    "    if r != x:\n",
    "        z = ChainMap(x,r)\n",
    "        x = z"
   ]
  },
  {
   "cell_type": "code",
   "execution_count": 178,
   "id": "4a4adb9f",
   "metadata": {},
   "outputs": [
    {
     "data": {
      "text/plain": [
       "ChainMap(ChainMap(ChainMap({'series': {}, 'series_dim': {}}, {'obj': {'产品名称': [], '产品代码': [], '产品登记编码': []}, 'obj_dim': {'产品名称': {}, '产品代码': {}, '产品登记编码': {}}, 'Error': []}), {'attri': [['到期日', '早', '于2015年']], 'attri_dim': {}, 'start_end': [['到期日', 0, 4]], 'attri_rel': [], 'attri_return': ['产品名称', '产品登记编码', '到期日'], 'attri_return_dim': {}, 'error': []}), [[]])"
      ]
     },
     "execution_count": 178,
     "metadata": {},
     "output_type": "execute_result"
    }
   ],
   "source": [
    "x"
   ]
  },
  {
   "cell_type": "code",
   "execution_count": 179,
   "id": "0ce44007",
   "metadata": {},
   "outputs": [],
   "source": [
    "series = {'series': list(x['series'].values()) + list(x['series_dim'].values())}"
   ]
  },
  {
   "cell_type": "code",
   "execution_count": 180,
   "id": "fa363d83",
   "metadata": {},
   "outputs": [
    {
     "data": {
      "text/plain": [
       "{'series': []}"
      ]
     },
     "execution_count": 180,
     "metadata": {},
     "output_type": "execute_result"
    }
   ],
   "source": [
    "series"
   ]
  },
  {
   "cell_type": "code",
   "execution_count": 181,
   "id": "f5939352",
   "metadata": {},
   "outputs": [],
   "source": [
    "obj = x['obj']"
   ]
  },
  {
   "cell_type": "code",
   "execution_count": 182,
   "id": "96d6202b",
   "metadata": {},
   "outputs": [
    {
     "data": {
      "text/plain": [
       "{'产品名称': [], '产品代码': [], '产品登记编码': []}"
      ]
     },
     "execution_count": 182,
     "metadata": {},
     "output_type": "execute_result"
    }
   ],
   "source": [
    "obj"
   ]
  },
  {
   "cell_type": "code",
   "execution_count": 183,
   "id": "89c6ad0d",
   "metadata": {},
   "outputs": [],
   "source": [
    "obj = dict(obj, **series)"
   ]
  },
  {
   "cell_type": "code",
   "execution_count": 184,
   "id": "faa869d0",
   "metadata": {},
   "outputs": [
    {
     "data": {
      "text/plain": [
       "{'产品名称': [], '产品代码': [], '产品登记编码': [], 'series': []}"
      ]
     },
     "execution_count": 184,
     "metadata": {},
     "output_type": "execute_result"
    }
   ],
   "source": [
    "obj"
   ]
  },
  {
   "cell_type": "code",
   "execution_count": 185,
   "id": "763ef340",
   "metadata": {},
   "outputs": [],
   "source": [
    "obj['Name'] = obj.pop('产品名称')\n",
    "obj['Code'] = obj.pop('产品代码')\n",
    "obj['OuterCode'] = obj.pop('产品登记编码')"
   ]
  },
  {
   "cell_type": "code",
   "execution_count": 186,
   "id": "ee6962bf",
   "metadata": {},
   "outputs": [
    {
     "data": {
      "text/plain": [
       "{'series': [], 'Name': [], 'Code': [], 'OuterCode': []}"
      ]
     },
     "execution_count": 186,
     "metadata": {},
     "output_type": "execute_result"
    }
   ],
   "source": [
    "obj"
   ]
  },
  {
   "cell_type": "code",
   "execution_count": 187,
   "id": "99f3fce2",
   "metadata": {},
   "outputs": [
    {
     "data": {
      "text/plain": [
       "{'本金': '本金及理财收益',\n",
       " '保本': '本金及理财收益',\n",
       " '货币类型': '理财币种',\n",
       " '理财货币': '理财币种',\n",
       " '投资币种': '理财币种',\n",
       " '收益': '业绩比较基准',\n",
       " '收益上限': '业绩比较基准',\n",
       " '收益下限': '业绩比较基准',\n",
       " '业绩比较基准的下限': '业绩比较基准',\n",
       " '业绩比较基准的上限': '业绩比较基准',\n",
       " '理财收益': '业绩比较基准',\n",
       " '发行规模上限': '发行规模',\n",
       " '发行规模下限': '发行规模',\n",
       " '类型': '产品类型',\n",
       " '认购下限': '认购起点',\n",
       " '投资周期': '理财计划申购和赎回',\n",
       " '理财计划申购和赎回周期': '理财计划申购和赎回',\n",
       " '到期日': '理财计划到期日',\n",
       " '募集方法': '募集方式',\n",
       " '投资比例': '投资策略',\n",
       " '认购期上限': '认购期',\n",
       " '认购期下限': '认购期',\n",
       " '认购期开始时间': '认购期',\n",
       " '认购期结束时间': '认购期',\n",
       " '理财产品': '产品名称'}"
      ]
     },
     "execution_count": 187,
     "metadata": {},
     "output_type": "execute_result"
    }
   ],
   "source": [
    "attributes"
   ]
  },
  {
   "cell_type": "code",
   "execution_count": 188,
   "id": "5636ef2e",
   "metadata": {},
   "outputs": [],
   "source": [
    "return_ = x['attri_return']"
   ]
  },
  {
   "cell_type": "code",
   "execution_count": 189,
   "id": "8641974d",
   "metadata": {},
   "outputs": [
    {
     "data": {
      "text/plain": [
       "['产品名称', '产品登记编码', '到期日']"
      ]
     },
     "execution_count": 189,
     "metadata": {},
     "output_type": "execute_result"
    }
   ],
   "source": [
    "return_"
   ]
  },
  {
   "cell_type": "code",
   "execution_count": 190,
   "id": "7ea0bece",
   "metadata": {},
   "outputs": [],
   "source": [
    "for idx, r in enumerate(return_):\n",
    "    if r in attributes:\n",
    "        if '上限' in r or '下限' in r:\n",
    "            return_[idx] = attributes[r] + '-' + r[-2:]\n",
    "        else:\n",
    "            return_[idx] = attributes[r]"
   ]
  },
  {
   "cell_type": "code",
   "execution_count": 109,
   "id": "7bbf77e0",
   "metadata": {},
   "outputs": [
    {
     "data": {
      "text/plain": [
       "['募集方式']"
      ]
     },
     "execution_count": 109,
     "metadata": {},
     "output_type": "execute_result"
    }
   ],
   "source": [
    "return_"
   ]
  },
  {
   "cell_type": "code",
   "execution_count": 89,
   "id": "b15d20fb",
   "metadata": {},
   "outputs": [],
   "source": [
    "attri = x['attri']"
   ]
  },
  {
   "cell_type": "code",
   "execution_count": 90,
   "id": "3323345d",
   "metadata": {},
   "outputs": [
    {
     "data": {
      "text/plain": [
       "[['到期日', '早', '比2030年4月3日'], ['投资币种', '为', '美元']]"
      ]
     },
     "execution_count": 90,
     "metadata": {},
     "output_type": "execute_result"
    }
   ],
   "source": [
    "attri"
   ]
  },
  {
   "cell_type": "code",
   "execution_count": 91,
   "id": "e5aecbdf",
   "metadata": {},
   "outputs": [],
   "source": [
    "attri_all = {}"
   ]
  },
  {
   "cell_type": "code",
   "execution_count": 92,
   "id": "a8627b21",
   "metadata": {},
   "outputs": [],
   "source": [
    "Error = []"
   ]
  },
  {
   "cell_type": "code",
   "execution_count": 93,
   "id": "c0aa930f",
   "metadata": {},
   "outputs": [],
   "source": [
    "for a in attri:\n",
    "    \n",
    "    # 获取attribute中的属性、动词和值\n",
    "    name = a[0]\n",
    "    verb = a[1]\n",
    "    value = a[2]\n",
    "    \n",
    "    # 获取attribute对应的名称\n",
    "    if name in set(attributes.values()):\n",
    "        real_attribute = name\n",
    "    else:\n",
    "        real_attribute = attributes[name]\n",
    "    \n",
    "    # 对于日期类型的查询，有关的判断\n",
    "    time_greater_judge = ['晚','后']\n",
    "    time_less_judge = ['早','先','前']\n",
    "    # 对于数值类型的查询，有关的判断\n",
    "    number_greater_judge = ['大','高','超']\n",
    "    number_less_judge = ['小','低']\n",
    "    \n",
    "    \n",
    "    # 记录特殊属性\n",
    "    special_attri = ''\n",
    "    # 记录符号\n",
    "    symbol = ''\n",
    "    # 允许比较大小的属性\n",
    "    compared_attri = ['认购/申购上限', '理财计划到期日', '业绩比较基准', '发行规模', '认购起点', '认购期',\n",
    "                      '认购登记日', '理财计划成立日']\n",
    "    # 可以比较的属性中的数值型属性\n",
    "    number_attri = ['认购/申购上限', '业绩比较基准', '发行规模', '认购起点']\n",
    "    # 可以比较的属性中的日期属性\n",
    "    date_attri = ['理财计划到期日', '认购期', '认购登记日', '理财计划成立日']\n",
    "    # 可以有多个离散取值的属性\n",
    "    multi_attri = ['理财币种', '产品类型', '募集方式', '运作方式']\n",
    "    # 存储结果\n",
    "    alist = attri_all.setdefault(real_attribute, [])\n",
    "    \n",
    "    # 如果属性中出现五个关键词，则提取\n",
    "    if '上限' in name or '下限' in name or '周期' in name:\n",
    "        special_attri = name[-2:]\n",
    "    elif '开始时间' in name:\n",
    "        special_attri = '下限'\n",
    "    elif '结束时间' in name:\n",
    "        special_attri = '上限'\n",
    "        \n",
    "    \n",
    "    \n",
    "    # 如果属性中出现的是日期的属性\n",
    "    if real_attribute in date_attri:\n",
    "\n",
    "        # 使用正则表达式匹配日期\n",
    "        pattern = re.compile(r'\\d{4}[年\\-/]*\\d{0,2}[月\\-/]*\\d{0,2}[日]*')\n",
    "        dates = pattern.findall(value)\n",
    "        stand_value = []\n",
    "        # 规范日期格式\n",
    "        for date in dates:\n",
    "            if '年' in date:\n",
    "                year = date[:date.find('年')]\n",
    "                month = date[date.find('年')+1:date.find('月')] if date.find('月') != -1 else '01'\n",
    "                day = date[date.find('月')+1:date.find('日')] if date.find('日') != -1 else '01'\n",
    "                stand_value.append(year+month+day)\n",
    "            else:\n",
    "                try:\n",
    "                    stand_value.append(pd.to_datetime(date).strftime('%Y%m%d'))\n",
    "                except:\n",
    "                    Error.append('请按照以下日期格式重新输入正确的日期！\\n格式一：2021年1月1日\\n格式二：2021-01-01\\n格式三：2021/01/01')\n",
    "\n",
    "        # 如果有多个日期，则提取它们之间的关系(两种：一种是在..和..间， 另一种是为..和(或)..)\n",
    "        if len(stand_value) >= 2:\n",
    "            if '间' in value and len(dates) == 2:\n",
    "                alist.append(special_attri+'-'+'大于'+'-'+stand_value[0])\n",
    "                alist.append('并且')\n",
    "                alist.append(special_attri+'-'+'小于'+'-'+stand_value[1])\n",
    "            else:\n",
    "                if '或' in value:\n",
    "                    for date in stand_value:\n",
    "                        alist.append(special_attri+'-'+'等于'+'-'+date)\n",
    "                        if date != stand_value[-1]:\n",
    "                            alist.append('或')\n",
    "                else:\n",
    "                    for date in stand_value:\n",
    "                        alist.append(special_attri+'-'+'等于'+'-'+date)\n",
    "                        if date != stand_value[-1]:\n",
    "                            alist.append('并且')\n",
    "                        \n",
    "        # 如果只存在一个日期，则需要根据动词和value判断符号\n",
    "        else:\n",
    "            has_belong = False\n",
    "            \n",
    "            for j in time_greater_judge:\n",
    "                if j in verb or j in value:\n",
    "                    alist.append(special_attri+'-'+'大于'+'-'+stand_value[0])\n",
    "                    has_belong = True\n",
    "                    \n",
    "            if not has_belong:\n",
    "                for j in time_less_judge:\n",
    "                    if j in verb or j in value:\n",
    "                        alist.append(special_attri+'-'+'小于'+'-'+stand_value[0])\n",
    "                        has_belong = True\n",
    "            \n",
    "            if not has_belong:\n",
    "                alist.append(special_attri+'-'+'等于'+'-'+stand_value[0])\n",
    "                \n",
    "    \n",
    "    # 如果属性中出现的是数值型的属性\n",
    "    elif real_attribute in number_attri:\n",
    "        \n",
    "        # 使用正则表达式匹配数值\n",
    "        pattern = re.compile(r'[0-9%.]+')\n",
    "        datas = pattern.findall(value)\n",
    "        stand_value = []\n",
    "        # 规范数字格式\n",
    "        for data in datas:\n",
    "            if '%' in data:\n",
    "                stand_value.append(data[:-1])\n",
    "            elif '.' in data and float(data) < 1:\n",
    "                stand_value.append(float(data) * 100)\n",
    "            else:\n",
    "                stand_value.append(int(float(data)))\n",
    "        \n",
    "        # 如果有多个数值，则提取它们之间的关系(两种：一种是在..和..间， 另一种是为..和(或)..)\n",
    "        if len(stand_value) >= 2:\n",
    "            if '间' in value and len(dates) == 2:\n",
    "                alist.append(special_attri+'-'+'大于'+'-'+stand_value[0])\n",
    "                alist.append('并且')\n",
    "                alist.append(special_attri+'-'+'小于'+'-'+stand_value[1])\n",
    "            else:\n",
    "                if '或' in value:\n",
    "                    for data in stand_value:\n",
    "                        alist.append(special_attri+'-'+'等于'+'-'+data)\n",
    "                        if data != stand_value[-1]:\n",
    "                            alist.append('或')\n",
    "                else:\n",
    "                    for data in stand_value:\n",
    "                        alist.append(special_attri+'-'+'等于'+'-'+data)\n",
    "                        if data != stand_value[-1]:\n",
    "                            alist.append('并且')\n",
    "                        \n",
    "        # 如果只存在一个数值，则需要根据动词和value判断符号\n",
    "        else:\n",
    "            has_belong = False\n",
    "            \n",
    "            for j in number_greater_judge:\n",
    "                if j in verb or j in value:\n",
    "                    alist.append(special_attri+'-'+'大于'+'-'+stand_value[0])\n",
    "                    has_belong = True\n",
    "                    \n",
    "            if not has_belong:\n",
    "                for j in number_less_judge:\n",
    "                    if j in verb or j in value:\n",
    "                        alist.append(special_attri+'-'+'小于'+'-'+stand_value[0])\n",
    "                        has_belong = True\n",
    "            \n",
    "            if not has_belong:\n",
    "                alist.append(special_attri+'-'+'等于'+'-'+stand_value[0])\n",
    "                \n",
    "    \n",
    "    # 如果出现的是有多个离散取值的属性\n",
    "    elif real_attribute in multi_attri:\n",
    "        # 只需分离出符号和连接的关系即可\n",
    "        cut, pos = list(zip(*seg.cut(value))) \n",
    "        i = 0\n",
    "        stand_value = []\n",
    "        \n",
    "        # 合并属性\n",
    "        for idx, p in enumerate(pos):\n",
    "            if (p == 'w' or p == 'c') and idx != len(pos)-1 :\n",
    "                stand_value.append(''.join(cut[i:idx]))\n",
    "                i = idx+1\n",
    "            elif idx == len(pos)-1:\n",
    "                stand_value.append(''.join(cut[i:]))\n",
    "\n",
    "        # 对专有属性的一个匹配，若得分超过75%，则认为顾客查询的是这个属性\n",
    "        for idx, noun in enumerate(stand_value):\n",
    "            if noun not in ['美金','欧元','日元','韩元','卢布']:\n",
    "                points = [{v: synonyms.compare(noun, v)} for v in attribute_values[real_attribute]]\n",
    "                points = sorted(points, key = lambda x:list(x.values())[0], reverse=True)\n",
    "                if list(points[0].values())[0] > 0.75:\n",
    "                    stand_value[idx] = list(points[0].keys())[0]\n",
    "                else:\n",
    "                    stand_value[idx] = noun\n",
    "                    \n",
    "            else:\n",
    "                if noun == '美金':\n",
    "                    stand_value[idx] = '美元'\n",
    "                else:\n",
    "                    stand_value[idx] = noun\n",
    "                \n",
    "        \n",
    "        # 提取它们之间的关系\n",
    "        if '或' in value:\n",
    "            for data in stand_value:\n",
    "                alist.append('等于'+'-'+data)\n",
    "                if data != stand_value[-1]:\n",
    "                    alist.append('或')\n",
    "        else:\n",
    "            for data in stand_value:\n",
    "                alist.append('等于'+'-'+data)\n",
    "                if data != stand_value[-1]:\n",
    "                    alist.append('并且')\n",
    "\n",
    "    else:\n",
    "        Error.append('您要查询的属性暂时还不支持用于限定类查询！')\n",
    "    "
   ]
  },
  {
   "cell_type": "code",
   "execution_count": 94,
   "id": "cbcc182e",
   "metadata": {},
   "outputs": [
    {
     "data": {
      "text/plain": [
       "{'理财计划到期日': ['-小于-203043'], '理财币种': ['等于-美元']}"
      ]
     },
     "execution_count": 94,
     "metadata": {},
     "output_type": "execute_result"
    }
   ],
   "source": [
    "attri_all"
   ]
  },
  {
   "cell_type": "code",
   "execution_count": 74,
   "id": "dbb99e31",
   "metadata": {},
   "outputs": [
    {
     "data": {
      "text/plain": [
       "[('固定收益', 'nz'),\n",
       " ('，', 'w'),\n",
       " ('浮动', 'v'),\n",
       " ('收益', 'nz'),\n",
       " ('或', 'c'),\n",
       " ('稳定', 'a'),\n",
       " ('收益', 'nz'),\n",
       " ('类', 'n')]"
      ]
     },
     "execution_count": 74,
     "metadata": {},
     "output_type": "execute_result"
    }
   ],
   "source": [
    "seg.cut('固定收益，浮动收益或稳定收益类')"
   ]
  },
  {
   "cell_type": "code",
   "execution_count": 83,
   "id": "6cdf7ca9",
   "metadata": {},
   "outputs": [
    {
     "data": {
      "text/plain": [
       "0.926"
      ]
     },
     "execution_count": 83,
     "metadata": {},
     "output_type": "execute_result"
    }
   ],
   "source": [
    "synonyms.compare('稳定收益类','固定收益类型')"
   ]
  },
  {
   "cell_type": "code",
   "execution_count": null,
   "id": "cb84cf2c",
   "metadata": {},
   "outputs": [],
   "source": []
  },
  {
   "cell_type": "code",
   "execution_count": null,
   "id": "682bdbe1",
   "metadata": {},
   "outputs": [],
   "source": []
  },
  {
   "cell_type": "code",
   "execution_count": null,
   "id": "d19aa640",
   "metadata": {},
   "outputs": [],
   "source": []
  },
  {
   "cell_type": "code",
   "execution_count": 137,
   "id": "595aa03d",
   "metadata": {},
   "outputs": [],
   "source": [
    "seg1, hidden = ltp.seg([\"金葵系列中，发行规模下限比100000000大并且上限比2000000000小的理财产品的到期日和理财产品登记日\"])\n",
    "srl = ltp.srl(hidden)"
   ]
  },
  {
   "cell_type": "code",
   "execution_count": 138,
   "id": "317265aa",
   "metadata": {},
   "outputs": [
    {
     "data": {
      "text/plain": [
       "[[],\n",
       " [],\n",
       " [],\n",
       " [],\n",
       " [],\n",
       " [],\n",
       " [],\n",
       " [('A0', 4, 4), ('ARGM-ADV', 5, 6)],\n",
       " [],\n",
       " [],\n",
       " [],\n",
       " [],\n",
       " [('A0', 9, 9), ('ARGM-ADV', 10, 11)],\n",
       " [],\n",
       " [],\n",
       " [],\n",
       " [],\n",
       " [],\n",
       " [],\n",
       " []]"
      ]
     },
     "execution_count": 138,
     "metadata": {},
     "output_type": "execute_result"
    }
   ],
   "source": [
    "srl[0]"
   ]
  },
  {
   "cell_type": "code",
   "execution_count": 139,
   "id": "5d2992f3",
   "metadata": {},
   "outputs": [
    {
     "data": {
      "text/html": [
       "<div>\n",
       "<style scoped>\n",
       "    .dataframe tbody tr th:only-of-type {\n",
       "        vertical-align: middle;\n",
       "    }\n",
       "\n",
       "    .dataframe tbody tr th {\n",
       "        vertical-align: top;\n",
       "    }\n",
       "\n",
       "    .dataframe thead th {\n",
       "        text-align: right;\n",
       "    }\n",
       "</style>\n",
       "<table border=\"1\" class=\"dataframe\">\n",
       "  <thead>\n",
       "    <tr style=\"text-align: right;\">\n",
       "      <th></th>\n",
       "      <th>0</th>\n",
       "    </tr>\n",
       "  </thead>\n",
       "  <tbody>\n",
       "    <tr>\n",
       "      <th>0</th>\n",
       "      <td>金葵</td>\n",
       "    </tr>\n",
       "    <tr>\n",
       "      <th>1</th>\n",
       "      <td>系列</td>\n",
       "    </tr>\n",
       "    <tr>\n",
       "      <th>2</th>\n",
       "      <td>中</td>\n",
       "    </tr>\n",
       "    <tr>\n",
       "      <th>3</th>\n",
       "      <td>，</td>\n",
       "    </tr>\n",
       "    <tr>\n",
       "      <th>4</th>\n",
       "      <td>发行规模下限</td>\n",
       "    </tr>\n",
       "    <tr>\n",
       "      <th>5</th>\n",
       "      <td>比</td>\n",
       "    </tr>\n",
       "    <tr>\n",
       "      <th>6</th>\n",
       "      <td>100000000</td>\n",
       "    </tr>\n",
       "    <tr>\n",
       "      <th>7</th>\n",
       "      <td>大</td>\n",
       "    </tr>\n",
       "    <tr>\n",
       "      <th>8</th>\n",
       "      <td>并且</td>\n",
       "    </tr>\n",
       "    <tr>\n",
       "      <th>9</th>\n",
       "      <td>上限</td>\n",
       "    </tr>\n",
       "    <tr>\n",
       "      <th>10</th>\n",
       "      <td>比</td>\n",
       "    </tr>\n",
       "    <tr>\n",
       "      <th>11</th>\n",
       "      <td>2000000000</td>\n",
       "    </tr>\n",
       "    <tr>\n",
       "      <th>12</th>\n",
       "      <td>小</td>\n",
       "    </tr>\n",
       "    <tr>\n",
       "      <th>13</th>\n",
       "      <td>的</td>\n",
       "    </tr>\n",
       "    <tr>\n",
       "      <th>14</th>\n",
       "      <td>理财产品</td>\n",
       "    </tr>\n",
       "    <tr>\n",
       "      <th>15</th>\n",
       "      <td>的</td>\n",
       "    </tr>\n",
       "    <tr>\n",
       "      <th>16</th>\n",
       "      <td>到期日</td>\n",
       "    </tr>\n",
       "    <tr>\n",
       "      <th>17</th>\n",
       "      <td>和</td>\n",
       "    </tr>\n",
       "    <tr>\n",
       "      <th>18</th>\n",
       "      <td>理财产品</td>\n",
       "    </tr>\n",
       "    <tr>\n",
       "      <th>19</th>\n",
       "      <td>登记日</td>\n",
       "    </tr>\n",
       "  </tbody>\n",
       "</table>\n",
       "</div>"
      ],
      "text/plain": [
       "             0\n",
       "0           金葵\n",
       "1           系列\n",
       "2            中\n",
       "3            ，\n",
       "4       发行规模下限\n",
       "5            比\n",
       "6    100000000\n",
       "7            大\n",
       "8           并且\n",
       "9           上限\n",
       "10           比\n",
       "11  2000000000\n",
       "12           小\n",
       "13           的\n",
       "14        理财产品\n",
       "15           的\n",
       "16         到期日\n",
       "17           和\n",
       "18        理财产品\n",
       "19         登记日"
      ]
     },
     "execution_count": 139,
     "metadata": {},
     "output_type": "execute_result"
    }
   ],
   "source": [
    "pd.DataFrame(seg1[0])"
   ]
  },
  {
   "cell_type": "code",
   "execution_count": 459,
   "id": "9b510cfc",
   "metadata": {},
   "outputs": [
    {
     "data": {
      "text/plain": [
       "[[(1, 2, 'mDEPD'),\n",
       "  (3, 2, 'DATV'),\n",
       "  (4, 9, 'mRELA'),\n",
       "  (5, 6, 'FEAT'),\n",
       "  (6, 9, 'eCOO'),\n",
       "  (7, 9, 'mRELA'),\n",
       "  (8, 9, 'FEAT'),\n",
       "  (10, 9, 'mDEPD'),\n",
       "  (11, 9, 'mPUNC'),\n",
       "  (12, 13, 'EXP'),\n",
       "  (14, 15, 'FEAT'),\n",
       "  (14, 16, 'FEAT'),\n",
       "  (15, 16, 'FEAT'),\n",
       "  (16, 13, 'TIME'),\n",
       "  (17, 13, 'mDEPD'),\n",
       "  (18, 20, 'mRELA'),\n",
       "  (21, 20, 'LINK'),\n",
       "  (22, 23, 'mRELA'),\n",
       "  (23, 21, 'eCOO'),\n",
       "  (24, 20, 'mDEPD'),\n",
       "  (26, 20, 'mDEPD'),\n",
       "  (28, 2, 'dCONT'),\n",
       "  (29, 28, 'LINK')]]"
      ]
     },
     "execution_count": 459,
     "metadata": {},
     "output_type": "execute_result"
    }
   ],
   "source": [
    "sdp = ltp.sdp(hidden,True)\n",
    "sdp"
   ]
  },
  {
   "cell_type": "code",
   "execution_count": 460,
   "id": "c721c30c",
   "metadata": {},
   "outputs": [
    {
     "data": {
      "text/plain": [
       "[('请', 1),\n",
       " ('告诉', 2),\n",
       " ('我', 3),\n",
       " ('在', 4),\n",
       " ('青葵', 5),\n",
       " ('系列', 6),\n",
       " ('和', 7),\n",
       " ('金葵', 8),\n",
       " ('系列', 9),\n",
       " ('中', 10),\n",
       " ('，', 11),\n",
       " ('到期日', 12),\n",
       " ('在', 13),\n",
       " ('2021年', 14),\n",
       " ('6月', 15),\n",
       " ('20日', 16),\n",
       " ('之前', 17),\n",
       " ('并且', 18),\n",
       " ('理财币种', 19),\n",
       " ('是', 20),\n",
       " ('美元', 21),\n",
       " ('或', 22),\n",
       " ('人民币', 23),\n",
       " ('的', 24),\n",
       " ('理财产品', 25),\n",
       " ('的', 26),\n",
       " ('投资策略', 27),\n",
       " ('是', 28),\n",
       " ('什么', 29)]"
      ]
     },
     "execution_count": 460,
     "metadata": {},
     "output_type": "execute_result"
    }
   ],
   "source": [
    "list(zip(seg1[0],list(range(len(seg1[0])+1))[1:]))"
   ]
  },
  {
   "cell_type": "code",
   "execution_count": null,
   "id": "a1eea4d9",
   "metadata": {},
   "outputs": [],
   "source": [
    "HanLP(seg.cut('金匮系列中到期日比2030年2月早的产品的募集方式'), tasks='dep')"
   ]
  },
  {
   "cell_type": "code",
   "execution_count": 24,
   "id": "dcb871b9",
   "metadata": {},
   "outputs": [
    {
     "data": {
      "text/plain": [
       "{'pos/ctb': ['NN',\n",
       "  'VC',\n",
       "  'VV',\n",
       "  'CC',\n",
       "  'NN',\n",
       "  'VC',\n",
       "  'NN',\n",
       "  'CC',\n",
       "  'M',\n",
       "  'DEG',\n",
       "  'NN',\n",
       "  'DEG',\n",
       "  'NN',\n",
       "  'NN',\n",
       "  'CC',\n",
       "  'NN'],\n",
       " 'dep': [(2, 'top'),\n",
       "  (0, 'root'),\n",
       "  (2, 'attr'),\n",
       "  (2, 'cc'),\n",
       "  (6, 'top'),\n",
       "  (2, 'conj'),\n",
       "  (9, 'conj'),\n",
       "  (9, 'cc'),\n",
       "  (6, 'attr'),\n",
       "  (6, 'cpm'),\n",
       "  (13, 'assmod'),\n",
       "  (11, 'assm'),\n",
       "  (14, 'nn'),\n",
       "  (16, 'conj'),\n",
       "  (16, 'cc'),\n",
       "  (2, 'attr')],\n",
       " 'tok': ['募集方式',\n",
       "  '为',\n",
       "  '公募',\n",
       "  '并且',\n",
       "  '理财货币',\n",
       "  '为',\n",
       "  '人民币',\n",
       "  '或',\n",
       "  '美元',\n",
       "  '的',\n",
       "  '理财产品',\n",
       "  '的',\n",
       "  '产品',\n",
       "  '名称',\n",
       "  '和',\n",
       "  '本金及理财收益']}"
      ]
     },
     "execution_count": 24,
     "metadata": {},
     "output_type": "execute_result"
    }
   ],
   "source": [
    "HanLP(list(list(zip(*seg.cut('募集方式为公募并且理财货币为人民币或美元的理财产品的产品名称和本金及理财收益.')))[0]),\\\n",
    "      tasks=['pos', 'dep'], skip_tasks='tok*')"
   ]
  },
  {
   "cell_type": "code",
   "execution_count": 18,
   "id": "db24aa0f",
   "metadata": {},
   "outputs": [
    {
     "name": "stderr",
     "output_type": "stream",
     "text": [
      "                                   \r"
     ]
    },
    {
     "name": "stdout",
     "output_type": "stream",
     "text": [
      "合并模式:\n",
      "['招商银行年年享6号理财计划', '的', '范围', '有', '哪些']\n"
     ]
    }
   ],
   "source": [
    "import hanlp\n",
    "from hanlp.components.mtl.multi_task_learning import MultiTaskLearning\n",
    "from hanlp.components.mtl.tasks.tok.tag_tok import TaggingTokenization\n",
    "\n",
    "HanLP: MultiTaskLearning = hanlp.load(hanlp.pretrained.mtl.CLOSE_TOK_POS_NER_SRL_DEP_SDP_CON_ELECTRA_BASE_ZH) # 世界最大中文语料库\n",
    "tok: TaggingTokenization = HanLP['tok/fine']\n",
    "\n",
    "# tok.dict_force = tok.dict_combine = None\n",
    "# print(f'不挂词典:\\n{HanLP(\"商品和服务行业\")[\"tok/fine\"]}')\n",
    "#\n",
    "# tok.dict_force = {'和服', '服务行业'}\n",
    "# print(f'强制模式:\\n{HanLP(\"商品和服务行业\")[\"tok/fine\"]}')  # 慎用，详见《自然语言处理入门》第二章\n",
    "#\n",
    "# tok.dict_force = {'和服务': ['和', '服务']}\n",
    "# print(f'强制校正:\\n{HanLP(\"正向匹配商品和服务、任何和服务必按上述切分\")[\"tok/fine\"]}')\n",
    "\n",
    "tok.dict_force = None\n",
    "tok.dict_combine = ['招商银行年年享6号理财计划']\n",
    "print(f'合并模式:\\n{HanLP(\"招商银行年年享6号理财计划的范围有哪些\")[\"tok/fine\"]}')"
   ]
  },
  {
   "cell_type": "code",
   "execution_count": 400,
   "id": "fb5ae06e",
   "metadata": {},
   "outputs": [
    {
     "data": {
      "text/plain": [
       "['金葵',\n",
       " '系列',\n",
       " '中',\n",
       " '到期日',\n",
       " '比',\n",
       " '2030年',\n",
       " '4月',\n",
       " '3日',\n",
       " '早',\n",
       " '，',\n",
       " '投资币种',\n",
       " '为',\n",
       " '美元',\n",
       " '的',\n",
       " '所有',\n",
       " '产品',\n",
       " '的',\n",
       " '募集方式',\n",
       " '和',\n",
       " '投资比例']"
      ]
     },
     "execution_count": 400,
     "metadata": {},
     "output_type": "execute_result"
    }
   ],
   "source": [
    "HanLP(\"金葵系列中到期日比2030年4月3日早，投资币种为美元的所有产品的募集方式和投资比例\")['tok/fine']"
   ]
  },
  {
   "cell_type": "code",
   "execution_count": 168,
   "id": "e2c9b279",
   "metadata": {},
   "outputs": [
    {
     "data": {
      "text/html": [
       "<div style=\"display: table; line-height: 128%;\"><pre style=\"display: table-cell; font-family: SFMono-Regular,Menlo,Monaco,Consolas,Liberation Mono,Courier New,monospace; white-space: nowrap;\">Dep&nbsp;Tree&nbsp;&nbsp;&nbsp;<br>──────────&nbsp;<br>&nbsp;&nbsp;&nbsp;&nbsp;&nbsp;&nbsp;&nbsp;┌─►&nbsp;<br>┌──────┴──&nbsp;<br>│&nbsp;&nbsp;┌──►┌──&nbsp;<br>│&nbsp;&nbsp;│&nbsp;&nbsp;&nbsp;└─►&nbsp;<br>│&nbsp;&nbsp;│┌────►&nbsp;<br>│&nbsp;&nbsp;││┌───►&nbsp;<br>│&nbsp;&nbsp;│││┌──►&nbsp;<br>│&nbsp;&nbsp;││││┌─►&nbsp;<br>└─►└┴┴┴┴──&nbsp;</pre><pre style=\"display: table-cell; font-family: SFMono-Regular,Menlo,Monaco,Consolas,Liberation Mono,Courier New,monospace; white-space: nowrap;\">Token&nbsp;&nbsp;<br>──────&nbsp;<br>到期日&nbsp;&nbsp;&nbsp;&nbsp;<br>早于&nbsp;&nbsp;&nbsp;&nbsp;&nbsp;<br>2015年&nbsp;&nbsp;<br>的&nbsp;&nbsp;&nbsp;&nbsp;&nbsp;&nbsp;<br>产品名称&nbsp;&nbsp;&nbsp;<br>、&nbsp;&nbsp;&nbsp;&nbsp;&nbsp;&nbsp;<br>产品登记编码&nbsp;<br>和&nbsp;&nbsp;&nbsp;&nbsp;&nbsp;&nbsp;<br>到期日&nbsp;&nbsp;&nbsp;&nbsp;</pre><pre style=\"display: table-cell; font-family: SFMono-Regular,Menlo,Monaco,Consolas,Liberation Mono,Courier New,monospace; white-space: nowrap;\">Relati&nbsp;<br>──────&nbsp;<br>nsubj&nbsp;&nbsp;<br>root&nbsp;&nbsp;&nbsp;<br>assmod&nbsp;<br>assm&nbsp;&nbsp;&nbsp;<br>conj&nbsp;&nbsp;&nbsp;<br>punct&nbsp;&nbsp;<br>nn&nbsp;&nbsp;&nbsp;&nbsp;&nbsp;<br>cc&nbsp;&nbsp;&nbsp;&nbsp;&nbsp;<br>dobj&nbsp;&nbsp;&nbsp;</pre><pre style=\"display: table-cell; font-family: SFMono-Regular,Menlo,Monaco,Consolas,Liberation Mono,Courier New,monospace; white-space: nowrap;\">PoS&nbsp;<br>───&nbsp;<br>NN&nbsp;&nbsp;<br>VV&nbsp;&nbsp;<br>NT&nbsp;&nbsp;<br>DEG&nbsp;<br>NN&nbsp;&nbsp;<br>PU&nbsp;&nbsp;<br>NN&nbsp;&nbsp;<br>CC&nbsp;&nbsp;<br>NN&nbsp;&nbsp;</pre><pre style=\"display: table-cell; font-family: SFMono-Regular,Menlo,Monaco,Consolas,Liberation Mono,Courier New,monospace; white-space: nowrap;\">Tok&nbsp;&nbsp;&nbsp;&nbsp;<br>──────&nbsp;<br>到期日&nbsp;&nbsp;&nbsp;&nbsp;<br>早于&nbsp;&nbsp;&nbsp;&nbsp;&nbsp;<br>2015年&nbsp;&nbsp;<br>的&nbsp;&nbsp;&nbsp;&nbsp;&nbsp;&nbsp;<br>产品名称&nbsp;&nbsp;&nbsp;<br>、&nbsp;&nbsp;&nbsp;&nbsp;&nbsp;&nbsp;<br>产品登记编码&nbsp;<br>和&nbsp;&nbsp;&nbsp;&nbsp;&nbsp;&nbsp;<br>到期日&nbsp;&nbsp;&nbsp;&nbsp;</pre><pre style=\"display: table-cell; font-family: SFMono-Regular,Menlo,Monaco,Consolas,Liberation Mono,Courier New,monospace; white-space: nowrap;\">NER&nbsp;Type&nbsp;<br>────────&nbsp;<br>&nbsp;&nbsp;&nbsp;&nbsp;&nbsp;&nbsp;&nbsp;&nbsp;&nbsp;<br>&nbsp;&nbsp;&nbsp;&nbsp;&nbsp;&nbsp;&nbsp;&nbsp;&nbsp;<br>───►DATE&nbsp;<br>&nbsp;&nbsp;&nbsp;&nbsp;&nbsp;&nbsp;&nbsp;&nbsp;&nbsp;<br>&nbsp;&nbsp;&nbsp;&nbsp;&nbsp;&nbsp;&nbsp;&nbsp;&nbsp;<br>&nbsp;&nbsp;&nbsp;&nbsp;&nbsp;&nbsp;&nbsp;&nbsp;&nbsp;<br>&nbsp;&nbsp;&nbsp;&nbsp;&nbsp;&nbsp;&nbsp;&nbsp;&nbsp;<br>&nbsp;&nbsp;&nbsp;&nbsp;&nbsp;&nbsp;&nbsp;&nbsp;&nbsp;<br>&nbsp;&nbsp;&nbsp;&nbsp;&nbsp;&nbsp;&nbsp;&nbsp;&nbsp;</pre><pre style=\"display: table-cell; font-family: SFMono-Regular,Menlo,Monaco,Consolas,Liberation Mono,Courier New,monospace; white-space: nowrap;\">Tok&nbsp;&nbsp;&nbsp;&nbsp;<br>──────&nbsp;<br>到期日&nbsp;&nbsp;&nbsp;&nbsp;<br>早于&nbsp;&nbsp;&nbsp;&nbsp;&nbsp;<br>2015年&nbsp;&nbsp;<br>的&nbsp;&nbsp;&nbsp;&nbsp;&nbsp;&nbsp;<br>产品名称&nbsp;&nbsp;&nbsp;<br>、&nbsp;&nbsp;&nbsp;&nbsp;&nbsp;&nbsp;<br>产品登记编码&nbsp;<br>和&nbsp;&nbsp;&nbsp;&nbsp;&nbsp;&nbsp;<br>到期日&nbsp;&nbsp;&nbsp;&nbsp;</pre><pre style=\"display: table-cell; font-family: SFMono-Regular,Menlo,Monaco,Consolas,Liberation Mono,Courier New,monospace; white-space: nowrap;\">SRL&nbsp;PA1&nbsp;&nbsp;<br>────────&nbsp;<br>───►ARG0&nbsp;<br>╟──►PRED&nbsp;<br>◄─┐&nbsp;&nbsp;&nbsp;&nbsp;&nbsp;&nbsp;<br>&nbsp;&nbsp;│&nbsp;&nbsp;&nbsp;&nbsp;&nbsp;&nbsp;<br>&nbsp;&nbsp;│&nbsp;&nbsp;&nbsp;&nbsp;&nbsp;&nbsp;<br>&nbsp;&nbsp;├►ARG1&nbsp;<br>&nbsp;&nbsp;│&nbsp;&nbsp;&nbsp;&nbsp;&nbsp;&nbsp;<br>&nbsp;&nbsp;│&nbsp;&nbsp;&nbsp;&nbsp;&nbsp;&nbsp;<br>◄─┘&nbsp;&nbsp;&nbsp;&nbsp;&nbsp;&nbsp;</pre><pre style=\"display: table-cell; font-family: SFMono-Regular,Menlo,Monaco,Consolas,Liberation Mono,Courier New,monospace; white-space: nowrap;\">Tok&nbsp;&nbsp;&nbsp;&nbsp;<br>──────&nbsp;<br>到期日&nbsp;&nbsp;&nbsp;&nbsp;<br>早于&nbsp;&nbsp;&nbsp;&nbsp;&nbsp;<br>2015年&nbsp;&nbsp;<br>的&nbsp;&nbsp;&nbsp;&nbsp;&nbsp;&nbsp;<br>产品名称&nbsp;&nbsp;&nbsp;<br>、&nbsp;&nbsp;&nbsp;&nbsp;&nbsp;&nbsp;<br>产品登记编码&nbsp;<br>和&nbsp;&nbsp;&nbsp;&nbsp;&nbsp;&nbsp;<br>到期日&nbsp;&nbsp;&nbsp;&nbsp;</pre><pre style=\"display: table-cell; font-family: SFMono-Regular,Menlo,Monaco,Consolas,Liberation Mono,Courier New,monospace; white-space: nowrap;\">PoS&nbsp;&nbsp;&nbsp;&nbsp;3&nbsp;&nbsp;&nbsp;&nbsp;&nbsp;&nbsp;&nbsp;4&nbsp;&nbsp;&nbsp;&nbsp;&nbsp;&nbsp;&nbsp;5&nbsp;&nbsp;&nbsp;&nbsp;&nbsp;&nbsp;&nbsp;6&nbsp;&nbsp;&nbsp;&nbsp;&nbsp;7&nbsp;&nbsp;<br>────────────────────────────────────────<br>NN&nbsp;───────────────────────────►NP──┐&nbsp;&nbsp;&nbsp;&nbsp;<br>VV&nbsp;──────────────────────────┐&nbsp;&nbsp;&nbsp;&nbsp;&nbsp;│&nbsp;&nbsp;&nbsp;&nbsp;<br>NT&nbsp;───►NP&nbsp;───┐&nbsp;&nbsp;&nbsp;&nbsp;&nbsp;&nbsp;&nbsp;&nbsp;&nbsp;&nbsp;&nbsp;&nbsp;&nbsp;&nbsp;&nbsp;│&nbsp;&nbsp;&nbsp;&nbsp;&nbsp;├►TOP<br>DEG──────────┴►DNP&nbsp;──┐&nbsp;&nbsp;&nbsp;&nbsp;&nbsp;&nbsp;&nbsp;├►VP──┘&nbsp;&nbsp;&nbsp;&nbsp;<br>NN&nbsp;──┐&nbsp;&nbsp;&nbsp;&nbsp;&nbsp;&nbsp;&nbsp;&nbsp;&nbsp;&nbsp;&nbsp;&nbsp;&nbsp;&nbsp;&nbsp;│&nbsp;&nbsp;&nbsp;&nbsp;&nbsp;&nbsp;&nbsp;│&nbsp;&nbsp;&nbsp;&nbsp;&nbsp;&nbsp;&nbsp;&nbsp;&nbsp;&nbsp;<br>PU&nbsp;&nbsp;&nbsp;│&nbsp;&nbsp;&nbsp;&nbsp;&nbsp;&nbsp;&nbsp;&nbsp;&nbsp;&nbsp;&nbsp;&nbsp;&nbsp;&nbsp;&nbsp;├►NP&nbsp;───┘&nbsp;&nbsp;&nbsp;&nbsp;&nbsp;&nbsp;&nbsp;&nbsp;&nbsp;&nbsp;<br>NN&nbsp;&nbsp;&nbsp;├────────►NP&nbsp;───┘&nbsp;&nbsp;&nbsp;&nbsp;&nbsp;&nbsp;&nbsp;&nbsp;&nbsp;&nbsp;&nbsp;&nbsp;&nbsp;&nbsp;&nbsp;&nbsp;&nbsp;&nbsp;<br>CC&nbsp;&nbsp;&nbsp;│&nbsp;&nbsp;&nbsp;&nbsp;&nbsp;&nbsp;&nbsp;&nbsp;&nbsp;&nbsp;&nbsp;&nbsp;&nbsp;&nbsp;&nbsp;&nbsp;&nbsp;&nbsp;&nbsp;&nbsp;&nbsp;&nbsp;&nbsp;&nbsp;&nbsp;&nbsp;&nbsp;&nbsp;&nbsp;&nbsp;&nbsp;&nbsp;&nbsp;&nbsp;<br>NN&nbsp;──┘&nbsp;&nbsp;&nbsp;&nbsp;&nbsp;&nbsp;&nbsp;&nbsp;&nbsp;&nbsp;&nbsp;&nbsp;&nbsp;&nbsp;&nbsp;&nbsp;&nbsp;&nbsp;&nbsp;&nbsp;&nbsp;&nbsp;&nbsp;&nbsp;&nbsp;&nbsp;&nbsp;&nbsp;&nbsp;&nbsp;&nbsp;&nbsp;&nbsp;&nbsp;</pre></div>"
      ],
      "text/plain": [
       "<IPython.core.display.HTML object>"
      ]
     },
     "metadata": {},
     "output_type": "display_data"
    }
   ],
   "source": [
    "a = HanLP(\"到期日早于2015年的产品名称、产品登记编码和到期日\")\n",
    "a.pretty_print()"
   ]
  },
  {
   "cell_type": "code",
   "execution_count": 48,
   "id": "455589b3",
   "metadata": {},
   "outputs": [
    {
     "data": {
      "text/plain": [
       "['NP', [['NP', [['NN', ['募集方式']]]], ['CC', ['和']], ['NP', [['NN', ['产品名称']]]]]]"
      ]
     },
     "execution_count": 48,
     "metadata": {},
     "output_type": "execute_result"
    }
   ],
   "source": [
    "a['con'][-1][-1]"
   ]
  },
  {
   "cell_type": "code",
   "execution_count": 33,
   "id": "8b168ee7",
   "metadata": {},
   "outputs": [
    {
     "data": {
      "text/plain": [
       "'NP'"
      ]
     },
     "execution_count": 33,
     "metadata": {},
     "output_type": "execute_result"
    }
   ],
   "source": [
    "a['con'][-1][-1].label()"
   ]
  },
  {
   "cell_type": "code",
   "execution_count": 489,
   "id": "1a1d1433",
   "metadata": {},
   "outputs": [
    {
     "data": {
      "text/plain": [
       "'CC'"
      ]
     },
     "execution_count": 489,
     "metadata": {},
     "output_type": "execute_result"
    }
   ],
   "source": [
    "a['con'][-2].label()"
   ]
  },
  {
   "cell_type": "code",
   "execution_count": 360,
   "id": "2f0fb0c6",
   "metadata": {
    "collapsed": true,
    "jupyter": {
     "outputs_hidden": true
    }
   },
   "outputs": [
    {
     "data": {
      "text/plain": [
       "['NP', [['NN', ['募集方式']], ['CC', ['和']], ['NN', ['投资比例']]]]"
      ]
     },
     "execution_count": 360,
     "metadata": {},
     "output_type": "execute_result"
    }
   ],
   "source": [
    "location"
   ]
  },
  {
   "cell_type": "code",
   "execution_count": 500,
   "id": "29955ccf",
   "metadata": {},
   "outputs": [
    {
     "data": {
      "text/plain": [
       "['青葵', '系列', '产品', '的']"
      ]
     },
     "execution_count": 500,
     "metadata": {},
     "output_type": "execute_result"
    }
   ],
   "source": [
    "a['con'][0].leaves()"
   ]
  },
  {
   "cell_type": "code",
   "execution_count": 131,
   "id": "a471c51b",
   "metadata": {},
   "outputs": [
    {
     "name": "stdout",
     "output_type": "stream",
     "text": [
      "[{'理财计划到期日': ['上限-小于-2030年4月3日']}, {'产品名称': '金葵'}, {'理财计划': \"'2030年4月3日'\"}]\n",
      "[{'认购起点': ['大于-2000份']}]\n",
      "[{'理财计划到期日': ['小于-2030年4月3日']}]\n"
     ]
    }
   ],
   "source": [
    "s1=[{'理财计划到期日': ['上限', '小于', '2030年4月3日']}, {'产品名称': '金葵'},{'理财计划': ['2030年4月3日']}]\n",
    "ss=[{'理财计划到期日': ['小于', '2030年4月3日']}]\n",
    "s2=[{'认购起点': ['大于', '2000份']}]\n",
    "def change_symbol(items):\n",
    "    output=[]\n",
    "    for item in items:\n",
    "        a=str(item.keys())[12:-3]\n",
    "        b=str(item.values())[14:-3]\n",
    "        item_list=\",\".join(str(i) for i in item.values())\n",
    "        if ('大于'in item_list) or ('小于' in item_list):\n",
    "            ste = re.sub(\"[A-Za-z\\!\\%\\[\\]\\,\\。\\-\\_\\']\", \"\", item_list)\n",
    "            ste = [re.sub(\"[\\ ]\", \"-\", ste)]\n",
    "            output.append({a:ste})\n",
    "        else:\n",
    "            output.append({a:b})\n",
    "    print(output)\n",
    "        \n",
    "        \n",
    "change_symbol(s1)\n",
    "change_symbol(s2)\n",
    "change_symbol(ss)"
   ]
  },
  {
   "cell_type": "code",
   "execution_count": 132,
   "id": "0474d2a1",
   "metadata": {},
   "outputs": [
    {
     "data": {
      "text/plain": [
       "\"['a', 'b']\""
      ]
     },
     "execution_count": 132,
     "metadata": {},
     "output_type": "execute_result"
    }
   ],
   "source": [
    "str(['a','b'])"
   ]
  },
  {
   "cell_type": "code",
   "execution_count": 133,
   "id": "97c03e6a",
   "metadata": {},
   "outputs": [
    {
     "data": {
      "text/plain": [
       "['asd']"
      ]
     },
     "execution_count": 133,
     "metadata": {},
     "output_type": "execute_result"
    }
   ],
   "source": [
    "'asd'.split('-')"
   ]
  },
  {
   "cell_type": "code",
   "execution_count": 134,
   "id": "105ad292",
   "metadata": {},
   "outputs": [],
   "source": [
    "a = [1,3,2]"
   ]
  },
  {
   "cell_type": "code",
   "execution_count": 135,
   "id": "cb4df6e8",
   "metadata": {},
   "outputs": [],
   "source": [
    "a[-1] =2"
   ]
  },
  {
   "cell_type": "code",
   "execution_count": 136,
   "id": "bfb11949",
   "metadata": {},
   "outputs": [
    {
     "data": {
      "text/plain": [
       "[1, 3, 2]"
      ]
     },
     "execution_count": 136,
     "metadata": {},
     "output_type": "execute_result"
    }
   ],
   "source": [
    "a"
   ]
  },
  {
   "cell_type": "code",
   "execution_count": 137,
   "id": "f17adaf8",
   "metadata": {},
   "outputs": [],
   "source": [
    "a[-1] =10"
   ]
  },
  {
   "cell_type": "code",
   "execution_count": 138,
   "id": "bf94f4cb",
   "metadata": {},
   "outputs": [
    {
     "data": {
      "text/plain": [
       "[1, 3, 10]"
      ]
     },
     "execution_count": 138,
     "metadata": {},
     "output_type": "execute_result"
    }
   ],
   "source": [
    "a"
   ]
  },
  {
   "cell_type": "code",
   "execution_count": null,
   "id": "fea1146a",
   "metadata": {},
   "outputs": [],
   "source": []
  }
 ],
 "metadata": {
  "kernelspec": {
   "display_name": "Python 3 (ipykernel)",
   "language": "python",
   "name": "python3"
  },
  "language_info": {
   "codemirror_mode": {
    "name": "ipython",
    "version": 3
   },
   "file_extension": ".py",
   "mimetype": "text/x-python",
   "name": "python",
   "nbconvert_exporter": "python",
   "pygments_lexer": "ipython3",
   "version": "3.9.12"
  },
  "toc": {
   "base_numbering": 1,
   "nav_menu": {},
   "number_sections": true,
   "sideBar": true,
   "skip_h1_title": true,
   "title_cell": "Table of Contents",
   "title_sidebar": "Contents",
   "toc_cell": false,
   "toc_position": {},
   "toc_section_display": true,
   "toc_window_display": false
  }
 },
 "nbformat": 4,
 "nbformat_minor": 5
}
