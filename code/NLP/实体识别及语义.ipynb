{
 "cells": [
  {
   "cell_type": "code",
   "execution_count": 14,
   "metadata": {},
   "outputs": [],
   "source": [
    "import pandas as pd\n",
    "import numpy as np\n",
    "import re\n",
    "import jieba"
   ]
  },
  {
   "cell_type": "code",
   "execution_count": 15,
   "metadata": {},
   "outputs": [],
   "source": [
    "from IPython.core.interactiveshell import InteractiveShell\n",
    "InteractiveShell.ast_node_interactivity = \"all\" \n",
    "#pd.set_option('display.max_rows',100) #b就是你要设置显示的最大的行数参数"
   ]
  },
  {
   "cell_type": "code",
   "execution_count": 16,
   "metadata": {},
   "outputs": [],
   "source": [
    "data=pd.read_excel('理财产品属性.xlsx').set_index(\"Unnamed: 0\")"
   ]
  },
  {
   "cell_type": "code",
   "execution_count": 17,
   "metadata": {},
   "outputs": [
    {
     "data": {
      "text/plain": [
       "{'产品名称': '属性',\n",
       " '产品代码': '属性',\n",
       " '产品登记编码': '属性',\n",
       " '本金及理财收益': '属性',\n",
       " '巨额赎回': '属性',\n",
       " '认购/申购上限': '属性',\n",
       " '理财计划到期日': '属性',\n",
       " '认购、申购及赎回方式': '属性',\n",
       " '理财币种': '属性',\n",
       " '产品类型': '属性',\n",
       " '募集方式': '属性',\n",
       " '运作方式': '属性',\n",
       " '业绩比较基准': '属性',\n",
       " '理财计划份额': '属性',\n",
       " '理财计划份额面值': '属性',\n",
       " '发行规模': '属性',\n",
       " '认购起点': '属性',\n",
       " '认购期': '属性',\n",
       " '认购登记日': '属性',\n",
       " '理财计划成立日': '属性',\n",
       " '估值日': '属性',\n",
       " '理财计划申购和赎回': '属性',\n",
       " '费用': '属性',\n",
       " '税款': '属性',\n",
       " '投资策略': '属性'}"
      ]
     },
     "execution_count": 17,
     "metadata": {},
     "output_type": "execute_result"
    }
   ],
   "source": [
    "#构建{属性名：'属性'}字典\n",
    "data_dict1={}\n",
    "for val in data.columns:\n",
    "    data_dict1[val]=\"属性\"\n",
    "\n",
    "data_dict1"
   ]
  },
  {
   "cell_type": "code",
   "execution_count": 18,
   "metadata": {},
   "outputs": [
    {
     "data": {
      "text/plain": [
       "271"
      ]
     },
     "execution_count": 18,
     "metadata": {},
     "output_type": "execute_result"
    },
    {
     "data": {
      "text/plain": [
       "{'招商银行年年享5号理财计划': '产品名称',\n",
       " '招商银行年年享6号理财计划': '产品名称',\n",
       " '招商银行美元金葵一年定开1号理财计划': '产品名称',\n",
       " '招商银行美元金葵一年定开2号理财计划': '产品名称',\n",
       " '招商银行美元金葵一年定开3号理财计划': '产品名称',\n",
       " '招商银行美元金葵一年定开4号理财计划': '产品名称',\n",
       " '招商银行美元金葵一年定开6号理财计划': '产品名称',\n",
       " '招商银行美元金葵一年定开7号理财计划': '产品名称',\n",
       " '招商银行美元金葵季季开1号理财计划': '产品名称',\n",
       " '招商银行美元金葵季季开2号理财计划': '产品名称',\n",
       " '招商银行美元金葵季季开3号理财计划': '产品名称',\n",
       " '招商银行美元金葵季季开4号理财计划': '产品名称',\n",
       " '招商银行美元金葵季季开5号理财计划': '产品名称',\n",
       " '招商银行美元金葵季季开6号理财计划': '产品名称',\n",
       " '招商银行零售青葵系列一年半定开1号理财计划': '产品名称',\n",
       " '招商银行零售青葵系列一年半定开4号理财计划': '产品名称',\n",
       " '招商银行零售青葵系列一年半定开5号理财计划': '产品名称',\n",
       " '招商银行零售青葵系列一年定开1号理财计划': '产品名称',\n",
       " '招商银行零售青葵系列一年定开8号理财计划': '产品名称',\n",
       " '招商银行零售青葵系列一年定开9号理财计划': '产品名称',\n",
       " '招商银行零售青葵系列半年定开2号理财计划': '产品名称',\n",
       " '招商银行零售青葵系列半年定开3号理财计划': '产品名称',\n",
       " '招商银行零售青葵系列半年定开4号理财计划': '产品名称',\n",
       " '招商银行青葵系列一年半定开005号理财计划': '产品名称',\n",
       " '招商银行青葵系列一年半定开006号理财计划': '产品名称',\n",
       " '招商银行青葵系列一年半定开007号理财计划': '产品名称',\n",
       " '招商银行青葵系列一年半定开008号理财计划': '产品名称',\n",
       " '招商银行青葵系列一年半定开009号理财计划': '产品名称',\n",
       " '招商银行青葵系列一年半定开010号理财计划': '产品名称',\n",
       " '招商银行青葵系列一年半定开011号理财计划': '产品名称',\n",
       " '招商银行青葵系列一年半定开012号理财计划': '产品名称',\n",
       " '招商银行青葵系列一年定开004号理财计划': '产品名称',\n",
       " '招商银行青葵系列两年定开001号理财计划': '产品名称',\n",
       " '招商银行青葵系列两年定开002号理财计划': '产品名称',\n",
       " '招商银行青葵系列两年定开003号理财计划': '产品名称',\n",
       " '招商银行青葵系列两年定开004号理财计划': '产品名称',\n",
       " '招商银行青葵系列两年定开005号理财计划': '产品名称',\n",
       " '招商银行青葵系列两年定开006号理财计划': '产品名称',\n",
       " '招商银行青葵系列两年定开007号理财计划': '产品名称',\n",
       " '招商银行青葵系列两年定开008号理财计划': '产品名称',\n",
       " '招商银行青葵系列两年定开009号理财计划': '产品名称',\n",
       " '招商银行青葵系列两年定开010号理财计划': '产品名称',\n",
       " '招商银行青葵系列两年定开011号理财计划': '产品名称',\n",
       " '招商银行青葵系列两年定开012号理财计划': '产品名称',\n",
       " 107205: '产品代码',\n",
       " 107206: '产品代码',\n",
       " 2101: '产品代码',\n",
       " 2103: '产品代码',\n",
       " 2105: '产品代码',\n",
       " 2107: '产品代码',\n",
       " 2111: '产品代码',\n",
       " 2113: '产品代码',\n",
       " 2102: '产品代码',\n",
       " 2104: '产品代码',\n",
       " 2106: '产品代码',\n",
       " 2108: '产品代码',\n",
       " 2110: '产品代码',\n",
       " 2112: '产品代码',\n",
       " 301037: '产品代码',\n",
       " 301040: '产品代码',\n",
       " 301041: '产品代码',\n",
       " 301025: '产品代码',\n",
       " 301032: '产品代码',\n",
       " 301033: '产品代码',\n",
       " 301002: '产品代码',\n",
       " 301003: '产品代码',\n",
       " 301004: '产品代码',\n",
       " 301047: '产品代码',\n",
       " 301048: '产品代码',\n",
       " 301049: '产品代码',\n",
       " 301050: '产品代码',\n",
       " 301051: '产品代码',\n",
       " 301052: '产品代码',\n",
       " 301053: '产品代码',\n",
       " 301054: '产品代码',\n",
       " 301082: '产品代码',\n",
       " 301056: '产品代码',\n",
       " 301057: '产品代码',\n",
       " 301058: '产品代码',\n",
       " 301059: '产品代码',\n",
       " 301060: '产品代码',\n",
       " 301061: '产品代码',\n",
       " 301062: '产品代码',\n",
       " 301063: '产品代码',\n",
       " 301064: '产品代码',\n",
       " 301065: '产品代码',\n",
       " 301066: '产品代码',\n",
       " 301067: '产品代码',\n",
       " 'C1030819000925': '产品登记编码',\n",
       " 'C1030819001083': '产品登记编码',\n",
       " 'C1030819001500': '产品登记编码',\n",
       " 'C1030819001689': '产品登记编码',\n",
       " 'C1030820000012': '产品登记编码',\n",
       " 'C1030820000164': '产品登记编码',\n",
       " 'C1030820000599': '产品登记编码',\n",
       " 'C1030820000624': '产品登记编码',\n",
       " 'C1030819001531': '产品登记编码',\n",
       " 'C1030819001715': '产品登记编码',\n",
       " 'C1030820000056': '产品登记编码',\n",
       " 'C1030820000195': '产品登记编码',\n",
       " 'C1030820000314': '产品登记编码',\n",
       " 'C1030820000437': '产品登记编码',\n",
       " 'C1030819000278': '产品登记编码',\n",
       " 'C1030819000799': '产品登记编码',\n",
       " 'C1030819000993': '产品登记编码',\n",
       " 'C1030819000030': '产品登记编码',\n",
       " 'C1030819000923': '产品登记编码',\n",
       " 'C1030819000949': '产品登记编码',\n",
       " 'C1030819000064': '产品登记编码',\n",
       " 'C1030819000111': '产品登记编码',\n",
       " 'C1030819000177': '产品登记编码',\n",
       " 'C1030820000013': '产品登记编码',\n",
       " 'C1030820000132': '产品登记编码',\n",
       " 'C1030820000240': '产品登记编码',\n",
       " 'C1030820000372': '产品登记编码',\n",
       " 'C1030820000476': '产品登记编码',\n",
       " 'C1030820000592': '产品登记编码',\n",
       " 'C1030820000622': '产品登记编码',\n",
       " 'C1030820000636': '产品登记编码',\n",
       " 'C1030819001710': '产品登记编码',\n",
       " 'C1030819001328': '产品登记编码',\n",
       " 'C1030819001462': '产品登记编码',\n",
       " 'C1030819001594': '产品登记编码',\n",
       " 'C1030819001739': '产品登记编码',\n",
       " 'C1030820000104': '产品登记编码',\n",
       " 'C1030820000159': '产品登记编码',\n",
       " 'C1030820000290': '产品登记编码',\n",
       " 'C1030820000445': '产品登记编码',\n",
       " 'C1030820000511': '产品登记编码',\n",
       " 'C1030820000620': '产品登记编码',\n",
       " 'C1030820000625': '产品登记编码',\n",
       " 'C1030820000662': '产品登记编码',\n",
       " nan: '巨额赎回',\n",
       " '5000万元': '认购/申购上限',\n",
       " '1000万美元': '认购/申购上限',\n",
       " '1000万元': '认购/申购上限',\n",
       " '2049年7月12日': '理财计划到期日',\n",
       " '2049年8月13日': '理财计划到期日',\n",
       " '2029年11月7日': '理财计划到期日',\n",
       " '2029年12月11日': '理财计划到期日',\n",
       " '2030年1月13日': '理财计划到期日',\n",
       " '2030年2月26日': '理财计划到期日',\n",
       " '2030年6月18日': '理财计划到期日',\n",
       " '2030年7月21日': '理财计划到期日',\n",
       " '2029年11月14日': '理财计划到期日',\n",
       " '2029年12月20日': '理财计划到期日',\n",
       " '2030年1月22日': '理财计划到期日',\n",
       " '2030年3月6日': '理财计划到期日',\n",
       " '2030年4月3日': '理财计划到期日',\n",
       " '2030年5月7日': '理财计划到期日',\n",
       " '2029年9月12日': '理财计划到期日',\n",
       " '2029年12月21日': '理财计划到期日',\n",
       " '2030年1月30日': '理财计划到期日',\n",
       " '2029年1月11日': '理财计划到期日',\n",
       " '2029年7月2日': '理财计划到期日',\n",
       " '2029年7月19日': '理财计划到期日',\n",
       " '2029年1月18日': '理财计划到期日',\n",
       " '2029年2月1日': '理财计划到期日',\n",
       " '2029年2月19日': '理财计划到期日',\n",
       " '2030年7月15日': '理财计划到期日',\n",
       " '2030年8月14日': '理财计划到期日',\n",
       " '2030年9月12日': '理财计划到期日',\n",
       " '2030年10月14日': '理财计划到期日',\n",
       " '2030年11月15日': '理财计划到期日',\n",
       " '2030年12月10日': '理财计划到期日',\n",
       " '2031年1月15日': '理财计划到期日',\n",
       " '2031年2月14日': '理财计划到期日',\n",
       " '2029年12月18日': '理财计划到期日',\n",
       " '2029年10月10日': '理财计划到期日',\n",
       " '2029年11月5日': '理财计划到期日',\n",
       " '2029年11月29日': '理财计划到期日',\n",
       " '2029年12月24日': '理财计划到期日',\n",
       " '2030年2月3日': '理财计划到期日',\n",
       " '2030年2月25日': '理财计划到期日',\n",
       " '2030年4月2日': '理财计划到期日',\n",
       " '2030年5月8日': '理财计划到期日',\n",
       " '2030年6月3日': '理财计划到期日',\n",
       " '2030年7月7日': '理财计划到期日',\n",
       " '2030年8月5日': '理财计划到期日',\n",
       " '2030年10月19日': '理财计划到期日',\n",
       " '人民币': '理财币种',\n",
       " '美元': '理财币种',\n",
       " '固定收益类': '产品类型',\n",
       " '公募发行': '募集方式',\n",
       " '定期开放式': '运作方式',\n",
       " '3.5%-4.5%': '业绩比较基准',\n",
       " '3.4%-4.4%': '业绩比较基准',\n",
       " '2.0%-3.0%': '业绩比较基准',\n",
       " '1.9%-2.9%': '业绩比较基准',\n",
       " '1.5%-2.5%': '业绩比较基准',\n",
       " '1.7%-2.3%': '业绩比较基准',\n",
       " '1.9%-2.5%': '业绩比较基准',\n",
       " '1.6%-2.2%': '业绩比较基准',\n",
       " '1.5%-2.1%': '业绩比较基准',\n",
       " '4.10%-4.50%': '业绩比较基准',\n",
       " '3.80%-4.20%': '业绩比较基准',\n",
       " '4.20%-4.60%': '业绩比较基准',\n",
       " '3.70%-4.10%': '业绩比较基准',\n",
       " '3.65%-4.05%': '业绩比较基准',\n",
       " '3.90%-4.30%': '业绩比较基准',\n",
       " '3.95%-4.35%': '业绩比较基准',\n",
       " '3.85%-4.25%': '业绩比较基准',\n",
       " '3.30%-4.30%': '业绩比较基准',\n",
       " '3.40%-4.40%': '业绩比较基准',\n",
       " '3.60%-4.60%': '业绩比较基准',\n",
       " '4.00%-4.40%': '业绩比较基准',\n",
       " '3.70%-4.70%': '业绩比较基准',\n",
       " '4.30%-4.70%': '业绩比较基准',\n",
       " '理财计划份额以人民币计价，单位为1份。': '理财计划份额',\n",
       " '理财计划份额以美元计价，单位为1份。': '理财计划份额',\n",
       " '理财计划份额以人民币计价，单位1份。': '理财计划份额',\n",
       " '每份理财计划份额面值为人民币1元。': '理财计划份额面值',\n",
       " '每份理财计划份额面值为美元1元。': '理财计划份额面值',\n",
       " '1亿份-20亿份': '发行规模',\n",
       " '1亿份-30亿份': '发行规模',\n",
       " '2000万份-3亿份': '发行规模',\n",
       " '2000万份-1亿份': '发行规模',\n",
       " '1000万份-3亿份': '发行规模',\n",
       " '-40亿份': '发行规模',\n",
       " '1亿份-': '发行规模',\n",
       " '-50亿份': '发行规模',\n",
       " '-60亿份': '发行规模',\n",
       " '-15亿份': '发行规模',\n",
       " '-10亿份': '发行规模',\n",
       " '-20亿份': '发行规模',\n",
       " '1万份': '认购起点',\n",
       " '2000份': '认购起点',\n",
       " '2019年7月12日': '理财计划成立日',\n",
       " '2019年8月13日': '理财计划成立日',\n",
       " '2019年11月7日': '理财计划成立日',\n",
       " '2019年12月11日': '理财计划成立日',\n",
       " '2020年1月13日': '理财计划成立日',\n",
       " '2020年2月26日': '理财计划成立日',\n",
       " '2020年6月18日': '理财计划成立日',\n",
       " '2020年7月21日': '理财计划成立日',\n",
       " '2019年11月14日': '理财计划成立日',\n",
       " '2019年12月20日': '理财计划成立日',\n",
       " '2020年1月22日': '理财计划成立日',\n",
       " '2020年3月6日': '理财计划成立日',\n",
       " '2020年4月3日': '理财计划成立日',\n",
       " '2020年5月7日': '理财计划成立日',\n",
       " '2019年3月12日': '理财计划成立日',\n",
       " '2019年6月21日': '理财计划成立日',\n",
       " '2019年7月30日': '理财计划成立日',\n",
       " '2019年1月11日': '理财计划成立日',\n",
       " '2019年7月2日': '理财计划成立日',\n",
       " '2019年7月19日': '理财计划成立日',\n",
       " '2019年1月18日': '理财计划成立日',\n",
       " '2019年2月1日': '理财计划成立日',\n",
       " '2019年2月19日': '理财计划成立日',\n",
       " '2020年1月15日': '理财计划成立日',\n",
       " '2020年2月14日': '理财计划成立日',\n",
       " '2020年3月12日': '理财计划成立日',\n",
       " '2020年4月14日': '理财计划成立日',\n",
       " '2020年5月15日': '理财计划成立日',\n",
       " '2020年6月10日': '理财计划成立日',\n",
       " '2020年7月15日': '理财计划成立日',\n",
       " '2020年8月14日': '理财计划成立日',\n",
       " '2019年12月18日': '理财计划成立日',\n",
       " '2019年10月10日': '理财计划成立日',\n",
       " '2019年11月5日': '理财计划成立日',\n",
       " '2019年11月29日': '理财计划成立日',\n",
       " '2019年12月24日': '理财计划成立日',\n",
       " '2020年2月3日': '理财计划成立日',\n",
       " '2020年2月25日': '理财计划成立日',\n",
       " '2020年4月2日': '理财计划成立日',\n",
       " '2020年5月8日': '理财计划成立日',\n",
       " '2020年6月3日': '理财计划成立日',\n",
       " '2020年7月7日': '理财计划成立日',\n",
       " '2020年8月5日': '理财计划成立日',\n",
       " '2020年10月19日': '理财计划成立日'}"
      ]
     },
     "execution_count": 18,
     "metadata": {},
     "output_type": "execute_result"
    }
   ],
   "source": [
    "#构建{元素：属性名}字典\n",
    "data_dict2={}\n",
    "for i in range(data.shape[1]):\n",
    "    data_handle=data.iloc[:,i]\n",
    "    name=data_handle.name\n",
    "    data_handle.drop_duplicates(keep='first',inplace=True)\n",
    "    temp_dict=data_handle.to_dict()\n",
    "    for val in temp_dict.values():\n",
    "        if len(str(val))>25:\n",
    "            continue\n",
    "        data_dict2[val]=name\n",
    "len(data_dict2)\n",
    "data_dict2"
   ]
  },
  {
   "cell_type": "code",
   "execution_count": 19,
   "metadata": {},
   "outputs": [
    {
     "data": {
      "text/plain": [
       "14"
      ]
     },
     "execution_count": 19,
     "metadata": {},
     "output_type": "execute_result"
    },
    {
     "data": {
      "text/plain": [
       "14"
      ]
     },
     "execution_count": 19,
     "metadata": {},
     "output_type": "execute_result"
    },
    {
     "data": {
      "text/plain": [
       "19"
      ]
     },
     "execution_count": 19,
     "metadata": {},
     "output_type": "execute_result"
    },
    {
     "data": {
      "text/plain": [
       "19"
      ]
     },
     "execution_count": 19,
     "metadata": {},
     "output_type": "execute_result"
    },
    {
     "data": {
      "text/plain": [
       "19"
      ]
     },
     "execution_count": 19,
     "metadata": {},
     "output_type": "execute_result"
    },
    {
     "data": {
      "text/plain": [
       "19"
      ]
     },
     "execution_count": 19,
     "metadata": {},
     "output_type": "execute_result"
    },
    {
     "data": {
      "text/plain": [
       "19"
      ]
     },
     "execution_count": 19,
     "metadata": {},
     "output_type": "execute_result"
    },
    {
     "data": {
      "text/plain": [
       "19"
      ]
     },
     "execution_count": 19,
     "metadata": {},
     "output_type": "execute_result"
    },
    {
     "data": {
      "text/plain": [
       "18"
      ]
     },
     "execution_count": 19,
     "metadata": {},
     "output_type": "execute_result"
    },
    {
     "data": {
      "text/plain": [
       "18"
      ]
     },
     "execution_count": 19,
     "metadata": {},
     "output_type": "execute_result"
    },
    {
     "data": {
      "text/plain": [
       "18"
      ]
     },
     "execution_count": 19,
     "metadata": {},
     "output_type": "execute_result"
    },
    {
     "data": {
      "text/plain": [
       "18"
      ]
     },
     "execution_count": 19,
     "metadata": {},
     "output_type": "execute_result"
    },
    {
     "data": {
      "text/plain": [
       "18"
      ]
     },
     "execution_count": 19,
     "metadata": {},
     "output_type": "execute_result"
    },
    {
     "data": {
      "text/plain": [
       "18"
      ]
     },
     "execution_count": 19,
     "metadata": {},
     "output_type": "execute_result"
    },
    {
     "data": {
      "text/plain": [
       "22"
      ]
     },
     "execution_count": 19,
     "metadata": {},
     "output_type": "execute_result"
    },
    {
     "data": {
      "text/plain": [
       "22"
      ]
     },
     "execution_count": 19,
     "metadata": {},
     "output_type": "execute_result"
    },
    {
     "data": {
      "text/plain": [
       "22"
      ]
     },
     "execution_count": 19,
     "metadata": {},
     "output_type": "execute_result"
    },
    {
     "data": {
      "text/plain": [
       "21"
      ]
     },
     "execution_count": 19,
     "metadata": {},
     "output_type": "execute_result"
    },
    {
     "data": {
      "text/plain": [
       "21"
      ]
     },
     "execution_count": 19,
     "metadata": {},
     "output_type": "execute_result"
    },
    {
     "data": {
      "text/plain": [
       "21"
      ]
     },
     "execution_count": 19,
     "metadata": {},
     "output_type": "execute_result"
    },
    {
     "data": {
      "text/plain": [
       "21"
      ]
     },
     "execution_count": 19,
     "metadata": {},
     "output_type": "execute_result"
    },
    {
     "data": {
      "text/plain": [
       "21"
      ]
     },
     "execution_count": 19,
     "metadata": {},
     "output_type": "execute_result"
    },
    {
     "data": {
      "text/plain": [
       "21"
      ]
     },
     "execution_count": 19,
     "metadata": {},
     "output_type": "execute_result"
    },
    {
     "data": {
      "text/plain": [
       "22"
      ]
     },
     "execution_count": 19,
     "metadata": {},
     "output_type": "execute_result"
    },
    {
     "data": {
      "text/plain": [
       "22"
      ]
     },
     "execution_count": 19,
     "metadata": {},
     "output_type": "execute_result"
    },
    {
     "data": {
      "text/plain": [
       "22"
      ]
     },
     "execution_count": 19,
     "metadata": {},
     "output_type": "execute_result"
    },
    {
     "data": {
      "text/plain": [
       "22"
      ]
     },
     "execution_count": 19,
     "metadata": {},
     "output_type": "execute_result"
    },
    {
     "data": {
      "text/plain": [
       "22"
      ]
     },
     "execution_count": 19,
     "metadata": {},
     "output_type": "execute_result"
    },
    {
     "data": {
      "text/plain": [
       "22"
      ]
     },
     "execution_count": 19,
     "metadata": {},
     "output_type": "execute_result"
    },
    {
     "data": {
      "text/plain": [
       "22"
      ]
     },
     "execution_count": 19,
     "metadata": {},
     "output_type": "execute_result"
    },
    {
     "data": {
      "text/plain": [
       "22"
      ]
     },
     "execution_count": 19,
     "metadata": {},
     "output_type": "execute_result"
    },
    {
     "data": {
      "text/plain": [
       "21"
      ]
     },
     "execution_count": 19,
     "metadata": {},
     "output_type": "execute_result"
    },
    {
     "data": {
      "text/plain": [
       "21"
      ]
     },
     "execution_count": 19,
     "metadata": {},
     "output_type": "execute_result"
    },
    {
     "data": {
      "text/plain": [
       "21"
      ]
     },
     "execution_count": 19,
     "metadata": {},
     "output_type": "execute_result"
    },
    {
     "data": {
      "text/plain": [
       "21"
      ]
     },
     "execution_count": 19,
     "metadata": {},
     "output_type": "execute_result"
    },
    {
     "data": {
      "text/plain": [
       "21"
      ]
     },
     "execution_count": 19,
     "metadata": {},
     "output_type": "execute_result"
    },
    {
     "data": {
      "text/plain": [
       "21"
      ]
     },
     "execution_count": 19,
     "metadata": {},
     "output_type": "execute_result"
    },
    {
     "data": {
      "text/plain": [
       "21"
      ]
     },
     "execution_count": 19,
     "metadata": {},
     "output_type": "execute_result"
    },
    {
     "data": {
      "text/plain": [
       "21"
      ]
     },
     "execution_count": 19,
     "metadata": {},
     "output_type": "execute_result"
    },
    {
     "data": {
      "text/plain": [
       "21"
      ]
     },
     "execution_count": 19,
     "metadata": {},
     "output_type": "execute_result"
    },
    {
     "data": {
      "text/plain": [
       "21"
      ]
     },
     "execution_count": 19,
     "metadata": {},
     "output_type": "execute_result"
    },
    {
     "data": {
      "text/plain": [
       "21"
      ]
     },
     "execution_count": 19,
     "metadata": {},
     "output_type": "execute_result"
    },
    {
     "data": {
      "text/plain": [
       "21"
      ]
     },
     "execution_count": 19,
     "metadata": {},
     "output_type": "execute_result"
    },
    {
     "data": {
      "text/plain": [
       "21"
      ]
     },
     "execution_count": 19,
     "metadata": {},
     "output_type": "execute_result"
    },
    {
     "data": {
      "text/plain": [
       "7"
      ]
     },
     "execution_count": 19,
     "metadata": {},
     "output_type": "execute_result"
    },
    {
     "data": {
      "text/plain": [
       "7"
      ]
     },
     "execution_count": 19,
     "metadata": {},
     "output_type": "execute_result"
    },
    {
     "data": {
      "text/plain": [
       "5"
      ]
     },
     "execution_count": 19,
     "metadata": {},
     "output_type": "execute_result"
    },
    {
     "data": {
      "text/plain": [
       "5"
      ]
     },
     "execution_count": 19,
     "metadata": {},
     "output_type": "execute_result"
    },
    {
     "data": {
      "text/plain": [
       "5"
      ]
     },
     "execution_count": 19,
     "metadata": {},
     "output_type": "execute_result"
    },
    {
     "data": {
      "text/plain": [
       "5"
      ]
     },
     "execution_count": 19,
     "metadata": {},
     "output_type": "execute_result"
    },
    {
     "data": {
      "text/plain": [
       "5"
      ]
     },
     "execution_count": 19,
     "metadata": {},
     "output_type": "execute_result"
    },
    {
     "data": {
      "text/plain": [
       "5"
      ]
     },
     "execution_count": 19,
     "metadata": {},
     "output_type": "execute_result"
    },
    {
     "data": {
      "text/plain": [
       "5"
      ]
     },
     "execution_count": 19,
     "metadata": {},
     "output_type": "execute_result"
    },
    {
     "data": {
      "text/plain": [
       "5"
      ]
     },
     "execution_count": 19,
     "metadata": {},
     "output_type": "execute_result"
    },
    {
     "data": {
      "text/plain": [
       "5"
      ]
     },
     "execution_count": 19,
     "metadata": {},
     "output_type": "execute_result"
    },
    {
     "data": {
      "text/plain": [
       "5"
      ]
     },
     "execution_count": 19,
     "metadata": {},
     "output_type": "execute_result"
    },
    {
     "data": {
      "text/plain": [
       "5"
      ]
     },
     "execution_count": 19,
     "metadata": {},
     "output_type": "execute_result"
    },
    {
     "data": {
      "text/plain": [
       "5"
      ]
     },
     "execution_count": 19,
     "metadata": {},
     "output_type": "execute_result"
    },
    {
     "data": {
      "text/plain": [
       "7"
      ]
     },
     "execution_count": 19,
     "metadata": {},
     "output_type": "execute_result"
    },
    {
     "data": {
      "text/plain": [
       "7"
      ]
     },
     "execution_count": 19,
     "metadata": {},
     "output_type": "execute_result"
    },
    {
     "data": {
      "text/plain": [
       "7"
      ]
     },
     "execution_count": 19,
     "metadata": {},
     "output_type": "execute_result"
    },
    {
     "data": {
      "text/plain": [
       "7"
      ]
     },
     "execution_count": 19,
     "metadata": {},
     "output_type": "execute_result"
    },
    {
     "data": {
      "text/plain": [
       "7"
      ]
     },
     "execution_count": 19,
     "metadata": {},
     "output_type": "execute_result"
    },
    {
     "data": {
      "text/plain": [
       "7"
      ]
     },
     "execution_count": 19,
     "metadata": {},
     "output_type": "execute_result"
    },
    {
     "data": {
      "text/plain": [
       "7"
      ]
     },
     "execution_count": 19,
     "metadata": {},
     "output_type": "execute_result"
    },
    {
     "data": {
      "text/plain": [
       "7"
      ]
     },
     "execution_count": 19,
     "metadata": {},
     "output_type": "execute_result"
    },
    {
     "data": {
      "text/plain": [
       "7"
      ]
     },
     "execution_count": 19,
     "metadata": {},
     "output_type": "execute_result"
    },
    {
     "data": {
      "text/plain": [
       "7"
      ]
     },
     "execution_count": 19,
     "metadata": {},
     "output_type": "execute_result"
    },
    {
     "data": {
      "text/plain": [
       "7"
      ]
     },
     "execution_count": 19,
     "metadata": {},
     "output_type": "execute_result"
    },
    {
     "data": {
      "text/plain": [
       "7"
      ]
     },
     "execution_count": 19,
     "metadata": {},
     "output_type": "execute_result"
    },
    {
     "data": {
      "text/plain": [
       "7"
      ]
     },
     "execution_count": 19,
     "metadata": {},
     "output_type": "execute_result"
    },
    {
     "data": {
      "text/plain": [
       "7"
      ]
     },
     "execution_count": 19,
     "metadata": {},
     "output_type": "execute_result"
    },
    {
     "data": {
      "text/plain": [
       "7"
      ]
     },
     "execution_count": 19,
     "metadata": {},
     "output_type": "execute_result"
    },
    {
     "data": {
      "text/plain": [
       "7"
      ]
     },
     "execution_count": 19,
     "metadata": {},
     "output_type": "execute_result"
    },
    {
     "data": {
      "text/plain": [
       "7"
      ]
     },
     "execution_count": 19,
     "metadata": {},
     "output_type": "execute_result"
    },
    {
     "data": {
      "text/plain": [
       "7"
      ]
     },
     "execution_count": 19,
     "metadata": {},
     "output_type": "execute_result"
    },
    {
     "data": {
      "text/plain": [
       "7"
      ]
     },
     "execution_count": 19,
     "metadata": {},
     "output_type": "execute_result"
    },
    {
     "data": {
      "text/plain": [
       "7"
      ]
     },
     "execution_count": 19,
     "metadata": {},
     "output_type": "execute_result"
    },
    {
     "data": {
      "text/plain": [
       "7"
      ]
     },
     "execution_count": 19,
     "metadata": {},
     "output_type": "execute_result"
    },
    {
     "data": {
      "text/plain": [
       "7"
      ]
     },
     "execution_count": 19,
     "metadata": {},
     "output_type": "execute_result"
    },
    {
     "data": {
      "text/plain": [
       "7"
      ]
     },
     "execution_count": 19,
     "metadata": {},
     "output_type": "execute_result"
    },
    {
     "data": {
      "text/plain": [
       "7"
      ]
     },
     "execution_count": 19,
     "metadata": {},
     "output_type": "execute_result"
    },
    {
     "data": {
      "text/plain": [
       "7"
      ]
     },
     "execution_count": 19,
     "metadata": {},
     "output_type": "execute_result"
    },
    {
     "data": {
      "text/plain": [
       "7"
      ]
     },
     "execution_count": 19,
     "metadata": {},
     "output_type": "execute_result"
    },
    {
     "data": {
      "text/plain": [
       "7"
      ]
     },
     "execution_count": 19,
     "metadata": {},
     "output_type": "execute_result"
    },
    {
     "data": {
      "text/plain": [
       "7"
      ]
     },
     "execution_count": 19,
     "metadata": {},
     "output_type": "execute_result"
    },
    {
     "data": {
      "text/plain": [
       "7"
      ]
     },
     "execution_count": 19,
     "metadata": {},
     "output_type": "execute_result"
    },
    {
     "data": {
      "text/plain": [
       "7"
      ]
     },
     "execution_count": 19,
     "metadata": {},
     "output_type": "execute_result"
    },
    {
     "data": {
      "text/plain": [
       "15"
      ]
     },
     "execution_count": 19,
     "metadata": {},
     "output_type": "execute_result"
    },
    {
     "data": {
      "text/plain": [
       "15"
      ]
     },
     "execution_count": 19,
     "metadata": {},
     "output_type": "execute_result"
    },
    {
     "data": {
      "text/plain": [
       "15"
      ]
     },
     "execution_count": 19,
     "metadata": {},
     "output_type": "execute_result"
    },
    {
     "data": {
      "text/plain": [
       "15"
      ]
     },
     "execution_count": 19,
     "metadata": {},
     "output_type": "execute_result"
    },
    {
     "data": {
      "text/plain": [
       "15"
      ]
     },
     "execution_count": 19,
     "metadata": {},
     "output_type": "execute_result"
    },
    {
     "data": {
      "text/plain": [
       "15"
      ]
     },
     "execution_count": 19,
     "metadata": {},
     "output_type": "execute_result"
    },
    {
     "data": {
      "text/plain": [
       "15"
      ]
     },
     "execution_count": 19,
     "metadata": {},
     "output_type": "execute_result"
    },
    {
     "data": {
      "text/plain": [
       "15"
      ]
     },
     "execution_count": 19,
     "metadata": {},
     "output_type": "execute_result"
    },
    {
     "data": {
      "text/plain": [
       "15"
      ]
     },
     "execution_count": 19,
     "metadata": {},
     "output_type": "execute_result"
    },
    {
     "data": {
      "text/plain": [
       "15"
      ]
     },
     "execution_count": 19,
     "metadata": {},
     "output_type": "execute_result"
    },
    {
     "data": {
      "text/plain": [
       "15"
      ]
     },
     "execution_count": 19,
     "metadata": {},
     "output_type": "execute_result"
    },
    {
     "data": {
      "text/plain": [
       "15"
      ]
     },
     "execution_count": 19,
     "metadata": {},
     "output_type": "execute_result"
    },
    {
     "data": {
      "text/plain": [
       "15"
      ]
     },
     "execution_count": 19,
     "metadata": {},
     "output_type": "execute_result"
    },
    {
     "data": {
      "text/plain": [
       "15"
      ]
     },
     "execution_count": 19,
     "metadata": {},
     "output_type": "execute_result"
    },
    {
     "data": {
      "text/plain": [
       "15"
      ]
     },
     "execution_count": 19,
     "metadata": {},
     "output_type": "execute_result"
    },
    {
     "data": {
      "text/plain": [
       "15"
      ]
     },
     "execution_count": 19,
     "metadata": {},
     "output_type": "execute_result"
    },
    {
     "data": {
      "text/plain": [
       "15"
      ]
     },
     "execution_count": 19,
     "metadata": {},
     "output_type": "execute_result"
    },
    {
     "data": {
      "text/plain": [
       "15"
      ]
     },
     "execution_count": 19,
     "metadata": {},
     "output_type": "execute_result"
    },
    {
     "data": {
      "text/plain": [
       "15"
      ]
     },
     "execution_count": 19,
     "metadata": {},
     "output_type": "execute_result"
    },
    {
     "data": {
      "text/plain": [
       "15"
      ]
     },
     "execution_count": 19,
     "metadata": {},
     "output_type": "execute_result"
    },
    {
     "data": {
      "text/plain": [
       "15"
      ]
     },
     "execution_count": 19,
     "metadata": {},
     "output_type": "execute_result"
    },
    {
     "data": {
      "text/plain": [
       "15"
      ]
     },
     "execution_count": 19,
     "metadata": {},
     "output_type": "execute_result"
    },
    {
     "data": {
      "text/plain": [
       "15"
      ]
     },
     "execution_count": 19,
     "metadata": {},
     "output_type": "execute_result"
    },
    {
     "data": {
      "text/plain": [
       "15"
      ]
     },
     "execution_count": 19,
     "metadata": {},
     "output_type": "execute_result"
    },
    {
     "data": {
      "text/plain": [
       "15"
      ]
     },
     "execution_count": 19,
     "metadata": {},
     "output_type": "execute_result"
    },
    {
     "data": {
      "text/plain": [
       "15"
      ]
     },
     "execution_count": 19,
     "metadata": {},
     "output_type": "execute_result"
    },
    {
     "data": {
      "text/plain": [
       "15"
      ]
     },
     "execution_count": 19,
     "metadata": {},
     "output_type": "execute_result"
    },
    {
     "data": {
      "text/plain": [
       "15"
      ]
     },
     "execution_count": 19,
     "metadata": {},
     "output_type": "execute_result"
    },
    {
     "data": {
      "text/plain": [
       "15"
      ]
     },
     "execution_count": 19,
     "metadata": {},
     "output_type": "execute_result"
    },
    {
     "data": {
      "text/plain": [
       "15"
      ]
     },
     "execution_count": 19,
     "metadata": {},
     "output_type": "execute_result"
    },
    {
     "data": {
      "text/plain": [
       "15"
      ]
     },
     "execution_count": 19,
     "metadata": {},
     "output_type": "execute_result"
    },
    {
     "data": {
      "text/plain": [
       "15"
      ]
     },
     "execution_count": 19,
     "metadata": {},
     "output_type": "execute_result"
    },
    {
     "data": {
      "text/plain": [
       "15"
      ]
     },
     "execution_count": 19,
     "metadata": {},
     "output_type": "execute_result"
    },
    {
     "data": {
      "text/plain": [
       "15"
      ]
     },
     "execution_count": 19,
     "metadata": {},
     "output_type": "execute_result"
    },
    {
     "data": {
      "text/plain": [
       "15"
      ]
     },
     "execution_count": 19,
     "metadata": {},
     "output_type": "execute_result"
    },
    {
     "data": {
      "text/plain": [
       "15"
      ]
     },
     "execution_count": 19,
     "metadata": {},
     "output_type": "execute_result"
    },
    {
     "data": {
      "text/plain": [
       "15"
      ]
     },
     "execution_count": 19,
     "metadata": {},
     "output_type": "execute_result"
    },
    {
     "data": {
      "text/plain": [
       "15"
      ]
     },
     "execution_count": 19,
     "metadata": {},
     "output_type": "execute_result"
    },
    {
     "data": {
      "text/plain": [
       "15"
      ]
     },
     "execution_count": 19,
     "metadata": {},
     "output_type": "execute_result"
    },
    {
     "data": {
      "text/plain": [
       "15"
      ]
     },
     "execution_count": 19,
     "metadata": {},
     "output_type": "execute_result"
    },
    {
     "data": {
      "text/plain": [
       "15"
      ]
     },
     "execution_count": 19,
     "metadata": {},
     "output_type": "execute_result"
    },
    {
     "data": {
      "text/plain": [
       "15"
      ]
     },
     "execution_count": 19,
     "metadata": {},
     "output_type": "execute_result"
    },
    {
     "data": {
      "text/plain": [
       "15"
      ]
     },
     "execution_count": 19,
     "metadata": {},
     "output_type": "execute_result"
    },
    {
     "data": {
      "text/plain": [
       "15"
      ]
     },
     "execution_count": 19,
     "metadata": {},
     "output_type": "execute_result"
    },
    {
     "data": {
      "text/plain": [
       "4"
      ]
     },
     "execution_count": 19,
     "metadata": {},
     "output_type": "execute_result"
    },
    {
     "data": {
      "text/plain": [
       "7"
      ]
     },
     "execution_count": 19,
     "metadata": {},
     "output_type": "execute_result"
    },
    {
     "data": {
      "text/plain": [
       "8"
      ]
     },
     "execution_count": 19,
     "metadata": {},
     "output_type": "execute_result"
    },
    {
     "data": {
      "text/plain": [
       "7"
      ]
     },
     "execution_count": 19,
     "metadata": {},
     "output_type": "execute_result"
    },
    {
     "data": {
      "text/plain": [
       "11"
      ]
     },
     "execution_count": 19,
     "metadata": {},
     "output_type": "execute_result"
    },
    {
     "data": {
      "text/plain": [
       "11"
      ]
     },
     "execution_count": 19,
     "metadata": {},
     "output_type": "execute_result"
    },
    {
     "data": {
      "text/plain": [
       "11"
      ]
     },
     "execution_count": 19,
     "metadata": {},
     "output_type": "execute_result"
    },
    {
     "data": {
      "text/plain": [
       "12"
      ]
     },
     "execution_count": 19,
     "metadata": {},
     "output_type": "execute_result"
    },
    {
     "data": {
      "text/plain": [
       "11"
      ]
     },
     "execution_count": 19,
     "metadata": {},
     "output_type": "execute_result"
    },
    {
     "data": {
      "text/plain": [
       "11"
      ]
     },
     "execution_count": 19,
     "metadata": {},
     "output_type": "execute_result"
    },
    {
     "data": {
      "text/plain": [
       "11"
      ]
     },
     "execution_count": 19,
     "metadata": {},
     "output_type": "execute_result"
    },
    {
     "data": {
      "text/plain": [
       "11"
      ]
     },
     "execution_count": 19,
     "metadata": {},
     "output_type": "execute_result"
    },
    {
     "data": {
      "text/plain": [
       "12"
      ]
     },
     "execution_count": 19,
     "metadata": {},
     "output_type": "execute_result"
    },
    {
     "data": {
      "text/plain": [
       "12"
      ]
     },
     "execution_count": 19,
     "metadata": {},
     "output_type": "execute_result"
    },
    {
     "data": {
      "text/plain": [
       "11"
      ]
     },
     "execution_count": 19,
     "metadata": {},
     "output_type": "execute_result"
    },
    {
     "data": {
      "text/plain": [
       "10"
      ]
     },
     "execution_count": 19,
     "metadata": {},
     "output_type": "execute_result"
    },
    {
     "data": {
      "text/plain": [
       "10"
      ]
     },
     "execution_count": 19,
     "metadata": {},
     "output_type": "execute_result"
    },
    {
     "data": {
      "text/plain": [
       "10"
      ]
     },
     "execution_count": 19,
     "metadata": {},
     "output_type": "execute_result"
    },
    {
     "data": {
      "text/plain": [
       "11"
      ]
     },
     "execution_count": 19,
     "metadata": {},
     "output_type": "execute_result"
    },
    {
     "data": {
      "text/plain": [
       "12"
      ]
     },
     "execution_count": 19,
     "metadata": {},
     "output_type": "execute_result"
    },
    {
     "data": {
      "text/plain": [
       "11"
      ]
     },
     "execution_count": 19,
     "metadata": {},
     "output_type": "execute_result"
    },
    {
     "data": {
      "text/plain": [
       "11"
      ]
     },
     "execution_count": 19,
     "metadata": {},
     "output_type": "execute_result"
    },
    {
     "data": {
      "text/plain": [
       "10"
      ]
     },
     "execution_count": 19,
     "metadata": {},
     "output_type": "execute_result"
    },
    {
     "data": {
      "text/plain": [
       "11"
      ]
     },
     "execution_count": 19,
     "metadata": {},
     "output_type": "execute_result"
    },
    {
     "data": {
      "text/plain": [
       "11"
      ]
     },
     "execution_count": 19,
     "metadata": {},
     "output_type": "execute_result"
    },
    {
     "data": {
      "text/plain": [
       "10"
      ]
     },
     "execution_count": 19,
     "metadata": {},
     "output_type": "execute_result"
    },
    {
     "data": {
      "text/plain": [
       "11"
      ]
     },
     "execution_count": 19,
     "metadata": {},
     "output_type": "execute_result"
    },
    {
     "data": {
      "text/plain": [
       "11"
      ]
     },
     "execution_count": 19,
     "metadata": {},
     "output_type": "execute_result"
    },
    {
     "data": {
      "text/plain": [
       "11"
      ]
     },
     "execution_count": 19,
     "metadata": {},
     "output_type": "execute_result"
    },
    {
     "data": {
      "text/plain": [
       "11"
      ]
     },
     "execution_count": 19,
     "metadata": {},
     "output_type": "execute_result"
    },
    {
     "data": {
      "text/plain": [
       "12"
      ]
     },
     "execution_count": 19,
     "metadata": {},
     "output_type": "execute_result"
    },
    {
     "data": {
      "text/plain": [
       "12"
      ]
     },
     "execution_count": 19,
     "metadata": {},
     "output_type": "execute_result"
    },
    {
     "data": {
      "text/plain": [
       "12"
      ]
     },
     "execution_count": 19,
     "metadata": {},
     "output_type": "execute_result"
    },
    {
     "data": {
      "text/plain": [
       "11"
      ]
     },
     "execution_count": 19,
     "metadata": {},
     "output_type": "execute_result"
    },
    {
     "data": {
      "text/plain": [
       "11"
      ]
     },
     "execution_count": 19,
     "metadata": {},
     "output_type": "execute_result"
    },
    {
     "data": {
      "text/plain": [
       "12"
      ]
     },
     "execution_count": 19,
     "metadata": {},
     "output_type": "execute_result"
    },
    {
     "data": {
      "text/plain": [
       "12"
      ]
     },
     "execution_count": 19,
     "metadata": {},
     "output_type": "execute_result"
    },
    {
     "data": {
      "text/plain": [
       "11"
      ]
     },
     "execution_count": 19,
     "metadata": {},
     "output_type": "execute_result"
    },
    {
     "data": {
      "text/plain": [
       "12"
      ]
     },
     "execution_count": 19,
     "metadata": {},
     "output_type": "execute_result"
    },
    {
     "data": {
      "text/plain": [
       "12"
      ]
     },
     "execution_count": 19,
     "metadata": {},
     "output_type": "execute_result"
    },
    {
     "data": {
      "text/plain": [
       "10"
      ]
     },
     "execution_count": 19,
     "metadata": {},
     "output_type": "execute_result"
    },
    {
     "data": {
      "text/plain": [
       "11"
      ]
     },
     "execution_count": 19,
     "metadata": {},
     "output_type": "execute_result"
    },
    {
     "data": {
      "text/plain": [
       "10"
      ]
     },
     "execution_count": 19,
     "metadata": {},
     "output_type": "execute_result"
    },
    {
     "data": {
      "text/plain": [
       "10"
      ]
     },
     "execution_count": 19,
     "metadata": {},
     "output_type": "execute_result"
    },
    {
     "data": {
      "text/plain": [
       "10"
      ]
     },
     "execution_count": 19,
     "metadata": {},
     "output_type": "execute_result"
    },
    {
     "data": {
      "text/plain": [
       "10"
      ]
     },
     "execution_count": 19,
     "metadata": {},
     "output_type": "execute_result"
    },
    {
     "data": {
      "text/plain": [
       "10"
      ]
     },
     "execution_count": 19,
     "metadata": {},
     "output_type": "execute_result"
    },
    {
     "data": {
      "text/plain": [
       "12"
      ]
     },
     "execution_count": 19,
     "metadata": {},
     "output_type": "execute_result"
    },
    {
     "data": {
      "text/plain": [
       "4"
      ]
     },
     "execution_count": 19,
     "metadata": {},
     "output_type": "execute_result"
    },
    {
     "data": {
      "text/plain": [
       "3"
      ]
     },
     "execution_count": 19,
     "metadata": {},
     "output_type": "execute_result"
    },
    {
     "data": {
      "text/plain": [
       "6"
      ]
     },
     "execution_count": 19,
     "metadata": {},
     "output_type": "execute_result"
    },
    {
     "data": {
      "text/plain": [
       "5"
      ]
     },
     "execution_count": 19,
     "metadata": {},
     "output_type": "execute_result"
    },
    {
     "data": {
      "text/plain": [
       "6"
      ]
     },
     "execution_count": 19,
     "metadata": {},
     "output_type": "execute_result"
    },
    {
     "data": {
      "text/plain": [
       "10"
      ]
     },
     "execution_count": 19,
     "metadata": {},
     "output_type": "execute_result"
    },
    {
     "data": {
      "text/plain": [
       "10"
      ]
     },
     "execution_count": 19,
     "metadata": {},
     "output_type": "execute_result"
    },
    {
     "data": {
      "text/plain": [
       "10"
      ]
     },
     "execution_count": 19,
     "metadata": {},
     "output_type": "execute_result"
    },
    {
     "data": {
      "text/plain": [
       "10"
      ]
     },
     "execution_count": 19,
     "metadata": {},
     "output_type": "execute_result"
    },
    {
     "data": {
      "text/plain": [
       "10"
      ]
     },
     "execution_count": 19,
     "metadata": {},
     "output_type": "execute_result"
    },
    {
     "data": {
      "text/plain": [
       "10"
      ]
     },
     "execution_count": 19,
     "metadata": {},
     "output_type": "execute_result"
    },
    {
     "data": {
      "text/plain": [
       "10"
      ]
     },
     "execution_count": 19,
     "metadata": {},
     "output_type": "execute_result"
    },
    {
     "data": {
      "text/plain": [
       "10"
      ]
     },
     "execution_count": 19,
     "metadata": {},
     "output_type": "execute_result"
    },
    {
     "data": {
      "text/plain": [
       "10"
      ]
     },
     "execution_count": 19,
     "metadata": {},
     "output_type": "execute_result"
    },
    {
     "data": {
      "text/plain": [
       "12"
      ]
     },
     "execution_count": 19,
     "metadata": {},
     "output_type": "execute_result"
    },
    {
     "data": {
      "text/plain": [
       "12"
      ]
     },
     "execution_count": 19,
     "metadata": {},
     "output_type": "execute_result"
    },
    {
     "data": {
      "text/plain": [
       "12"
      ]
     },
     "execution_count": 19,
     "metadata": {},
     "output_type": "execute_result"
    },
    {
     "data": {
      "text/plain": [
       "12"
      ]
     },
     "execution_count": 19,
     "metadata": {},
     "output_type": "execute_result"
    },
    {
     "data": {
      "text/plain": [
       "12"
      ]
     },
     "execution_count": 19,
     "metadata": {},
     "output_type": "execute_result"
    },
    {
     "data": {
      "text/plain": [
       "12"
      ]
     },
     "execution_count": 19,
     "metadata": {},
     "output_type": "execute_result"
    },
    {
     "data": {
      "text/plain": [
       "12"
      ]
     },
     "execution_count": 19,
     "metadata": {},
     "output_type": "execute_result"
    },
    {
     "data": {
      "text/plain": [
       "12"
      ]
     },
     "execution_count": 19,
     "metadata": {},
     "output_type": "execute_result"
    },
    {
     "data": {
      "text/plain": [
       "12"
      ]
     },
     "execution_count": 19,
     "metadata": {},
     "output_type": "execute_result"
    },
    {
     "data": {
      "text/plain": [
       "12"
      ]
     },
     "execution_count": 19,
     "metadata": {},
     "output_type": "execute_result"
    },
    {
     "data": {
      "text/plain": [
       "12"
      ]
     },
     "execution_count": 19,
     "metadata": {},
     "output_type": "execute_result"
    },
    {
     "data": {
      "text/plain": [
       "12"
      ]
     },
     "execution_count": 19,
     "metadata": {},
     "output_type": "execute_result"
    },
    {
     "data": {
      "text/plain": [
       "12"
      ]
     },
     "execution_count": 19,
     "metadata": {},
     "output_type": "execute_result"
    },
    {
     "data": {
      "text/plain": [
       "12"
      ]
     },
     "execution_count": 19,
     "metadata": {},
     "output_type": "execute_result"
    },
    {
     "data": {
      "text/plain": [
       "20"
      ]
     },
     "execution_count": 19,
     "metadata": {},
     "output_type": "execute_result"
    },
    {
     "data": {
      "text/plain": [
       "19"
      ]
     },
     "execution_count": 19,
     "metadata": {},
     "output_type": "execute_result"
    },
    {
     "data": {
      "text/plain": [
       "19"
      ]
     },
     "execution_count": 19,
     "metadata": {},
     "output_type": "execute_result"
    },
    {
     "data": {
      "text/plain": [
       "18"
      ]
     },
     "execution_count": 19,
     "metadata": {},
     "output_type": "execute_result"
    },
    {
     "data": {
      "text/plain": [
       "17"
      ]
     },
     "execution_count": 19,
     "metadata": {},
     "output_type": "execute_result"
    },
    {
     "data": {
      "text/plain": [
       "9"
      ]
     },
     "execution_count": 19,
     "metadata": {},
     "output_type": "execute_result"
    },
    {
     "data": {
      "text/plain": [
       "9"
      ]
     },
     "execution_count": 19,
     "metadata": {},
     "output_type": "execute_result"
    },
    {
     "data": {
      "text/plain": [
       "11"
      ]
     },
     "execution_count": 19,
     "metadata": {},
     "output_type": "execute_result"
    },
    {
     "data": {
      "text/plain": [
       "11"
      ]
     },
     "execution_count": 19,
     "metadata": {},
     "output_type": "execute_result"
    },
    {
     "data": {
      "text/plain": [
       "11"
      ]
     },
     "execution_count": 19,
     "metadata": {},
     "output_type": "execute_result"
    },
    {
     "data": {
      "text/plain": [
       "6"
      ]
     },
     "execution_count": 19,
     "metadata": {},
     "output_type": "execute_result"
    },
    {
     "data": {
      "text/plain": [
       "5"
      ]
     },
     "execution_count": 19,
     "metadata": {},
     "output_type": "execute_result"
    },
    {
     "data": {
      "text/plain": [
       "6"
      ]
     },
     "execution_count": 19,
     "metadata": {},
     "output_type": "execute_result"
    },
    {
     "data": {
      "text/plain": [
       "6"
      ]
     },
     "execution_count": 19,
     "metadata": {},
     "output_type": "execute_result"
    },
    {
     "data": {
      "text/plain": [
       "6"
      ]
     },
     "execution_count": 19,
     "metadata": {},
     "output_type": "execute_result"
    },
    {
     "data": {
      "text/plain": [
       "6"
      ]
     },
     "execution_count": 19,
     "metadata": {},
     "output_type": "execute_result"
    },
    {
     "data": {
      "text/plain": [
       "6"
      ]
     },
     "execution_count": 19,
     "metadata": {},
     "output_type": "execute_result"
    },
    {
     "data": {
      "text/plain": [
       "4"
      ]
     },
     "execution_count": 19,
     "metadata": {},
     "output_type": "execute_result"
    },
    {
     "data": {
      "text/plain": [
       "6"
      ]
     },
     "execution_count": 19,
     "metadata": {},
     "output_type": "execute_result"
    },
    {
     "data": {
      "text/plain": [
       "11"
      ]
     },
     "execution_count": 19,
     "metadata": {},
     "output_type": "execute_result"
    },
    {
     "data": {
      "text/plain": [
       "11"
      ]
     },
     "execution_count": 19,
     "metadata": {},
     "output_type": "execute_result"
    },
    {
     "data": {
      "text/plain": [
       "11"
      ]
     },
     "execution_count": 19,
     "metadata": {},
     "output_type": "execute_result"
    },
    {
     "data": {
      "text/plain": [
       "12"
      ]
     },
     "execution_count": 19,
     "metadata": {},
     "output_type": "execute_result"
    },
    {
     "data": {
      "text/plain": [
       "11"
      ]
     },
     "execution_count": 19,
     "metadata": {},
     "output_type": "execute_result"
    },
    {
     "data": {
      "text/plain": [
       "11"
      ]
     },
     "execution_count": 19,
     "metadata": {},
     "output_type": "execute_result"
    },
    {
     "data": {
      "text/plain": [
       "11"
      ]
     },
     "execution_count": 19,
     "metadata": {},
     "output_type": "execute_result"
    },
    {
     "data": {
      "text/plain": [
       "11"
      ]
     },
     "execution_count": 19,
     "metadata": {},
     "output_type": "execute_result"
    },
    {
     "data": {
      "text/plain": [
       "12"
      ]
     },
     "execution_count": 19,
     "metadata": {},
     "output_type": "execute_result"
    },
    {
     "data": {
      "text/plain": [
       "12"
      ]
     },
     "execution_count": 19,
     "metadata": {},
     "output_type": "execute_result"
    },
    {
     "data": {
      "text/plain": [
       "11"
      ]
     },
     "execution_count": 19,
     "metadata": {},
     "output_type": "execute_result"
    },
    {
     "data": {
      "text/plain": [
       "10"
      ]
     },
     "execution_count": 19,
     "metadata": {},
     "output_type": "execute_result"
    },
    {
     "data": {
      "text/plain": [
       "10"
      ]
     },
     "execution_count": 19,
     "metadata": {},
     "output_type": "execute_result"
    },
    {
     "data": {
      "text/plain": [
       "10"
      ]
     },
     "execution_count": 19,
     "metadata": {},
     "output_type": "execute_result"
    },
    {
     "data": {
      "text/plain": [
       "11"
      ]
     },
     "execution_count": 19,
     "metadata": {},
     "output_type": "execute_result"
    },
    {
     "data": {
      "text/plain": [
       "11"
      ]
     },
     "execution_count": 19,
     "metadata": {},
     "output_type": "execute_result"
    },
    {
     "data": {
      "text/plain": [
       "11"
      ]
     },
     "execution_count": 19,
     "metadata": {},
     "output_type": "execute_result"
    },
    {
     "data": {
      "text/plain": [
       "11"
      ]
     },
     "execution_count": 19,
     "metadata": {},
     "output_type": "execute_result"
    },
    {
     "data": {
      "text/plain": [
       "10"
      ]
     },
     "execution_count": 19,
     "metadata": {},
     "output_type": "execute_result"
    },
    {
     "data": {
      "text/plain": [
       "11"
      ]
     },
     "execution_count": 19,
     "metadata": {},
     "output_type": "execute_result"
    },
    {
     "data": {
      "text/plain": [
       "11"
      ]
     },
     "execution_count": 19,
     "metadata": {},
     "output_type": "execute_result"
    },
    {
     "data": {
      "text/plain": [
       "10"
      ]
     },
     "execution_count": 19,
     "metadata": {},
     "output_type": "execute_result"
    },
    {
     "data": {
      "text/plain": [
       "11"
      ]
     },
     "execution_count": 19,
     "metadata": {},
     "output_type": "execute_result"
    },
    {
     "data": {
      "text/plain": [
       "11"
      ]
     },
     "execution_count": 19,
     "metadata": {},
     "output_type": "execute_result"
    },
    {
     "data": {
      "text/plain": [
       "11"
      ]
     },
     "execution_count": 19,
     "metadata": {},
     "output_type": "execute_result"
    },
    {
     "data": {
      "text/plain": [
       "11"
      ]
     },
     "execution_count": 19,
     "metadata": {},
     "output_type": "execute_result"
    },
    {
     "data": {
      "text/plain": [
       "11"
      ]
     },
     "execution_count": 19,
     "metadata": {},
     "output_type": "execute_result"
    },
    {
     "data": {
      "text/plain": [
       "11"
      ]
     },
     "execution_count": 19,
     "metadata": {},
     "output_type": "execute_result"
    },
    {
     "data": {
      "text/plain": [
       "11"
      ]
     },
     "execution_count": 19,
     "metadata": {},
     "output_type": "execute_result"
    },
    {
     "data": {
      "text/plain": [
       "11"
      ]
     },
     "execution_count": 19,
     "metadata": {},
     "output_type": "execute_result"
    },
    {
     "data": {
      "text/plain": [
       "11"
      ]
     },
     "execution_count": 19,
     "metadata": {},
     "output_type": "execute_result"
    },
    {
     "data": {
      "text/plain": [
       "12"
      ]
     },
     "execution_count": 19,
     "metadata": {},
     "output_type": "execute_result"
    },
    {
     "data": {
      "text/plain": [
       "12"
      ]
     },
     "execution_count": 19,
     "metadata": {},
     "output_type": "execute_result"
    },
    {
     "data": {
      "text/plain": [
       "11"
      ]
     },
     "execution_count": 19,
     "metadata": {},
     "output_type": "execute_result"
    },
    {
     "data": {
      "text/plain": [
       "12"
      ]
     },
     "execution_count": 19,
     "metadata": {},
     "output_type": "execute_result"
    },
    {
     "data": {
      "text/plain": [
       "12"
      ]
     },
     "execution_count": 19,
     "metadata": {},
     "output_type": "execute_result"
    },
    {
     "data": {
      "text/plain": [
       "10"
      ]
     },
     "execution_count": 19,
     "metadata": {},
     "output_type": "execute_result"
    },
    {
     "data": {
      "text/plain": [
       "11"
      ]
     },
     "execution_count": 19,
     "metadata": {},
     "output_type": "execute_result"
    },
    {
     "data": {
      "text/plain": [
       "10"
      ]
     },
     "execution_count": 19,
     "metadata": {},
     "output_type": "execute_result"
    },
    {
     "data": {
      "text/plain": [
       "10"
      ]
     },
     "execution_count": 19,
     "metadata": {},
     "output_type": "execute_result"
    },
    {
     "data": {
      "text/plain": [
       "10"
      ]
     },
     "execution_count": 19,
     "metadata": {},
     "output_type": "execute_result"
    },
    {
     "data": {
      "text/plain": [
       "10"
      ]
     },
     "execution_count": 19,
     "metadata": {},
     "output_type": "execute_result"
    },
    {
     "data": {
      "text/plain": [
       "10"
      ]
     },
     "execution_count": 19,
     "metadata": {},
     "output_type": "execute_result"
    },
    {
     "data": {
      "text/plain": [
       "12"
      ]
     },
     "execution_count": 19,
     "metadata": {},
     "output_type": "execute_result"
    },
    {
     "data": {
      "text/plain": [
       "5"
      ]
     },
     "execution_count": 19,
     "metadata": {},
     "output_type": "execute_result"
    },
    {
     "data": {
      "text/plain": [
       "11"
      ]
     },
     "execution_count": 19,
     "metadata": {},
     "output_type": "execute_result"
    },
    {
     "data": {
      "text/plain": [
       "5"
      ]
     },
     "execution_count": 19,
     "metadata": {},
     "output_type": "execute_result"
    },
    {
     "data": {
      "text/plain": [
       "8"
      ]
     },
     "execution_count": 19,
     "metadata": {},
     "output_type": "execute_result"
    },
    {
     "data": {
      "text/plain": [
       "5"
      ]
     },
     "execution_count": 19,
     "metadata": {},
     "output_type": "execute_result"
    },
    {
     "data": {
      "text/plain": [
       "8"
      ]
     },
     "execution_count": 19,
     "metadata": {},
     "output_type": "execute_result"
    },
    {
     "data": {
      "text/plain": [
       "5"
      ]
     },
     "execution_count": 19,
     "metadata": {},
     "output_type": "execute_result"
    },
    {
     "data": {
      "text/plain": [
       "4"
      ]
     },
     "execution_count": 19,
     "metadata": {},
     "output_type": "execute_result"
    },
    {
     "data": {
      "text/plain": [
       "8"
      ]
     },
     "execution_count": 19,
     "metadata": {},
     "output_type": "execute_result"
    },
    {
     "data": {
      "text/plain": [
       "5"
      ]
     },
     "execution_count": 19,
     "metadata": {},
     "output_type": "execute_result"
    },
    {
     "data": {
      "text/plain": [
       "7"
      ]
     },
     "execution_count": 19,
     "metadata": {},
     "output_type": "execute_result"
    },
    {
     "data": {
      "text/plain": [
       "9"
      ]
     },
     "execution_count": 19,
     "metadata": {},
     "output_type": "execute_result"
    },
    {
     "data": {
      "text/plain": [
       "4"
      ]
     },
     "execution_count": 19,
     "metadata": {},
     "output_type": "execute_result"
    },
    {
     "data": {
      "text/plain": [
       "5"
      ]
     },
     "execution_count": 19,
     "metadata": {},
     "output_type": "execute_result"
    },
    {
     "data": {
      "text/plain": [
       "5"
      ]
     },
     "execution_count": 19,
     "metadata": {},
     "output_type": "execute_result"
    },
    {
     "data": {
      "text/plain": [
       "10"
      ]
     },
     "execution_count": 19,
     "metadata": {},
     "output_type": "execute_result"
    },
    {
     "data": {
      "text/plain": [
       "5"
      ]
     },
     "execution_count": 19,
     "metadata": {},
     "output_type": "execute_result"
    },
    {
     "data": {
      "text/plain": [
       "7"
      ]
     },
     "execution_count": 19,
     "metadata": {},
     "output_type": "execute_result"
    },
    {
     "data": {
      "text/plain": [
       "5"
      ]
     },
     "execution_count": 19,
     "metadata": {},
     "output_type": "execute_result"
    },
    {
     "data": {
      "text/plain": [
       "3"
      ]
     },
     "execution_count": 19,
     "metadata": {},
     "output_type": "execute_result"
    },
    {
     "data": {
      "text/plain": [
       "3"
      ]
     },
     "execution_count": 19,
     "metadata": {},
     "output_type": "execute_result"
    },
    {
     "data": {
      "text/plain": [
       "8"
      ]
     },
     "execution_count": 19,
     "metadata": {},
     "output_type": "execute_result"
    },
    {
     "data": {
      "text/plain": [
       "5"
      ]
     },
     "execution_count": 19,
     "metadata": {},
     "output_type": "execute_result"
    },
    {
     "data": {
      "text/plain": [
       "6"
      ]
     },
     "execution_count": 19,
     "metadata": {},
     "output_type": "execute_result"
    },
    {
     "data": {
      "text/plain": [
       "7"
      ]
     },
     "execution_count": 19,
     "metadata": {},
     "output_type": "execute_result"
    },
    {
     "data": {
      "text/plain": [
       "3"
      ]
     },
     "execution_count": 19,
     "metadata": {},
     "output_type": "execute_result"
    },
    {
     "data": {
      "text/plain": [
       "3"
      ]
     },
     "execution_count": 19,
     "metadata": {},
     "output_type": "execute_result"
    },
    {
     "data": {
      "text/plain": [
       "3"
      ]
     },
     "execution_count": 19,
     "metadata": {},
     "output_type": "execute_result"
    },
    {
     "data": {
      "text/plain": [
       "5"
      ]
     },
     "execution_count": 19,
     "metadata": {},
     "output_type": "execute_result"
    },
    {
     "name": "stdout",
     "output_type": "stream",
     "text": [
      "2\n",
      "2\n",
      "2\n",
      "2\n",
      "2\n",
      "2\n",
      "2\n",
      "2\n",
      "2\n",
      "2\n",
      "2\n",
      "2\n",
      "2\n",
      "2\n",
      "2\n",
      "2\n",
      "2\n",
      "2\n",
      "2\n",
      "2\n",
      "2\n",
      "2\n",
      "2\n",
      "2\n",
      "2\n",
      "2\n",
      "2\n",
      "2\n",
      "2\n",
      "2\n",
      "2\n",
      "2\n",
      "2\n",
      "2\n",
      "2\n",
      "2\n",
      "2\n",
      "2\n",
      "2\n",
      "2\n",
      "2\n",
      "2\n",
      "2\n",
      "2\n",
      "2\n",
      "2\n",
      "2\n",
      "2\n",
      "2\n",
      "2\n",
      "2\n",
      "2\n",
      "2\n",
      "2\n",
      "2\n",
      "2\n",
      "2\n",
      "2\n",
      "2\n",
      "2\n",
      "2\n",
      "2\n",
      "2\n",
      "2\n",
      "2\n",
      "2\n",
      "2\n",
      "2\n",
      "2\n",
      "2\n",
      "2\n",
      "2\n",
      "2\n",
      "2\n",
      "2\n",
      "2\n",
      "2\n",
      "2\n",
      "2\n",
      "2\n",
      "2\n",
      "2\n",
      "2\n",
      "2\n",
      "2\n",
      "2\n",
      "2\n",
      "2\n",
      "2\n",
      "2\n",
      "2\n",
      "2\n",
      "2\n",
      "2\n",
      "2\n",
      "2\n",
      "2\n",
      "2\n",
      "2\n",
      "2\n",
      "2\n",
      "2\n",
      "2\n",
      "2\n",
      "2\n",
      "2\n",
      "2\n",
      "2\n",
      "2\n",
      "2\n",
      "2\n",
      "2\n",
      "2\n",
      "2\n",
      "2\n",
      "2\n",
      "2\n",
      "2\n",
      "2\n",
      "2\n",
      "2\n",
      "2\n",
      "2\n",
      "2\n",
      "2\n",
      "2\n",
      "2\n",
      "2\n",
      "2\n",
      "2\n",
      "2\n",
      "2\n",
      "2\n",
      "2\n",
      "2\n",
      "2\n",
      "2\n",
      "2\n",
      "2\n",
      "2\n",
      "2\n",
      "2\n",
      "2\n",
      "2\n",
      "2\n",
      "2\n",
      "2\n",
      "2\n",
      "2\n",
      "2\n",
      "2\n",
      "2\n",
      "2\n",
      "2\n",
      "2\n",
      "2\n",
      "2\n",
      "2\n",
      "2\n",
      "2\n",
      "2\n",
      "2\n",
      "2\n",
      "2\n",
      "2\n",
      "2\n",
      "2\n",
      "2\n",
      "2\n",
      "2\n",
      "2\n",
      "2\n",
      "2\n",
      "2\n",
      "2\n",
      "2\n",
      "2\n",
      "2\n",
      "2\n",
      "2\n",
      "2\n",
      "2\n",
      "2\n",
      "2\n",
      "2\n",
      "2\n",
      "2\n",
      "2\n",
      "2\n",
      "2\n",
      "2\n",
      "2\n",
      "2\n",
      "2\n",
      "2\n",
      "2\n",
      "2\n",
      "2\n",
      "2\n",
      "2\n",
      "2\n",
      "2\n",
      "2\n",
      "2\n",
      "2\n",
      "2\n",
      "2\n",
      "2\n",
      "2\n",
      "2\n",
      "2\n",
      "2\n",
      "2\n",
      "2\n",
      "2\n",
      "2\n",
      "2\n",
      "2\n",
      "2\n",
      "2\n",
      "2\n",
      "2\n",
      "2\n",
      "2\n",
      "2\n",
      "2\n",
      "2\n",
      "2\n",
      "2\n",
      "2\n",
      "2\n",
      "2\n",
      "2\n",
      "2\n",
      "2\n",
      "2\n",
      "2\n",
      "2\n",
      "2\n",
      "2\n",
      "2\n",
      "2\n",
      "2\n",
      "2\n",
      "2\n",
      "2\n",
      "2\n",
      "2\n",
      "2\n",
      "2\n",
      "2\n",
      "2\n",
      "2\n",
      "2\n",
      "2\n",
      "2\n",
      "2\n",
      "2\n",
      "2\n",
      "2\n",
      "2\n",
      "2\n",
      "2\n",
      "2\n",
      "2\n",
      "2\n",
      "2\n",
      "2\n",
      "2\n",
      "2\n",
      "2\n",
      "2\n",
      "2\n",
      "2\n",
      "2\n",
      "2\n",
      "2\n",
      "2\n",
      "2\n",
      "2\n",
      "2\n",
      "2\n",
      "2\n",
      "2\n",
      "2\n",
      "2\n",
      "2\n",
      "2\n",
      "2\n",
      "2\n",
      "2\n",
      "2\n",
      "2\n",
      "2\n",
      "2\n",
      "2\n",
      "2\n",
      "2\n",
      "2\n",
      "2\n"
     ]
    }
   ],
   "source": [
    "value_words=list(data_dict2.keys())\n",
    "attribute_words=list(set(data_dict1.keys()))\n",
    "key_words=value_words+attribute_words+['青葵','金葵','年享','商业银行']\n",
    "specific_words=['青葵','金葵','青葵','年享','商业银行']\n",
    "#保存为txt\n",
    "with open ('key_words.txt','w',encoding='UTF-8') as fu:\n",
    "         for k in key_words:\n",
    "            fu.write('%s\\n' %(k))\n",
    "for i in key_words:\n",
    "    if ('系列'==i):\n",
    "        print(1)\n",
    "    else:\n",
    "        print(2)"
   ]
  },
  {
   "cell_type": "code",
   "execution_count": 20,
   "metadata": {},
   "outputs": [],
   "source": [
    "import jieba.posseg as pseg\n",
    "import jieba\n",
    "jieba.load_userdict(\"glossary.txt\")\n",
    "jieba.load_userdict(\"key_words.txt\")\n",
    "import numpy as np\n",
    "import pandas as pd\n",
    "import sys\n",
    "import glob\n",
    "import os\n",
    "import re\n",
    "from dateutil.parser import parse\n",
    "from datetime import datetime"
   ]
  },
  {
   "cell_type": "code",
   "execution_count": 21,
   "metadata": {
    "scrolled": true
   },
   "outputs": [],
   "source": [
    "#调用停用词\n",
    "def loadPoorEnt1(path2 = 'stopwords.txt'):\n",
    "    txtfile1 = open(path2,encoding='GBK')\n",
    "    stop_words  = [line.strip() for line in txtfile1.readlines()]\n",
    "    return stop_words\n",
    "\n",
    "#调用金融词典\n",
    "def loadPoorEnt2(path2 = 'glossary.txt'):\n",
    "    txtfile2 = open(path2,encoding='UTF-8')\n",
    "    dicwords  = [line.strip() for line in txtfile2.readlines()]\n",
    "    return dicwords\n",
    "\n",
    "def simple_cut(words):\n",
    "    if '的' not in words and '是' not in words:\n",
    "        return None\n",
    "    word_list=re.split(r'的|是',words)\n",
    "    for word in word_list:\n",
    "        if word in stop_words:\n",
    "            word_list.remove(word)\n",
    "    return word_list\n",
    "\n",
    "# def product_name_cut(words):\n",
    "#     matchObj = re.match(r'(.*)[金青](.*)号', words)\n",
    "#     if matchObj == None:\n",
    "#         return None\n",
    "#     return matchObj.group(0)\n",
    "def product_name_cut(words):\n",
    "    matchObj = re.findall(r'([金青年].*?号)', words)\n",
    "    if matchObj == None:\n",
    "        return None\n",
    "    return matchObj\n",
    "\n",
    "\n",
    "def cut_inputwords(words):\n",
    "    \n",
    "    if isinstance(words,(int,float)):\n",
    "        #对数字进行转化，直接传\n",
    "        wordList=list(str(words))\n",
    "    else:  #如果不是数字\n",
    "        line = words.strip().encode('utf-8').decode('utf-8', 'ignore')      #去除首尾可能出现的空格，并转为Unicode进行处理\n",
    "        #line1 = re.sub(\"[0-9\\s+\\.\\!\\/_,$%^*()?;；:-【】+\\\"\\']+|[+——！，;:。？、~@#￥%……&*（）]+\".encode('utf-8').decode(\"utf8\"), \"\".encode('utf-8').decode(\"utf8\"),line)\n",
    "        wordList = list(jieba.cut(line,cut_all = True))   #用结巴分词，对内容进行分词\n",
    "        \n",
    "    outList = []\n",
    "    for word in wordList:\n",
    "        if word not in stop_words and word in str(key_words):\n",
    "            outList.append(word)\n",
    "            \n",
    "    outList=list(set(outList))\n",
    "    outList.sort(key = lambda i : len(i),reverse=True)\n",
    "    \n",
    "    simple_cut_result=simple_cut(words)\n",
    "    if simple_cut_result != None:\n",
    "        outList=simple_cut_result+outList\n",
    "        \n",
    "    product_name_result=product_name_cut(words)\n",
    "    if product_name_result != None:\n",
    "        outList=product_name_result+outList\n",
    "        \n",
    "    \n",
    "    #将分词好的结果以list输出输出\n",
    "    return outList\n",
    "\n",
    "#判断是否为数字\n",
    "def is_number(s):\n",
    "    try:\n",
    "        float(s)\n",
    "        return True\n",
    "    except ValueError:\n",
    "        pass\n",
    " \n",
    "    try:\n",
    "        import unicodedata\n",
    "        unicodedata.numeric(s)\n",
    "        return True\n",
    "    except (TypeError, ValueError):\n",
    "        pass\n",
    "    try:\n",
    "        s = re.compile(r'[^\\d]+').sub('', s)\n",
    "        float(s)\n",
    "        return True\n",
    "    except ValueError:\n",
    "        pass\n",
    "\n",
    "    return False\n",
    "\n",
    "#判断时间子串\n",
    "def is_date(text):\n",
    "    regex_list = ('\\d{4}年\\d{1,2}月\\d{1,2}日','\\d{4}年\\d{1,2}月','\\d{4}年')\n",
    "    for regex in regex_list:\n",
    "        pattern = re.compile(regex)\n",
    "        ret = pattern.search(text)\n",
    "        try:\n",
    "            if ret:\n",
    "                return True\n",
    "            else:\n",
    "                continue\n",
    "        except:\n",
    "            return False\n",
    "\n",
    "#针对非数字非日期文字\n",
    "def fuzzy_finder_subject(key, data,inputlist):\n",
    "    \"\"\"\n",
    "    模糊查找器\n",
    "    :param key: 关键字\n",
    "    :param data: 数据\n",
    "    :return: list\n",
    "    \"\"\"\n",
    "    # 结果列表\n",
    "    suggestions = []\n",
    "    # 非贪婪匹配，转换 'djm' 为 'd.*?j.*?m'\n",
    "    # pattern = '.*?'.join(key)\n",
    "    pattern = '.*%s.*'%(key)\n",
    "    # print(\"pattern\",pattern)\n",
    "    # 编译正则表达式\n",
    "    regex = re.compile(pattern)\n",
    "    #做一个是否有属性出现在用户输入语句的判断\n",
    "    flag=0\n",
    "    for i in data_dict1:\n",
    "        for attribute in inputlist:\n",
    "            unclear = '%s.*'%(attribute)\n",
    "            if re.compile(unclear).search(str(i)):\n",
    "                    flag=1\n",
    "    for item in data:\n",
    "        #print(\"item\",item['name'])\n",
    "        # 检查当前项是否与regex匹配。\n",
    "        match = regex.search(str(item))\n",
    "        if match:\n",
    "            if flag==1:\n",
    "                if 2.4*len(key)> len(str(item)):\n",
    "                    # 如果匹配，就添加到字典中\n",
    "                    suggestions.append({list(data.values())[list(data.keys()).index(item)]:item})\n",
    "                if ([list(suggestions[i].values()) for i in range(0,len(suggestions))] not in suggestions): #any(key in s for s in key_words)\n",
    "                    for i in specific_words:\n",
    "                        if key==i:\n",
    "                            suggestions.append({list(data.values())[list(data.keys()).index(item)]:key})\n",
    "            else:\n",
    "                for i in specific_words:\n",
    "                        if key==i:\n",
    "                            suggestions.append({list(data.values())[list(data.keys()).index(item)]:key})\n",
    "    return suggestions\n",
    "\n",
    "#其中含有数字\n",
    "def fuzzy_finder_digital(key, data,inputlist):\n",
    "    suggestions = []\n",
    "    if (re.compile('.*小.*').search(inputlist) or re.compile('.*低.*').search(inputlist)):\n",
    "        if list(data.values())[list(data.keys()).index(key)] not in {'认购起点','认购/申购上限'}:\n",
    "            if re.compile('.*上限.*').search(inputlist):\n",
    "                suggestions.append({list(data.values())[list(data.keys()).index(key)]:['上限','小于',key]})\n",
    "            elif re.compile('.*下限.*').search(inputlist):\n",
    "                suggestions.append({list(data.values())[list(data.keys()).index(key)]:['下限','大于',key]})\n",
    "            else:\n",
    "                suggestions.append({list(data.values())[list(data.keys()).index(key)]:['小于',key]})\n",
    "        else:\n",
    "            suggestions.append({list(data.values())[list(data.keys()).index(key)]:['小于',key]})\n",
    "    elif (re.compile('.*大.*').search(inputlist) or re.compile('.*高.*').search(inputlist)):\n",
    "        if (list(data.values())[list(data.keys()).index(key)] not in {'认购起点','认购/申购上限'}):\n",
    "            if re.compile('.*上限.*').search(inputlist):\n",
    "                suggestions.append({list(data.values())[list(data.keys()).index(key)]:['上限','大于',key]})\n",
    "            elif re.compile('.*下限.*').search(inputlist):\n",
    "                suggestions.append({list(data.values())[list(data.keys()).index(key)]:['下限','大于',key]})\n",
    "            else:\n",
    "                suggestions.append({list(data.values())[list(data.keys()).index(key)]:['大于',key]})\n",
    "        else:\n",
    "            suggestions.append({list(data.values())[list(data.keys()).index(key)]:['大于',key]})\n",
    "    else:\n",
    "            suggestions.append({list(data.values())[list(data.keys()).index(key)]:[key]})\n",
    "    return suggestions\n",
    "\n",
    "#其中含有日期\n",
    "def fuzzy_finder_date(key, data,inputlist):\n",
    "    suggestions = []\n",
    "    if re.compile('.*早.*').search(inputlist) or re.compile('.*前.*').search(inputlist) :\n",
    "        if re.compile('.*上限.*').search(inputlist):\n",
    "            suggestions.append({list(data.values())[list(data.keys()).index(key)]:['上限','小于',key]})\n",
    "        elif re.compile('.*下限.*').search(inputlist):\n",
    "            suggestions.append({list(data.values())[list(data.keys()).index(key)]:['下限','小于',key]})\n",
    "        else:\n",
    "            suggestions.append({list(data.values())[list(data.keys()).index(key)]:['小于',key]})\n",
    "    elif re.compile('.*晚.*').search(inputlist) or re.compile('.*后.*').search(inputlist):\n",
    "        if re.compile('.*上限.*').search(inputlist):\n",
    "            suggestions.append({list(data.values())[list(data.keys()).index(key)]:['上限','大于',key]})\n",
    "        elif re.compile('.*下限.*').search(inputlist):\n",
    "            suggestions.append({list(data.values())[list(data.keys()).index(key)]:['下限','大于',key]})\n",
    "        else:\n",
    "            suggestions.append({list(data.values())[list(data.keys()).index(key)]:['大于',key]})\n",
    "    else:\n",
    "            suggestions.append({list(data.values())[list(data.keys()).index(key)]:[key]})\n",
    "    return suggestions\n",
    "\n",
    "def fuzzy_finder_property(key, data):\n",
    "    suggestions = []\n",
    "    pattern = '.*%s.*'%(key)\n",
    "    regex = re.compile(pattern)\n",
    "    for item in data:\n",
    "        match = regex.search(str(item))\n",
    "        if match:\n",
    "            suggestions.append(item)\n",
    "    return suggestions\n"
   ]
  },
  {
   "cell_type": "code",
   "execution_count": 22,
   "metadata": {},
   "outputs": [],
   "source": [
    "dic_words=loadPoorEnt2()\n",
    "stop_words=loadPoorEnt1()"
   ]
  },
  {
   "cell_type": "code",
   "execution_count": 23,
   "metadata": {},
   "outputs": [],
   "source": [
    "#输入分词\n",
    "def search_detail(user_input):\n",
    "    cutWD = cut_inputwords(user_input)\n",
    "    print (\"分词完成，结果为：%s\" %cutWD)\n",
    "    \n",
    "    #输出的结果是{属性名：元素名}这样的一个字典\n",
    "    result_property = fuzzy_finder_property(user_input,data_dict1)\n",
    "    for key in cutWD:\n",
    "        result_property += fuzzy_finder_property(key,data_dict1)\n",
    "    \n",
    "    result_subject = fuzzy_finder_subject(user_input,data_dict2,result_property)\n",
    "    for key in cutWD:\n",
    "        #判断是否应该增加cutwd里的这个元素，考虑是否已经添加主体\n",
    "        #如果result_subject列表里不为空\n",
    "        if result_subject!=[]:\n",
    "            flag=0  #一个判定符，如果result_subject里吗存在任意一个包含key的产品主体，则被置为1\n",
    "            for i in result_subject:\n",
    "                if re.compile('.*%s.*'%(key)).search(str(i.values()))!=None:   #判断key值是否被包含在已有的主体中，如果是则不添加\n",
    "                    flag=1\n",
    "            if flag==0:\n",
    "                if (is_number(key)) and (key in key_words):\n",
    "                    result_subject += fuzzy_finder_digital(key,data_dict2,user_input)\n",
    "                elif (is_date(key)) and (key in key_words):\n",
    "                    result_subject += fuzzy_finder_date(key,data_dict2,user_input)\n",
    "                else:\n",
    "                    result_subject += fuzzy_finder_subject(key,data_dict2,result_property)\n",
    "        elif result_subject==[]:   #如果result_subject列表里为空，则可以不考虑是否其中存在的主体是不是会重复\n",
    "            if (is_number(key)) and (key in key_words) and ('年' not in key):\n",
    "                result_subject += fuzzy_finder_digital(key,data_dict2,user_input)\n",
    "            elif (is_date(key)) and (key in key_words):\n",
    "                result_subject += fuzzy_finder_date(key,data_dict2,user_input)\n",
    "            else:\n",
    "                result_subject += fuzzy_finder_subject(key,data_dict2,result_property)\n",
    "        \n",
    "        \n",
    "        \n",
    "    if result_subject != []:\n",
    "        result_subject=more_subject(result_subject)\n",
    "        print(\"*******************\")\n",
    "        print(\"需要查找主体:\"+str(result_subject))\n",
    "    else:\n",
    "        print(\"未找到需要搜索的主体\")\n",
    "        \n",
    "        \n",
    "        \n",
    "    if result_property != []:\n",
    "        print(\"*******************\")\n",
    "        #print(result_property)\n",
    "        if len(result_property)==1 and (result_property[0] in data_dict1.keys()):\n",
    "            print(\"需要查找属性:\"+str(result_property))\n",
    "        else:\n",
    "            result_property=more_property(result_subject,result_property,user_input,cutWD)\n",
    "            #print(result_property)\n",
    "            #print(\"*******************\")\n",
    "            if result_property == []:\n",
    "            #if result_property[0]==list(result_subject[0].keys())[0]:\n",
    "                print(\"需要查找属性:\"+\"产品名称\")\n",
    "            else:\n",
    "                print(\"需要查找属性:\"+str(result_property))\n",
    "    else:\n",
    "        print(\"未找到主体需要搜索的属性值\")\n",
    "\n",
    "\n",
    "        \n",
    "def more_subject(result_subject):\n",
    "    flag=True\n",
    "    temp=result_subject[0:1]\n",
    "    key=result_subject[0].keys()\n",
    "    for val in result_subject[1:]:\n",
    "        if val.keys()==key:\n",
    "            flag=False\n",
    "            if val not in temp:\n",
    "                temp.append(val)\n",
    "    if(flag):\n",
    "        for val in result_subject[1:]:\n",
    "                if val not in temp:\n",
    "                    temp.append(val)\n",
    "    return temp\n",
    "\n",
    "    \n",
    "def more_property(result_subject,result_property,words,cutWD):\n",
    "    temp=[]\n",
    "    delete_subject=[]\n",
    "    control=0\n",
    "    for i in range(len(result_subject)):\n",
    "        delete_subject += result_subject[i].keys()\n",
    "    #for val in result_property[0:]:\n",
    "    #    for i in data_dict1.keys():\n",
    "    #       if re.compile('%s.*'%val).search(str(i)):\n",
    "    #            control=1\n",
    "    #      else: \n",
    "    #            control=0\n",
    "    #      if (x in val for x in cutWD) and control==1 and (val not in delete_subject):\n",
    "    for val in result_property[0:]:\n",
    "        if val in cutWD and val in data_dict1.keys() and (val not in delete_subject):\n",
    "                if val not in temp:\n",
    "                    temp.append(val)\n",
    "    return temp\n",
    "\n",
    "# def change_to_dict(result_subject):\n",
    "#     new_result_subject={}\n",
    "#     new_subject=[]\n",
    "#     new_value=[]\n",
    "#     new_key=''\n",
    "#     for i in range(len(result_subject)):\n",
    "#         j=i+1\n",
    "#         for val in result_subject[j:]:\n",
    "#             new_key=str(result_subject[i].keys())[12:-3]\n",
    "#             #print(val.keys())\n",
    "#             if result_subject[i].keys()==val.keys():\n",
    "#                 temp_list=[]\n",
    "#                 temp_list.append(str(result_subject[i].values())[14:-3])\n",
    "#                 temp_list.append('或')\n",
    "#                 temp_list.append(str(val.values())[14:-3])\n",
    "#                 new_value.append(temp_list)\n",
    "#                 new_subject.append(new_key)\n",
    "#             else:\n",
    "#                 if new_subject!=[]:\n",
    "#                     for i in new_subject:\n",
    "#                         if new_key!=i:\n",
    "#                             new_subject.append(new_key)\n",
    "#                             new_value.append([str(result_subject[i].values())[14:-3]])\n",
    "#                 else:\n",
    "#                     new_subject.append(new_key)\n",
    "#                     new_value.append([str(result_subject[i].values())[14:-3]])\n",
    "#         if i==len(result_subject)-1:\n",
    "#             new_subject.append(str(result_subject[i].keys())[12:-3])\n",
    "#             new_value.append([str(result_subject[i].values())[14:-3]])\n",
    "#     new_result_subject = dict(map(lambda x,y:[x,y], new_subject,new_value))\n",
    "#     return new_result_subject"
   ]
  },
  {
   "cell_type": "code",
   "execution_count": null,
   "metadata": {
    "scrolled": true
   },
   "outputs": [
    {
     "name": "stdout",
     "output_type": "stream",
     "text": [
      "请你输入想要查找的内容: 青葵系列中到期日晚于2030年4月3日和晚于2030年10月14日的所有产品的募集方式和本金及理财收益\n",
      "分词完成，结果为：['青葵系列中到期日晚于2030年4月3日和晚于2030年10月14日', '所有产品', '募集方式和本金及理财收益', '2030年10月14日', '2030年4月3日', '本金及理财收益', '募集方式', '到期日', '理财', '青葵', '方式', '本金', '到期', '期日', '收益', '产品', '募集', '系列']\n",
      "*******************\n",
      "需要查找主体:[{'理财计划到期日': ['大于', '2030年10月14日']}, {'理财计划到期日': ['2030年4月3日']}]\n",
      "*******************\n",
      "需要查找属性:['本金及理财收益', '募集方式']\n",
      "\n",
      "\n"
     ]
    }
   ],
   "source": [
    "#语句测试\n",
    "while(True):\n",
    "    user_input = input('请你输入想要查找的内容: ')  # 获取用户输入信息\n",
    "    search_detail(user_input)\n",
    "    print('\\n')"
   ]
  },
  {
   "cell_type": "code",
   "execution_count": null,
   "metadata": {},
   "outputs": [
    {
     "name": "stdout",
     "output_type": "stream",
     "text": [
      "请你输入想要查找的内容: 募集方式为公募并且理财币种为人民币的产品名称和本金及理财收益\n",
      "分词完成，结果为：['募集方式为公募并且理财币种为人民币', '产品名称和本金及理财收益', '本金及理财收益', '理财币种', '产品名称', '募集方式', '人民币', '产品名', '收益', '产品', '名称', '募集', '品名', '公募', '币种', '理财', '本金', '方式']\n",
      "*******************\n",
      "需要查找主体:[{'理财币种': '人民币'}, {'募集方式': '公募发行'}]\n",
      "*******************\n",
      "需要查找属性:['本金及理财收益', '或', '产品名称']\n",
      "\n",
      "\n",
      "请你输入想要查找的内容: 青葵系列中到期日晚于2030年4月3日的所有产品的募集方式和本金及理财收益\n",
      "分词完成，结果为：['青葵系列中到期日晚于2030年4月3日', '所有产品', '募集方式和本金及理财收益', '2030年4月3日', '本金及理财收益', '募集方式', '到期日', '青葵', '收益', '到期', '产品', '募集', '期日', '系列', '理财', '本金', '方式']\n",
      "*******************\n",
      "需要查找主体:[{'理财计划到期日': ['大于', '2030年4月3日']}, {'产品名称': '青葵'}]\n",
      "*******************\n",
      "需要查找属性:['本金及理财收益', '或', '募集方式']\n",
      "\n",
      "\n",
      "请你输入想要查找的内容: 有什么是募集方式为公募并且理财币种为人民币的？它的产品名称和本金及理财收益？\n",
      "分词完成，结果为：['有什么', '募集方式为公募并且理财币种为人民币', '？它', '产品名称和本金及理财收益？', '本金及理财收益', '理财币种', '产品名称', '募集方式', '人民币', '产品名', '收益', '产品', '名称', '募集', '品名', '公募', '币种', '理财', '本金', '方式']\n",
      "*******************\n",
      "需要查找主体:[{'理财币种': '人民币'}, {'募集方式': '公募发行'}]\n",
      "*******************\n",
      "需要查找属性:['本金及理财收益', '或', '产品名称']\n",
      "\n",
      "\n"
     ]
    }
   ],
   "source": [
    "#语句测试\n",
    "while(True):\n",
    "    user_input = input('请你输入想要查找的内容: ')  # 获取用户输入信息\n",
    "    search_detail(user_input)\n",
    "    print('\\n')"
   ]
  },
  {
   "cell_type": "code",
   "execution_count": null,
   "metadata": {},
   "outputs": [],
   "source": [
    "金葵系列中到期日上限早于2030年4月3日的所有产品的募集方式\n",
    "青葵系列中到期日晚于2030年4月3日的所有产品的本金及理财收益\n",
    "业绩比较基准为3.5%-4.5%的产品\n",
    "认购起点大于2000份的\n",
    "招商银行美元金葵一年定开1号理财计划的产品代码\n",
    "招商银行美元金葵一年定开1号理财计划产品代码\n",
    "想问招商银行美元金葵一年定开1号理财计划产品代码\n",
    "美元金葵一年定开1号的本金及理财收益\n",
    "美元金葵一年定开1号本金\n",
    "C1030819001083的募集方式\n",
    "C1030819001083募集\n",
    "募集方式为公募发行\n",
    "募集方式为公募发行的产品\n",
    "理财币种为美元的产品 \n",
    "理财币种为美元的产品名称\n",
    "理财币种为美元和人民币的产品\n",
    "理财币种为美元和人民币产品\n",
    "招商银行美元金葵一年定开1号理财计划产品和青葵系列半年定开2号理财计划的产品代码\n",
    "青葵系列产品有什么？\n",
    "有什么金葵和青葵系列产品？\n",
    "有什么是募集方式为公募并且理财币种为人民币的？它的产品名称和本金及理财收益？\n",
    "募集方式为公募并且理财币种为人民币的产品名称和本金及理财收益"
   ]
  },
  {
   "cell_type": "code",
   "execution_count": 2,
   "metadata": {},
   "outputs": [],
   "source": [
    "#规范格式”上限-小于-值“\n",
    "def change_symbol(items):\n",
    "    output=[]\n",
    "    for item in items:\n",
    "        a=str(item.keys())[12:-3]\n",
    "        b=str(item.values())[14:-3]\n",
    "        item_list=\",\".join(str(i) for i in item.values())\n",
    "        if ('大于'in item_list) or ('小于' in item_list):\n",
    "            ste = re.sub(\"[A-Za-z\\!\\%\\[\\]\\,\\。\\-\\_\\']\", \"\", item_list)\n",
    "            ste = [re.sub(\"[\\ ]\", \"-\", ste)]\n",
    "            output.append({a:ste})\n",
    "        else:\n",
    "            output.append({a:b})\n",
    "    return output\n",
    "\n",
    "def change_to_dict(result_subject):\n",
    "        new_result_subject={}\n",
    "        new_subject=[]\n",
    "        new_value=[]\n",
    "        new_key=''\n",
    "        for i in range(len(result_subject)):\n",
    "            j=i+1\n",
    "            for val in result_subject[j:]:\n",
    "                new_key=str(result_subject[i].keys())[12:-3]\n",
    "                #print(val.keys())\n",
    "                if result_subject[i].keys()==val.keys():\n",
    "                    temp_list=[]\n",
    "                    temp_list.append(str(result_subject[i].values())[15:-3])\n",
    "                    temp_list.append('或')\n",
    "                    temp_list.append(str(val.values())[15:-3])\n",
    "                    new_value.append(temp_list)\n",
    "                    new_subject.append(new_key)\n",
    "                else:\n",
    "                    if new_subject!=[]:\n",
    "                        for i in new_subject:\n",
    "                            if new_key!=i:\n",
    "                                new_subject.append(new_key)\n",
    "                                new_value.append([str(result_subject[i].values())[15:-3]])\n",
    "                    else:\n",
    "                        new_subject.append(new_key)\n",
    "                        new_value.append([str(result_subject[i].values())[15:-3]])\n",
    "            if i==len(result_subject)-1:\n",
    "                for i in new_subject:\n",
    "                    if new_key!=i:\n",
    "                        new_subject.append(str(result_subject[i].keys())[12:-3])\n",
    "                        new_value.append([str(result_subject[i].values())[15:-3]])\n",
    "        new_result_subject = dict(map(lambda x,y:[x,y], new_subject,new_value))\n",
    "        return new_result_subject"
   ]
  },
  {
   "cell_type": "code",
   "execution_count": 3,
   "metadata": {},
   "outputs": [],
   "source": [
    "# result为你的re的原始的result_all\n",
    "def clean_re_result(result_1,result_2):\n",
    "    # 对re匹配的结果进行清洗\n",
    "    # 获取主体\n",
    "    object_ = result_1\n",
    "    obj = {}\n",
    "    attribute = {}\n",
    "    # 记录属性\n",
    "    return_ = result_2\n",
    "    # 完全的名字\n",
    "    data = pd.read_excel('理财产品属性.xlsx', index_col=0)\n",
    "    obj_name = ['产品名称', '产品代码', '产品登记编码']\n",
    "    complete_name = []\n",
    "    for col in ['产品名称', '产品代码', '产品登记编码']:\n",
    "        complete_name.append(list(data[col].map(lambda x: str(x)).values))\n",
    "    complete_name = sum(complete_name, [])\n",
    "\n",
    "    # 记录需要清理的属性\n",
    "    need_clean = []\n",
    "    for d in object_:\n",
    "        key = list(d.keys())[0]\n",
    "        if key in obj_name:\n",
    "            if d[key] in complete_name:\n",
    "                obj.setdefault(key, []).append(d[key])\n",
    "            else:\n",
    "                obj.setdefault('系列', []).append(d[key])\n",
    "        else:\n",
    "            need_clean.append(d)\n",
    "\n",
    "    # 将need_clean传入你的函数\n",
    "    result_1=change_symbol(need_clean)\n",
    "    result_2=change_to_dict(result_1)\n",
    "    \n",
    "    # 将你的函数结果传入clean_re_value函数中，返回命名为attribute, error\n",
    "    attribute,error=clean_re_value(result_2)\n",
    "    \n",
    "    return {'Object': obj, 'Attribute': attribute, 'Return': return_, 'Error': error}"
   ]
  },
  {
   "cell_type": "code",
   "execution_count": 4,
   "metadata": {},
   "outputs": [],
   "source": [
    "# result为你的函数的结果\n",
    "def clean_re_value(result):\n",
    "    attri = result\n",
    "    # 可以比较的属性中的数值型属性\n",
    "    number_attri = ['认购/申购上限', '业绩比较基准', '发行规模', '认购起点']\n",
    "    # 可以比较的属性中的日期属性\n",
    "    date_attri = ['理财计划到期日', '认购期', '认购登记日', '理财计划成立日']\n",
    "\n",
    "    Error = []\n",
    "\n",
    "    for a in list(attri.keys()):\n",
    "        if a in number_attri:\n",
    "            for idx, values in enumerate(attri[a]):\n",
    "                if values not in ['或', '并且']:\n",
    "                    value = values.split('-')[-1]\n",
    "                    # 使用正则表达式匹配数值\n",
    "                    pattern = re.compile(r'[0-9%.]+')\n",
    "                    data = pattern.findall(value)[0]\n",
    "                    # 规范数字格式\n",
    "                    if '%' in data:\n",
    "                        clean = data[:-1]\n",
    "                    elif '.' in data and float(data) < 1:\n",
    "                        clean = float(data) * 100\n",
    "                    else:\n",
    "                        clean = int(float(data))\n",
    "                        \n",
    "                if len(values.split('-')) == 1:\n",
    "                    attri[a][idx] = clean\n",
    "                else:\n",
    "                    l = values.split('-')\n",
    "                    l[-1] = clean\n",
    "                    attri[a][idx] = '-'.join(l)\n",
    "\n",
    "        elif a in date_attri:\n",
    "            for idx, values in enumerate(attri[a]):\n",
    "                if values not in ['或', '并且']:\n",
    "                    value = values.split('-')[-1]\n",
    "                    # 使用正则表达式匹配日期\n",
    "                    pattern = re.compile(r'\\d{4}[年\\-/]*\\d{0,2}[月\\-/]*\\d{0,2}[日]*')\n",
    "                    date = pattern.findall(value)[0]\n",
    "                    # 规范日期格式\n",
    "                    if '年' in date:\n",
    "                        year = date[:date.find('年')]\n",
    "                        month = date[date.find('年') + 1:date.find('月')] if date.find('月') != -1 else '01'\n",
    "                        day = date[date.find('月') + 1:date.find('日')] if date.find('日') != -1 else '01'\n",
    "                        clean = year + month + day\n",
    "                    else:\n",
    "                        try:\n",
    "                            clean = pd.to_datetime(date).strftime('%Y%m%d')\n",
    "                        except:\n",
    "                            Error.append(\n",
    "                                '请按照以下日期格式重新输入正确的日期！\\n格式一：2021年1月1日\\n格式二：2021-01-01\\n格式三：2021/01/01'\n",
    "                            )\n",
    "\n",
    "                    if len(values.split('-')) == 1:\n",
    "                        attri[a][idx] = clean\n",
    "                    else:\n",
    "                        l = values.split('-')\n",
    "                        l[-1] = clean\n",
    "                        attri[a][idx] = '-'.join(l)\n",
    "\n",
    "    return result, Error"
   ]
  },
  {
   "cell_type": "code",
   "execution_count": 14,
   "metadata": {},
   "outputs": [
    {
     "name": "stdout",
     "output_type": "stream",
     "text": [
      "{'Object': {}, 'Attribute': {'Attribute': {'理财币种': ['人民币'], '募集方式': ['公募发行']}}, 'Return': ['本金及理财收益', '产品名称'], 'Error': []}\n"
     ]
    }
   ],
   "source": [
    "result_subject=clean_re_result([{'理财币种': '人民币'}, {'募集方式': '公募发行'}],['本金及理财收益', '产品名称'])\n",
    "print(result_subject)"
   ]
  },
  {
   "cell_type": "code",
   "execution_count": 16,
   "metadata": {},
   "outputs": [
    {
     "name": "stdout",
     "output_type": "stream",
     "text": [
      "{'Object': {'系列': ['金葵']}, 'Attribute': {'Attribute': {'理财计划到期日': [\"'上限-小于-203043\"]}}, 'Return': ['募集方式'], 'Error': []}\n"
     ]
    }
   ],
   "source": [
    "result_subject=clean_re_result([{'理财计划到期日': ['上限', '小于', '2030年4月3日']}, {'产品名称': '金葵'}],['募集方式'])\n",
    "print(result_subject)"
   ]
  },
  {
   "cell_type": "code",
   "execution_count": 9,
   "metadata": {},
   "outputs": [
    {
     "name": "stdout",
     "output_type": "stream",
     "text": [
      "{'Object': {}, 'Attribute': {'理财计划到期日': ['上限-小于-20301014', '或', '203043']}, 'Return': ['募集方式'], 'Error': []}\n"
     ]
    }
   ],
   "source": [
    "result_subject=clean_re_result([{'理财计划到期日': ['上限', '小于', '2030年10月14日']}, {'理财计划到期日': ['2030年4月3日']}],['募集方式'])\n",
    "print(result_subject)"
   ]
  },
  {
   "cell_type": "code",
   "execution_count": null,
   "metadata": {},
   "outputs": [],
   "source": []
  }
 ],
 "metadata": {
  "kernelspec": {
   "display_name": "Python 3",
   "language": "python",
   "name": "python3"
  },
  "language_info": {
   "codemirror_mode": {
    "name": "ipython",
    "version": 3
   },
   "file_extension": ".py",
   "mimetype": "text/x-python",
   "name": "python",
   "nbconvert_exporter": "python",
   "pygments_lexer": "ipython3",
   "version": "3.7.10"
  },
  "toc": {
   "base_numbering": 1,
   "nav_menu": {},
   "number_sections": true,
   "sideBar": true,
   "skip_h1_title": true,
   "title_cell": "Table of Contents",
   "title_sidebar": "Contents",
   "toc_cell": false,
   "toc_position": {},
   "toc_section_display": true,
   "toc_window_display": false
  }
 },
 "nbformat": 4,
 "nbformat_minor": 4
}
