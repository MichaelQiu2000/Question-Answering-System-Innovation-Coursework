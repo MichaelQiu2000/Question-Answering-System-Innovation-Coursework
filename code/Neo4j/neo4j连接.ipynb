{
 "cells": [
  {
   "cell_type": "markdown",
   "id": "6743c0da",
   "metadata": {},
   "source": [
    "68.79.23.135:9204 http"
   ]
  },
  {
   "cell_type": "markdown",
   "id": "81b26897",
   "metadata": {},
   "source": [
    "68.79.23.135:5432 bolt"
   ]
  },
  {
   "cell_type": "code",
   "execution_count": 3,
   "id": "b6df4161",
   "metadata": {},
   "outputs": [],
   "source": [
    "from py2neo import Graph\n",
    "# 连接图数据库neo4j\n",
    "graph = Graph(\"bolt://68.79.23.135:5432\", auth=(\"neo4j\", \"123456\"))\n",
    "# # 清除当前所有节点和关系\n",
    "# graph.run(\"MATCH (n) OPTIONAL MATCH (n)-[r]-() DELETE n,r\")"
   ]
  },
  {
   "cell_type": "code",
   "execution_count": 19,
   "id": "eed6455c",
   "metadata": {},
   "outputs": [],
   "source": [
    "result = graph.run(\"MATCH (c:名称) RETURN c.name\").data()"
   ]
  },
  {
   "cell_type": "code",
   "execution_count": 20,
   "id": "abb2a6b6",
   "metadata": {},
   "outputs": [
    {
     "data": {
      "text/plain": [
       "[{'c.name': '招商银行年年享5号理财计划'},\n",
       " {'c.name': '招商银行年年享6号理财计划'},\n",
       " {'c.name': '招商银行美元金葵一年定开1号理财计划'},\n",
       " {'c.name': '招商银行美元金葵一年定开2号理财计划'},\n",
       " {'c.name': '招商银行美元金葵一年定开3号理财计划'},\n",
       " {'c.name': '招商银行美元金葵一年定开4号理财计划'},\n",
       " {'c.name': '招商银行美元金葵一年定开6号理财计划'},\n",
       " {'c.name': '招商银行美元金葵一年定开7号理财计划'},\n",
       " {'c.name': '招商银行美元金葵季季开1号理财计划'},\n",
       " {'c.name': '招商银行美元金葵季季开2号理财计划'},\n",
       " {'c.name': '招商银行美元金葵季季开3号理财计划'},\n",
       " {'c.name': '招商银行美元金葵季季开4号理财计划'},\n",
       " {'c.name': '招商银行美元金葵季季开5号理财计划'},\n",
       " {'c.name': '招商银行美元金葵季季开6号理财计划'},\n",
       " {'c.name': '招商银行零售青葵系列一年半定开1号理财计划'},\n",
       " {'c.name': '招商银行零售青葵系列一年半定开4号理财计划'},\n",
       " {'c.name': '招商银行零售青葵系列一年半定开5号理财计划'},\n",
       " {'c.name': '招商银行零售青葵系列一年定开1号理财计划'},\n",
       " {'c.name': '招商银行零售青葵系列一年定开8号理财计划'},\n",
       " {'c.name': '招商银行零售青葵系列一年定开9号理财计划'},\n",
       " {'c.name': '招商银行零售青葵系列半年定开2号理财计划'},\n",
       " {'c.name': '招商银行零售青葵系列半年定开3号理财计划'},\n",
       " {'c.name': '招商银行零售青葵系列半年定开4号理财计划'},\n",
       " {'c.name': '招商银行青葵系列一年半定开005号理财计划'},\n",
       " {'c.name': '招商银行青葵系列一年半定开006号理财计划'},\n",
       " {'c.name': '招商银行青葵系列一年半定开007号理财计划'},\n",
       " {'c.name': '招商银行青葵系列一年半定开008号理财计划'},\n",
       " {'c.name': '招商银行青葵系列一年半定开009号理财计划'},\n",
       " {'c.name': '招商银行青葵系列一年半定开010号理财计划'},\n",
       " {'c.name': '招商银行青葵系列一年半定开011号理财计划'},\n",
       " {'c.name': '招商银行青葵系列一年半定开012号理财计划'},\n",
       " {'c.name': '招商银行青葵系列一年定开004号理财计划'},\n",
       " {'c.name': '招商银行青葵系列两年定开001号理财计划'},\n",
       " {'c.name': '招商银行青葵系列两年定开002号理财计划'},\n",
       " {'c.name': '招商银行青葵系列两年定开003号理财计划'},\n",
       " {'c.name': '招商银行青葵系列两年定开004号理财计划'},\n",
       " {'c.name': '招商银行青葵系列两年定开005号理财计划'},\n",
       " {'c.name': '招商银行青葵系列两年定开006号理财计划'},\n",
       " {'c.name': '招商银行青葵系列两年定开007号理财计划'},\n",
       " {'c.name': '招商银行青葵系列两年定开008号理财计划'},\n",
       " {'c.name': '招商银行青葵系列两年定开009号理财计划'},\n",
       " {'c.name': '招商银行青葵系列两年定开010号理财计划'},\n",
       " {'c.name': '招商银行青葵系列两年定开011号理财计划'},\n",
       " {'c.name': '招商银行青葵系列两年定开012号理财计划'}]"
      ]
     },
     "execution_count": 20,
     "metadata": {},
     "output_type": "execute_result"
    }
   ],
   "source": [
    "result"
   ]
  }
 ],
 "metadata": {
  "kernelspec": {
   "display_name": "Python 3",
   "language": "python",
   "name": "python3"
  },
  "language_info": {
   "codemirror_mode": {
    "name": "ipython",
    "version": 3
   },
   "file_extension": ".py",
   "mimetype": "text/x-python",
   "name": "python",
   "nbconvert_exporter": "python",
   "pygments_lexer": "ipython3",
   "version": "3.7.10"
  },
  "toc": {
   "base_numbering": 1,
   "nav_menu": {},
   "number_sections": true,
   "sideBar": true,
   "skip_h1_title": true,
   "title_cell": "Table of Contents",
   "title_sidebar": "Contents",
   "toc_cell": false,
   "toc_position": {},
   "toc_section_display": true,
   "toc_window_display": false
  }
 },
 "nbformat": 4,
 "nbformat_minor": 5
}
